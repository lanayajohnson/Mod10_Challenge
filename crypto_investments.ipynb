{
 "cells": [
  {
   "cell_type": "markdown",
   "metadata": {},
   "source": [
    "# Module 10 Application\n",
    "\n",
    "## Challenge: Crypto Investments\n",
    "\n",
    "In this Challenge, you’ll combine your financial Python programming skills with the new unsupervised learning skills that you acquired in this module.\n",
    "\n",
    "The CSV file provided for this challenge contains price change data of cryptocurrencies in different periods.\n",
    "\n",
    "The steps for this challenge are broken out into the following sections:\n",
    "\n",
    "* Import the Data (provided in the starter code)\n",
    "* Prepare the Data (provided in the starter code)\n",
    "* Cluster Cryptocurrencies with K-means\n",
    "* Find the Best Value for k\n",
    "* Optimize Clusters with Principal Component Analysis\n",
    "* Visualize the Results"
   ]
  },
  {
   "cell_type": "markdown",
   "metadata": {},
   "source": [
    "### Import the Data\n",
    "\n",
    "This section imports the data into a new DataFrame. It follows these steps:\n",
    "\n",
    "1. Read  the “crypto_market_data.csv” file from the Resources folder into a DataFrame, and use `index_col=\"coin_id\"` to set the cryptocurrency name as the index. Review the DataFrame.\n",
    "\n",
    "2. Generate the summary statistics, and and use HvPlot to visualize your data to observe what your DataFrame contains.\n",
    "\n",
    "\n",
    "> **Rewind:** The [Pandas`describe()`function](https://pandas.pydata.org/pandas-docs/stable/reference/api/pandas.DataFrame.describe.html) generates summary statistics for a DataFrame. "
   ]
  },
  {
   "cell_type": "code",
   "execution_count": 206,
   "metadata": {},
   "outputs": [],
   "source": [
    "# Import required libraries and dependencies\n",
    "import pandas as pd\n",
    "import hvplot.pandas\n",
    "from path import Path\n",
    "from sklearn.cluster import KMeans\n",
    "from sklearn.decomposition import PCA\n",
    "from sklearn.preprocessing import StandardScaler"
   ]
  },
  {
   "cell_type": "code",
   "execution_count": 207,
   "metadata": {},
   "outputs": [
    {
     "data": {
      "text/html": [
       "<div>\n",
       "<style scoped>\n",
       "    .dataframe tbody tr th:only-of-type {\n",
       "        vertical-align: middle;\n",
       "    }\n",
       "\n",
       "    .dataframe tbody tr th {\n",
       "        vertical-align: top;\n",
       "    }\n",
       "\n",
       "    .dataframe thead th {\n",
       "        text-align: right;\n",
       "    }\n",
       "</style>\n",
       "<table border=\"1\" class=\"dataframe\">\n",
       "  <thead>\n",
       "    <tr style=\"text-align: right;\">\n",
       "      <th></th>\n",
       "      <th>price_change_percentage_24h</th>\n",
       "      <th>price_change_percentage_7d</th>\n",
       "      <th>price_change_percentage_14d</th>\n",
       "      <th>price_change_percentage_30d</th>\n",
       "      <th>price_change_percentage_60d</th>\n",
       "      <th>price_change_percentage_200d</th>\n",
       "      <th>price_change_percentage_1y</th>\n",
       "    </tr>\n",
       "    <tr>\n",
       "      <th>coin_id</th>\n",
       "      <th></th>\n",
       "      <th></th>\n",
       "      <th></th>\n",
       "      <th></th>\n",
       "      <th></th>\n",
       "      <th></th>\n",
       "      <th></th>\n",
       "    </tr>\n",
       "  </thead>\n",
       "  <tbody>\n",
       "    <tr>\n",
       "      <th>bitcoin</th>\n",
       "      <td>1.08388</td>\n",
       "      <td>7.60278</td>\n",
       "      <td>6.57509</td>\n",
       "      <td>7.67258</td>\n",
       "      <td>-3.25185</td>\n",
       "      <td>83.51840</td>\n",
       "      <td>37.51761</td>\n",
       "    </tr>\n",
       "    <tr>\n",
       "      <th>ethereum</th>\n",
       "      <td>0.22392</td>\n",
       "      <td>10.38134</td>\n",
       "      <td>4.80849</td>\n",
       "      <td>0.13169</td>\n",
       "      <td>-12.88890</td>\n",
       "      <td>186.77418</td>\n",
       "      <td>101.96023</td>\n",
       "    </tr>\n",
       "    <tr>\n",
       "      <th>tether</th>\n",
       "      <td>-0.21173</td>\n",
       "      <td>0.04935</td>\n",
       "      <td>0.00640</td>\n",
       "      <td>-0.04237</td>\n",
       "      <td>0.28037</td>\n",
       "      <td>-0.00542</td>\n",
       "      <td>0.01954</td>\n",
       "    </tr>\n",
       "    <tr>\n",
       "      <th>ripple</th>\n",
       "      <td>-0.37819</td>\n",
       "      <td>-0.60926</td>\n",
       "      <td>2.24984</td>\n",
       "      <td>0.23455</td>\n",
       "      <td>-17.55245</td>\n",
       "      <td>39.53888</td>\n",
       "      <td>-16.60193</td>\n",
       "    </tr>\n",
       "    <tr>\n",
       "      <th>bitcoin-cash</th>\n",
       "      <td>2.90585</td>\n",
       "      <td>17.09717</td>\n",
       "      <td>14.75334</td>\n",
       "      <td>15.74903</td>\n",
       "      <td>-13.71793</td>\n",
       "      <td>21.66042</td>\n",
       "      <td>14.49384</td>\n",
       "    </tr>\n",
       "    <tr>\n",
       "      <th>binancecoin</th>\n",
       "      <td>2.10423</td>\n",
       "      <td>12.85511</td>\n",
       "      <td>6.80688</td>\n",
       "      <td>0.05865</td>\n",
       "      <td>36.33486</td>\n",
       "      <td>155.61937</td>\n",
       "      <td>69.69195</td>\n",
       "    </tr>\n",
       "    <tr>\n",
       "      <th>chainlink</th>\n",
       "      <td>-0.23935</td>\n",
       "      <td>20.69459</td>\n",
       "      <td>9.30098</td>\n",
       "      <td>-11.21747</td>\n",
       "      <td>-43.69522</td>\n",
       "      <td>403.22917</td>\n",
       "      <td>325.13186</td>\n",
       "    </tr>\n",
       "    <tr>\n",
       "      <th>cardano</th>\n",
       "      <td>0.00322</td>\n",
       "      <td>13.99302</td>\n",
       "      <td>5.55476</td>\n",
       "      <td>10.10553</td>\n",
       "      <td>-22.84776</td>\n",
       "      <td>264.51418</td>\n",
       "      <td>156.09756</td>\n",
       "    </tr>\n",
       "    <tr>\n",
       "      <th>litecoin</th>\n",
       "      <td>-0.06341</td>\n",
       "      <td>6.60221</td>\n",
       "      <td>7.28931</td>\n",
       "      <td>1.21662</td>\n",
       "      <td>-17.23960</td>\n",
       "      <td>27.49919</td>\n",
       "      <td>-12.66408</td>\n",
       "    </tr>\n",
       "    <tr>\n",
       "      <th>bitcoin-cash-sv</th>\n",
       "      <td>0.92530</td>\n",
       "      <td>3.29641</td>\n",
       "      <td>-1.86656</td>\n",
       "      <td>2.88926</td>\n",
       "      <td>-24.87434</td>\n",
       "      <td>7.42562</td>\n",
       "      <td>93.73082</td>\n",
       "    </tr>\n",
       "  </tbody>\n",
       "</table>\n",
       "</div>"
      ],
      "text/plain": [
       "                 price_change_percentage_24h  price_change_percentage_7d  \\\n",
       "coin_id                                                                    \n",
       "bitcoin                              1.08388                     7.60278   \n",
       "ethereum                             0.22392                    10.38134   \n",
       "tether                              -0.21173                     0.04935   \n",
       "ripple                              -0.37819                    -0.60926   \n",
       "bitcoin-cash                         2.90585                    17.09717   \n",
       "binancecoin                          2.10423                    12.85511   \n",
       "chainlink                           -0.23935                    20.69459   \n",
       "cardano                              0.00322                    13.99302   \n",
       "litecoin                            -0.06341                     6.60221   \n",
       "bitcoin-cash-sv                      0.92530                     3.29641   \n",
       "\n",
       "                 price_change_percentage_14d  price_change_percentage_30d  \\\n",
       "coin_id                                                                     \n",
       "bitcoin                              6.57509                      7.67258   \n",
       "ethereum                             4.80849                      0.13169   \n",
       "tether                               0.00640                     -0.04237   \n",
       "ripple                               2.24984                      0.23455   \n",
       "bitcoin-cash                        14.75334                     15.74903   \n",
       "binancecoin                          6.80688                      0.05865   \n",
       "chainlink                            9.30098                    -11.21747   \n",
       "cardano                              5.55476                     10.10553   \n",
       "litecoin                             7.28931                      1.21662   \n",
       "bitcoin-cash-sv                     -1.86656                      2.88926   \n",
       "\n",
       "                 price_change_percentage_60d  price_change_percentage_200d  \\\n",
       "coin_id                                                                      \n",
       "bitcoin                             -3.25185                      83.51840   \n",
       "ethereum                           -12.88890                     186.77418   \n",
       "tether                               0.28037                      -0.00542   \n",
       "ripple                             -17.55245                      39.53888   \n",
       "bitcoin-cash                       -13.71793                      21.66042   \n",
       "binancecoin                         36.33486                     155.61937   \n",
       "chainlink                          -43.69522                     403.22917   \n",
       "cardano                            -22.84776                     264.51418   \n",
       "litecoin                           -17.23960                      27.49919   \n",
       "bitcoin-cash-sv                    -24.87434                       7.42562   \n",
       "\n",
       "                 price_change_percentage_1y  \n",
       "coin_id                                      \n",
       "bitcoin                            37.51761  \n",
       "ethereum                          101.96023  \n",
       "tether                              0.01954  \n",
       "ripple                            -16.60193  \n",
       "bitcoin-cash                       14.49384  \n",
       "binancecoin                        69.69195  \n",
       "chainlink                         325.13186  \n",
       "cardano                           156.09756  \n",
       "litecoin                          -12.66408  \n",
       "bitcoin-cash-sv                    93.73082  "
      ]
     },
     "execution_count": 207,
     "metadata": {},
     "output_type": "execute_result"
    }
   ],
   "source": [
    "# Load the data into a Pandas DataFrame\n",
    "df_market_data = pd.read_csv(\n",
    "    Path(\"Resources/crypto_market_data.csv\"),\n",
    "    index_col=\"coin_id\")\n",
    "\n",
    "# Display sample data\n",
    "df_market_data.head(10)"
   ]
  },
  {
   "cell_type": "code",
   "execution_count": 208,
   "metadata": {},
   "outputs": [
    {
     "data": {
      "text/html": [
       "<div>\n",
       "<style scoped>\n",
       "    .dataframe tbody tr th:only-of-type {\n",
       "        vertical-align: middle;\n",
       "    }\n",
       "\n",
       "    .dataframe tbody tr th {\n",
       "        vertical-align: top;\n",
       "    }\n",
       "\n",
       "    .dataframe thead th {\n",
       "        text-align: right;\n",
       "    }\n",
       "</style>\n",
       "<table border=\"1\" class=\"dataframe\">\n",
       "  <thead>\n",
       "    <tr style=\"text-align: right;\">\n",
       "      <th></th>\n",
       "      <th>price_change_percentage_24h</th>\n",
       "      <th>price_change_percentage_7d</th>\n",
       "      <th>price_change_percentage_14d</th>\n",
       "      <th>price_change_percentage_30d</th>\n",
       "      <th>price_change_percentage_60d</th>\n",
       "      <th>price_change_percentage_200d</th>\n",
       "      <th>price_change_percentage_1y</th>\n",
       "    </tr>\n",
       "  </thead>\n",
       "  <tbody>\n",
       "    <tr>\n",
       "      <th>count</th>\n",
       "      <td>41.000000</td>\n",
       "      <td>41.000000</td>\n",
       "      <td>41.000000</td>\n",
       "      <td>41.000000</td>\n",
       "      <td>41.000000</td>\n",
       "      <td>41.000000</td>\n",
       "      <td>41.000000</td>\n",
       "    </tr>\n",
       "    <tr>\n",
       "      <th>mean</th>\n",
       "      <td>-0.269686</td>\n",
       "      <td>4.497147</td>\n",
       "      <td>0.185787</td>\n",
       "      <td>1.545693</td>\n",
       "      <td>-0.094119</td>\n",
       "      <td>236.537432</td>\n",
       "      <td>347.667956</td>\n",
       "    </tr>\n",
       "    <tr>\n",
       "      <th>std</th>\n",
       "      <td>2.694793</td>\n",
       "      <td>6.375218</td>\n",
       "      <td>8.376939</td>\n",
       "      <td>26.344218</td>\n",
       "      <td>47.365803</td>\n",
       "      <td>435.225304</td>\n",
       "      <td>1247.842884</td>\n",
       "    </tr>\n",
       "    <tr>\n",
       "      <th>min</th>\n",
       "      <td>-13.527860</td>\n",
       "      <td>-6.094560</td>\n",
       "      <td>-18.158900</td>\n",
       "      <td>-34.705480</td>\n",
       "      <td>-44.822480</td>\n",
       "      <td>-0.392100</td>\n",
       "      <td>-17.567530</td>\n",
       "    </tr>\n",
       "    <tr>\n",
       "      <th>25%</th>\n",
       "      <td>-0.608970</td>\n",
       "      <td>0.047260</td>\n",
       "      <td>-5.026620</td>\n",
       "      <td>-10.438470</td>\n",
       "      <td>-25.907990</td>\n",
       "      <td>21.660420</td>\n",
       "      <td>0.406170</td>\n",
       "    </tr>\n",
       "    <tr>\n",
       "      <th>50%</th>\n",
       "      <td>-0.063410</td>\n",
       "      <td>3.296410</td>\n",
       "      <td>0.109740</td>\n",
       "      <td>-0.042370</td>\n",
       "      <td>-7.544550</td>\n",
       "      <td>83.905200</td>\n",
       "      <td>69.691950</td>\n",
       "    </tr>\n",
       "    <tr>\n",
       "      <th>75%</th>\n",
       "      <td>0.612090</td>\n",
       "      <td>7.602780</td>\n",
       "      <td>5.510740</td>\n",
       "      <td>4.578130</td>\n",
       "      <td>0.657260</td>\n",
       "      <td>216.177610</td>\n",
       "      <td>168.372510</td>\n",
       "    </tr>\n",
       "    <tr>\n",
       "      <th>max</th>\n",
       "      <td>4.840330</td>\n",
       "      <td>20.694590</td>\n",
       "      <td>24.239190</td>\n",
       "      <td>140.795700</td>\n",
       "      <td>223.064370</td>\n",
       "      <td>2227.927820</td>\n",
       "      <td>7852.089700</td>\n",
       "    </tr>\n",
       "  </tbody>\n",
       "</table>\n",
       "</div>"
      ],
      "text/plain": [
       "       price_change_percentage_24h  price_change_percentage_7d  \\\n",
       "count                    41.000000                   41.000000   \n",
       "mean                     -0.269686                    4.497147   \n",
       "std                       2.694793                    6.375218   \n",
       "min                     -13.527860                   -6.094560   \n",
       "25%                      -0.608970                    0.047260   \n",
       "50%                      -0.063410                    3.296410   \n",
       "75%                       0.612090                    7.602780   \n",
       "max                       4.840330                   20.694590   \n",
       "\n",
       "       price_change_percentage_14d  price_change_percentage_30d  \\\n",
       "count                    41.000000                    41.000000   \n",
       "mean                      0.185787                     1.545693   \n",
       "std                       8.376939                    26.344218   \n",
       "min                     -18.158900                   -34.705480   \n",
       "25%                      -5.026620                   -10.438470   \n",
       "50%                       0.109740                    -0.042370   \n",
       "75%                       5.510740                     4.578130   \n",
       "max                      24.239190                   140.795700   \n",
       "\n",
       "       price_change_percentage_60d  price_change_percentage_200d  \\\n",
       "count                    41.000000                     41.000000   \n",
       "mean                     -0.094119                    236.537432   \n",
       "std                      47.365803                    435.225304   \n",
       "min                     -44.822480                     -0.392100   \n",
       "25%                     -25.907990                     21.660420   \n",
       "50%                      -7.544550                     83.905200   \n",
       "75%                       0.657260                    216.177610   \n",
       "max                     223.064370                   2227.927820   \n",
       "\n",
       "       price_change_percentage_1y  \n",
       "count                   41.000000  \n",
       "mean                   347.667956  \n",
       "std                   1247.842884  \n",
       "min                    -17.567530  \n",
       "25%                      0.406170  \n",
       "50%                     69.691950  \n",
       "75%                    168.372510  \n",
       "max                   7852.089700  "
      ]
     },
     "execution_count": 208,
     "metadata": {},
     "output_type": "execute_result"
    }
   ],
   "source": [
    "# Generate summary statistics\n",
    "df_market_data.describe()"
   ]
  },
  {
   "cell_type": "code",
   "execution_count": 209,
   "metadata": {},
   "outputs": [
    {
     "data": {},
     "metadata": {},
     "output_type": "display_data"
    },
    {
     "data": {
      "application/vnd.holoviews_exec.v0+json": "",
      "text/html": [
       "<div id='18359'>\n",
       "\n",
       "\n",
       "\n",
       "\n",
       "\n",
       "  <div class=\"bk-root\" id=\"f667b64c-7401-46fb-84b3-e18575a16ca3\" data-root-id=\"18359\"></div>\n",
       "</div>\n",
       "<script type=\"application/javascript\">(function(root) {\n",
       "  function embed_document(root) {\n",
       "    var docs_json = {\"ce09a534-811c-47b9-ab7e-dbbd9a4e05be\":{\"defs\":[],\"roots\":{\"references\":[{\"attributes\":{\"line_alpha\":0.2,\"line_color\":\"#9467bd\",\"line_width\":2,\"x\":{\"field\":\"coin_id\"},\"y\":{\"field\":\"value\"}},\"id\":\"18561\",\"type\":\"Line\"},{\"attributes\":{\"data_source\":{\"id\":\"18556\"},\"glyph\":{\"id\":\"18559\"},\"hover_glyph\":null,\"muted_glyph\":{\"id\":\"18561\"},\"nonselection_glyph\":{\"id\":\"18560\"},\"selection_glyph\":{\"id\":\"18587\"},\"view\":{\"id\":\"18563\"}},\"id\":\"18562\",\"type\":\"GlyphRenderer\"},{\"attributes\":{\"line_alpha\":0.1,\"line_color\":\"#fc4f30\",\"line_width\":2,\"x\":{\"field\":\"coin_id\"},\"y\":{\"field\":\"value\"}},\"id\":\"18430\",\"type\":\"Line\"},{\"attributes\":{},\"id\":\"18473\",\"type\":\"Selection\"},{\"attributes\":{\"line_alpha\":0.2,\"line_color\":\"#6d904f\",\"line_width\":2,\"x\":{\"field\":\"coin_id\"},\"y\":{\"field\":\"value\"}},\"id\":\"18477\",\"type\":\"Line\"},{\"attributes\":{\"line_alpha\":0.1,\"line_color\":\"#6d904f\",\"line_width\":2,\"x\":{\"field\":\"coin_id\"},\"y\":{\"field\":\"value\"}},\"id\":\"18476\",\"type\":\"Line\"},{\"attributes\":{\"data_source\":{\"id\":\"18472\"},\"glyph\":{\"id\":\"18475\"},\"hover_glyph\":null,\"muted_glyph\":{\"id\":\"18477\"},\"nonselection_glyph\":{\"id\":\"18476\"},\"selection_glyph\":{\"id\":\"18497\"},\"view\":{\"id\":\"18479\"}},\"id\":\"18478\",\"type\":\"GlyphRenderer\"},{\"attributes\":{},\"id\":\"18584\",\"type\":\"UnionRenderers\"},{\"attributes\":{\"data\":{\"Variable\":[\"price_change_percentage_60d\",\"price_change_percentage_60d\",\"price_change_percentage_60d\",\"price_change_percentage_60d\",\"price_change_percentage_60d\",\"price_change_percentage_60d\",\"price_change_percentage_60d\",\"price_change_percentage_60d\",\"price_change_percentage_60d\",\"price_change_percentage_60d\",\"price_change_percentage_60d\",\"price_change_percentage_60d\",\"price_change_percentage_60d\",\"price_change_percentage_60d\",\"price_change_percentage_60d\",\"price_change_percentage_60d\",\"price_change_percentage_60d\",\"price_change_percentage_60d\",\"price_change_percentage_60d\",\"price_change_percentage_60d\",\"price_change_percentage_60d\",\"price_change_percentage_60d\",\"price_change_percentage_60d\",\"price_change_percentage_60d\",\"price_change_percentage_60d\",\"price_change_percentage_60d\",\"price_change_percentage_60d\",\"price_change_percentage_60d\",\"price_change_percentage_60d\",\"price_change_percentage_60d\",\"price_change_percentage_60d\",\"price_change_percentage_60d\",\"price_change_percentage_60d\",\"price_change_percentage_60d\",\"price_change_percentage_60d\",\"price_change_percentage_60d\",\"price_change_percentage_60d\",\"price_change_percentage_60d\",\"price_change_percentage_60d\",\"price_change_percentage_60d\",\"price_change_percentage_60d\"],\"coin_id\":[\"bitcoin\",\"ethereum\",\"tether\",\"ripple\",\"bitcoin-cash\",\"binancecoin\",\"chainlink\",\"cardano\",\"litecoin\",\"bitcoin-cash-sv\",\"crypto-com-chain\",\"usd-coin\",\"eos\",\"monero\",\"tron\",\"tezos\",\"okb\",\"stellar\",\"cosmos\",\"cdai\",\"neo\",\"wrapped-bitcoin\",\"leo-token\",\"huobi-token\",\"nem\",\"binance-usd\",\"iota\",\"vechain\",\"zcash\",\"theta-token\",\"dash\",\"ethereum-classic\",\"ethlend\",\"maker\",\"havven\",\"omisego\",\"celsius-degree-token\",\"ontology\",\"ftx-token\",\"true-usd\",\"digibyte\"],\"value\":{\"__ndarray__\":\"FvvL7skDCsAs1JrmHccpwKjjMQOV8dE/2qz6XG2NMcBzol2FlG8rwIleRrHcKkJAN8MN+PzYRcBi26LMBtk2wCEf9GxWPTHAq5UJv9TfOMBg5dAi23kwwDygbMoV3qU/l631RUIrPsDNzMzMzNxEQJm7lpAPGhZAms5OBkdpRsBKe4MvTKYGwEsfuqC+zT7APL1SliHOHMC4AZ8fRgjlP9L7xteeCStAFqQZi6azDMCvJeSDni0ewDeOWItPQQvAXvQVpBm3VEDaOGItPgW4PwpLPKBsQkHAaw4QzNHPRcAJM23/yoo0wBmQvd79AVRAfa62Yn85OsBVGFsIcug5wLCsNCkFHQFA529CIQKeMsA0uoPYmbZDwPKwUGua0VNA/pqsUQ/ia0Ao8iTpmllAwFuxv+yenBdAmrFoOjsZ0D8s1JrmHRc/wA==\",\"dtype\":\"float64\",\"order\":\"little\",\"shape\":[41]}},\"selected\":{\"id\":\"18499\"},\"selection_policy\":{\"id\":\"18522\"}},\"id\":\"18498\",\"type\":\"ColumnDataSource\"},{\"attributes\":{\"source\":{\"id\":\"18556\"}},\"id\":\"18563\",\"type\":\"CDSView\"},{\"attributes\":{\"line_color\":\"#6d904f\",\"line_width\":2,\"x\":{\"field\":\"coin_id\"},\"y\":{\"field\":\"value\"}},\"id\":\"18475\",\"type\":\"Line\"},{\"attributes\":{\"data\":{\"Variable\":[\"price_change_percentage_7d\",\"price_change_percentage_7d\",\"price_change_percentage_7d\",\"price_change_percentage_7d\",\"price_change_percentage_7d\",\"price_change_percentage_7d\",\"price_change_percentage_7d\",\"price_change_percentage_7d\",\"price_change_percentage_7d\",\"price_change_percentage_7d\",\"price_change_percentage_7d\",\"price_change_percentage_7d\",\"price_change_percentage_7d\",\"price_change_percentage_7d\",\"price_change_percentage_7d\",\"price_change_percentage_7d\",\"price_change_percentage_7d\",\"price_change_percentage_7d\",\"price_change_percentage_7d\",\"price_change_percentage_7d\",\"price_change_percentage_7d\",\"price_change_percentage_7d\",\"price_change_percentage_7d\",\"price_change_percentage_7d\",\"price_change_percentage_7d\",\"price_change_percentage_7d\",\"price_change_percentage_7d\",\"price_change_percentage_7d\",\"price_change_percentage_7d\",\"price_change_percentage_7d\",\"price_change_percentage_7d\",\"price_change_percentage_7d\",\"price_change_percentage_7d\",\"price_change_percentage_7d\",\"price_change_percentage_7d\",\"price_change_percentage_7d\",\"price_change_percentage_7d\",\"price_change_percentage_7d\",\"price_change_percentage_7d\",\"price_change_percentage_7d\",\"price_change_percentage_7d\"],\"coin_id\":[\"bitcoin\",\"ethereum\",\"tether\",\"ripple\",\"bitcoin-cash\",\"binancecoin\",\"chainlink\",\"cardano\",\"litecoin\",\"bitcoin-cash-sv\",\"crypto-com-chain\",\"usd-coin\",\"eos\",\"monero\",\"tron\",\"tezos\",\"okb\",\"stellar\",\"cosmos\",\"cdai\",\"neo\",\"wrapped-bitcoin\",\"leo-token\",\"huobi-token\",\"nem\",\"binance-usd\",\"iota\",\"vechain\",\"zcash\",\"theta-token\",\"dash\",\"ethereum-classic\",\"ethlend\",\"maker\",\"havven\",\"omisego\",\"celsius-degree-token\",\"ontology\",\"ftx-token\",\"true-usd\",\"digibyte\"],\"value\":{\"__ndarray__\":\"RbsKKT9pHkAzUBn/PsMkQL99HThnRKk/yVnY0w5/47/+JhQi4BgxQBL3WPrQtSlA7yB2ptCxNEA/jBAebfwrQPFL/bypaBpArKjBNAxfCkByv0NRoK8WwPlJtU/HY76/lPsdigL99L+n6Egu/5EvQE1KQbeX9BBA0m9fB87pIUBlU67wLjcSwKbtX1lpkgBAZwqd19gVMEBcIEHxY8ytP3wnZr0YigNAOh4zUBmfHUD3Hi457pT1vzNQGf8+4/k/kQ96Nqs+6781Y9F0djKoP2dEaW/wRRhAgXhdv2A3/L/8GHPXErIkQP8JLlbUYBjAVU0QdR9gFEDRlnMprmoIQGCrBIvD2RBAAiuHFtlOIECbG9MTllgRQKhXyjLEURtAqn06HjNQ4z+UvDrHgGzzvwltOZfiahxAsD2zJEBNxT8yj/zBwHPlPw==\",\"dtype\":\"float64\",\"order\":\"little\",\"shape\":[41]}},\"selected\":{\"id\":\"18427\"},\"selection_policy\":{\"id\":\"18444\"}},\"id\":\"18426\",\"type\":\"ColumnDataSource\"},{\"attributes\":{\"line_color\":\"#8b8b8b\",\"line_width\":2,\"x\":{\"field\":\"coin_id\"},\"y\":{\"field\":\"value\"}},\"id\":\"18501\",\"type\":\"Line\"},{\"attributes\":{\"bottom_units\":\"screen\",\"fill_alpha\":0.5,\"fill_color\":\"lightgrey\",\"left_units\":\"screen\",\"level\":\"overlay\",\"line_alpha\":1.0,\"line_color\":\"black\",\"line_dash\":[4,4],\"line_width\":2,\"right_units\":\"screen\",\"syncable\":false,\"top_units\":\"screen\"},\"id\":\"18391\",\"type\":\"BoxAnnotation\"},{\"attributes\":{\"below\":[{\"id\":\"18379\"}],\"center\":[{\"id\":\"18381\"},{\"id\":\"18385\"}],\"height\":400,\"left\":[{\"id\":\"18382\"}],\"margin\":[5,5,5,5],\"min_border_bottom\":10,\"min_border_left\":10,\"min_border_right\":10,\"min_border_top\":10,\"renderers\":[{\"id\":\"18411\"},{\"id\":\"18432\"},{\"id\":\"18454\"},{\"id\":\"18478\"},{\"id\":\"18504\"},{\"id\":\"18532\"},{\"id\":\"18562\"}],\"right\":[{\"id\":\"18423\"}],\"sizing_mode\":\"fixed\",\"title\":{\"id\":\"18371\"},\"toolbar\":{\"id\":\"18392\"},\"width\":800,\"x_range\":{\"id\":\"18361\"},\"x_scale\":{\"id\":\"18375\"},\"y_range\":{\"id\":\"18362\"},\"y_scale\":{\"id\":\"18377\"}},\"id\":\"18370\",\"subtype\":\"Figure\",\"type\":\"Plot\"},{\"attributes\":{\"factors\":[\"bitcoin\",\"ethereum\",\"tether\",\"ripple\",\"bitcoin-cash\",\"binancecoin\",\"chainlink\",\"cardano\",\"litecoin\",\"bitcoin-cash-sv\",\"crypto-com-chain\",\"usd-coin\",\"eos\",\"monero\",\"tron\",\"tezos\",\"okb\",\"stellar\",\"cosmos\",\"cdai\",\"neo\",\"wrapped-bitcoin\",\"leo-token\",\"huobi-token\",\"nem\",\"binance-usd\",\"iota\",\"vechain\",\"zcash\",\"theta-token\",\"dash\",\"ethereum-classic\",\"ethlend\",\"maker\",\"havven\",\"omisego\",\"celsius-degree-token\",\"ontology\",\"ftx-token\",\"true-usd\",\"digibyte\"],\"tags\":[[[\"coin_id\",\"coin_id\",null]]]},\"id\":\"18361\",\"type\":\"FactorRange\"},{\"attributes\":{},\"id\":\"18468\",\"type\":\"UnionRenderers\"},{\"attributes\":{\"label\":{\"value\":\"price_change_percentage_60d\"},\"renderers\":[{\"id\":\"18504\"}]},\"id\":\"18524\",\"type\":\"LegendItem\"},{\"attributes\":{},\"id\":\"18494\",\"type\":\"UnionRenderers\"},{\"attributes\":{\"line_alpha\":0.2,\"line_color\":\"#fc4f30\",\"line_width\":2,\"x\":{\"field\":\"coin_id\"},\"y\":{\"field\":\"value\"}},\"id\":\"18431\",\"type\":\"Line\"},{\"attributes\":{},\"id\":\"18552\",\"type\":\"UnionRenderers\"},{\"attributes\":{\"line_alpha\":0.1,\"line_color\":\"#30a2da\",\"line_width\":2,\"x\":{\"field\":\"coin_id\"},\"y\":{\"field\":\"value\"}},\"id\":\"18409\",\"type\":\"Line\"},{\"attributes\":{\"line_color\":\"#e5ae38\",\"line_width\":2,\"x\":{\"field\":\"coin_id\"},\"y\":{\"field\":\"value\"}},\"id\":\"18471\",\"type\":\"Line\"},{\"attributes\":{\"data_source\":{\"id\":\"18405\"},\"glyph\":{\"id\":\"18408\"},\"hover_glyph\":null,\"muted_glyph\":{\"id\":\"18410\"},\"nonselection_glyph\":{\"id\":\"18409\"},\"selection_glyph\":{\"id\":\"18425\"},\"view\":{\"id\":\"18412\"}},\"id\":\"18411\",\"type\":\"GlyphRenderer\"},{\"attributes\":{\"children\":[{\"id\":\"18360\"},{\"id\":\"18370\"},{\"id\":\"18786\"}],\"margin\":[0,0,0,0],\"name\":\"Row38863\",\"tags\":[\"embedded\"]},\"id\":\"18359\",\"type\":\"Row\"},{\"attributes\":{\"source\":{\"id\":\"18472\"}},\"id\":\"18479\",\"type\":\"CDSView\"},{\"attributes\":{\"label\":{\"value\":\"price_change_percentage_7d\"},\"renderers\":[{\"id\":\"18432\"}]},\"id\":\"18446\",\"type\":\"LegendItem\"},{\"attributes\":{\"source\":{\"id\":\"18426\"}},\"id\":\"18433\",\"type\":\"CDSView\"},{\"attributes\":{\"line_color\":\"#6d904f\",\"line_width\":2,\"x\":{\"field\":\"coin_id\"},\"y\":{\"field\":\"value\"}},\"id\":\"18497\",\"type\":\"Line\"},{\"attributes\":{},\"id\":\"18499\",\"type\":\"Selection\"},{\"attributes\":{\"axis\":{\"id\":\"18382\"},\"dimension\":1,\"grid_line_color\":null,\"ticker\":null},\"id\":\"18385\",\"type\":\"Grid\"},{\"attributes\":{\"line_color\":\"#9467bd\",\"line_width\":2,\"x\":{\"field\":\"coin_id\"},\"y\":{\"field\":\"value\"}},\"id\":\"18587\",\"type\":\"Line\"},{\"attributes\":{},\"id\":\"18375\",\"type\":\"CategoricalScale\"},{\"attributes\":{\"margin\":[5,5,5,5],\"name\":\"HSpacer38867\",\"sizing_mode\":\"stretch_width\"},\"id\":\"18360\",\"type\":\"Spacer\"},{\"attributes\":{\"margin\":[5,5,5,5],\"name\":\"HSpacer38868\",\"sizing_mode\":\"stretch_width\"},\"id\":\"18786\",\"type\":\"Spacer\"},{\"attributes\":{},\"id\":\"18444\",\"type\":\"UnionRenderers\"},{\"attributes\":{\"line_color\":\"#17becf\",\"line_width\":2,\"x\":{\"field\":\"coin_id\"},\"y\":{\"field\":\"value\"}},\"id\":\"18529\",\"type\":\"Line\"},{\"attributes\":{},\"id\":\"18421\",\"type\":\"UnionRenderers\"},{\"attributes\":{\"data_source\":{\"id\":\"18498\"},\"glyph\":{\"id\":\"18501\"},\"hover_glyph\":null,\"muted_glyph\":{\"id\":\"18503\"},\"nonselection_glyph\":{\"id\":\"18502\"},\"selection_glyph\":{\"id\":\"18525\"},\"view\":{\"id\":\"18505\"}},\"id\":\"18504\",\"type\":\"GlyphRenderer\"},{\"attributes\":{\"line_color\":\"#30a2da\",\"line_width\":2,\"x\":{\"field\":\"coin_id\"},\"y\":{\"field\":\"value\"}},\"id\":\"18425\",\"type\":\"Line\"},{\"attributes\":{},\"id\":\"18380\",\"type\":\"CategoricalTicker\"},{\"attributes\":{\"data\":{\"Variable\":[\"price_change_percentage_14d\",\"price_change_percentage_14d\",\"price_change_percentage_14d\",\"price_change_percentage_14d\",\"price_change_percentage_14d\",\"price_change_percentage_14d\",\"price_change_percentage_14d\",\"price_change_percentage_14d\",\"price_change_percentage_14d\",\"price_change_percentage_14d\",\"price_change_percentage_14d\",\"price_change_percentage_14d\",\"price_change_percentage_14d\",\"price_change_percentage_14d\",\"price_change_percentage_14d\",\"price_change_percentage_14d\",\"price_change_percentage_14d\",\"price_change_percentage_14d\",\"price_change_percentage_14d\",\"price_change_percentage_14d\",\"price_change_percentage_14d\",\"price_change_percentage_14d\",\"price_change_percentage_14d\",\"price_change_percentage_14d\",\"price_change_percentage_14d\",\"price_change_percentage_14d\",\"price_change_percentage_14d\",\"price_change_percentage_14d\",\"price_change_percentage_14d\",\"price_change_percentage_14d\",\"price_change_percentage_14d\",\"price_change_percentage_14d\",\"price_change_percentage_14d\",\"price_change_percentage_14d\",\"price_change_percentage_14d\",\"price_change_percentage_14d\",\"price_change_percentage_14d\",\"price_change_percentage_14d\",\"price_change_percentage_14d\",\"price_change_percentage_14d\",\"price_change_percentage_14d\"],\"coin_id\":[\"bitcoin\",\"ethereum\",\"tether\",\"ripple\",\"bitcoin-cash\",\"binancecoin\",\"chainlink\",\"cardano\",\"litecoin\",\"bitcoin-cash-sv\",\"crypto-com-chain\",\"usd-coin\",\"eos\",\"monero\",\"tron\",\"tezos\",\"okb\",\"stellar\",\"cosmos\",\"cdai\",\"neo\",\"wrapped-bitcoin\",\"leo-token\",\"huobi-token\",\"nem\",\"binance-usd\",\"iota\",\"vechain\",\"zcash\",\"theta-token\",\"dash\",\"ethereum-classic\",\"ethlend\",\"maker\",\"havven\",\"omisego\",\"celsius-degree-token\",\"ontology\",\"ftx-token\",\"true-usd\",\"digibyte\"],\"value\":{\"__ndarray__\":\"zQaZZORMGkB5knTN5DsTQC1DHOviNno/ctwpHaz/AUCLic3HtYEtQJgvL8A+OhtACoDxDBqaIkAOhGQBEzgWQICfceFAKB1AIVnABG7d/b8xsfm4NhQhwGtI3GPpQ3e/pfeNrz0z8j8ao3VUNWkyQBUA4xk0dPY/VIzzN6GQAkCXrfVFQhsUwKpla32RUPG/Qgkzbf8KFkDPg7uzdtvFP8MN+PwwsiPAYFlpUgo6GkB3+GuyRh0cwM2v5gDBHN0/jliLTwEwBUDWrZ6T3jeuP7pOIy2VNw7Am1Wfq60oMsAJM23/yioXQJfK2xFOSxrAQE0tW+uL4D9OucK7XET0v0SLbOf7mSPA/pqsUQ/R978vaYzWUZUqwDtT6LzGbirAvodLjjs9OEByUMJM2x8lwJ30vvG1Z8q/ZCMQr+sXvD+7D0BqE0cdwA==\",\"dtype\":\"float64\",\"order\":\"little\",\"shape\":[41]}},\"selected\":{\"id\":\"18449\"},\"selection_policy\":{\"id\":\"18468\"}},\"id\":\"18448\",\"type\":\"ColumnDataSource\"},{\"attributes\":{\"click_policy\":\"mute\",\"items\":[{\"id\":\"18424\"},{\"id\":\"18446\"},{\"id\":\"18470\"},{\"id\":\"18496\"},{\"id\":\"18524\"},{\"id\":\"18554\"},{\"id\":\"18586\"}],\"location\":[0,0],\"title\":\"Variable\"},\"id\":\"18423\",\"type\":\"Legend\"},{\"attributes\":{\"axis_label\":\"coin_id\",\"formatter\":{\"id\":\"18401\"},\"major_label_orientation\":1.5707963267948966,\"major_label_policy\":{\"id\":\"18400\"},\"ticker\":{\"id\":\"18380\"}},\"id\":\"18379\",\"type\":\"CategoricalAxis\"},{\"attributes\":{\"line_alpha\":0.2,\"line_color\":\"#30a2da\",\"line_width\":2,\"x\":{\"field\":\"coin_id\"},\"y\":{\"field\":\"value\"}},\"id\":\"18410\",\"type\":\"Line\"},{\"attributes\":{\"label\":{\"value\":\"price_change_percentage_14d\"},\"renderers\":[{\"id\":\"18454\"}]},\"id\":\"18470\",\"type\":\"LegendItem\"},{\"attributes\":{\"line_alpha\":0.2,\"line_color\":\"#8b8b8b\",\"line_width\":2,\"x\":{\"field\":\"coin_id\"},\"y\":{\"field\":\"value\"}},\"id\":\"18503\",\"type\":\"Line\"},{\"attributes\":{},\"id\":\"18377\",\"type\":\"LinearScale\"},{\"attributes\":{\"text_color\":\"black\",\"text_font_size\":\"12pt\"},\"id\":\"18371\",\"type\":\"Title\"},{\"attributes\":{\"line_color\":\"#30a2da\",\"line_width\":2,\"x\":{\"field\":\"coin_id\"},\"y\":{\"field\":\"value\"}},\"id\":\"18408\",\"type\":\"Line\"},{\"attributes\":{\"source\":{\"id\":\"18405\"}},\"id\":\"18412\",\"type\":\"CDSView\"},{\"attributes\":{\"line_alpha\":0.1,\"line_color\":\"#8b8b8b\",\"line_width\":2,\"x\":{\"field\":\"coin_id\"},\"y\":{\"field\":\"value\"}},\"id\":\"18502\",\"type\":\"Line\"},{\"attributes\":{\"axis\":{\"id\":\"18379\"},\"grid_line_color\":null,\"ticker\":null},\"id\":\"18381\",\"type\":\"Grid\"},{\"attributes\":{\"source\":{\"id\":\"18498\"}},\"id\":\"18505\",\"type\":\"CDSView\"},{\"attributes\":{},\"id\":\"18383\",\"type\":\"BasicTicker\"},{\"attributes\":{\"line_color\":\"#fc4f30\",\"line_width\":2,\"x\":{\"field\":\"coin_id\"},\"y\":{\"field\":\"value\"}},\"id\":\"18429\",\"type\":\"Line\"},{\"attributes\":{\"axis_label\":\"\",\"formatter\":{\"id\":\"18404\"},\"major_label_policy\":{\"id\":\"18403\"},\"ticker\":{\"id\":\"18383\"}},\"id\":\"18382\",\"type\":\"LinearAxis\"},{\"attributes\":{},\"id\":\"18427\",\"type\":\"Selection\"},{\"attributes\":{\"data_source\":{\"id\":\"18426\"},\"glyph\":{\"id\":\"18429\"},\"hover_glyph\":null,\"muted_glyph\":{\"id\":\"18431\"},\"nonselection_glyph\":{\"id\":\"18430\"},\"selection_glyph\":{\"id\":\"18447\"},\"view\":{\"id\":\"18433\"}},\"id\":\"18432\",\"type\":\"GlyphRenderer\"},{\"attributes\":{},\"id\":\"18522\",\"type\":\"UnionRenderers\"},{\"attributes\":{},\"id\":\"18403\",\"type\":\"AllLabels\"},{\"attributes\":{\"line_color\":\"#8b8b8b\",\"line_width\":2,\"x\":{\"field\":\"coin_id\"},\"y\":{\"field\":\"value\"}},\"id\":\"18525\",\"type\":\"Line\"},{\"attributes\":{},\"id\":\"18404\",\"type\":\"BasicTickFormatter\"},{\"attributes\":{\"line_color\":\"#fc4f30\",\"line_width\":2,\"x\":{\"field\":\"coin_id\"},\"y\":{\"field\":\"value\"}},\"id\":\"18447\",\"type\":\"Line\"},{\"attributes\":{\"line_color\":\"#e5ae38\",\"line_width\":2,\"x\":{\"field\":\"coin_id\"},\"y\":{\"field\":\"value\"}},\"id\":\"18451\",\"type\":\"Line\"},{\"attributes\":{\"data\":{\"Variable\":[\"price_change_percentage_200d\",\"price_change_percentage_200d\",\"price_change_percentage_200d\",\"price_change_percentage_200d\",\"price_change_percentage_200d\",\"price_change_percentage_200d\",\"price_change_percentage_200d\",\"price_change_percentage_200d\",\"price_change_percentage_200d\",\"price_change_percentage_200d\",\"price_change_percentage_200d\",\"price_change_percentage_200d\",\"price_change_percentage_200d\",\"price_change_percentage_200d\",\"price_change_percentage_200d\",\"price_change_percentage_200d\",\"price_change_percentage_200d\",\"price_change_percentage_200d\",\"price_change_percentage_200d\",\"price_change_percentage_200d\",\"price_change_percentage_200d\",\"price_change_percentage_200d\",\"price_change_percentage_200d\",\"price_change_percentage_200d\",\"price_change_percentage_200d\",\"price_change_percentage_200d\",\"price_change_percentage_200d\",\"price_change_percentage_200d\",\"price_change_percentage_200d\",\"price_change_percentage_200d\",\"price_change_percentage_200d\",\"price_change_percentage_200d\",\"price_change_percentage_200d\",\"price_change_percentage_200d\",\"price_change_percentage_200d\",\"price_change_percentage_200d\",\"price_change_percentage_200d\",\"price_change_percentage_200d\",\"price_change_percentage_200d\",\"price_change_percentage_200d\",\"price_change_percentage_200d\"],\"coin_id\":[\"bitcoin\",\"ethereum\",\"tether\",\"ripple\",\"bitcoin-cash\",\"binancecoin\",\"chainlink\",\"cardano\",\"litecoin\",\"bitcoin-cash-sv\",\"crypto-com-chain\",\"usd-coin\",\"eos\",\"monero\",\"tron\",\"tezos\",\"okb\",\"stellar\",\"cosmos\",\"cdai\",\"neo\",\"wrapped-bitcoin\",\"leo-token\",\"huobi-token\",\"nem\",\"binance-usd\",\"iota\",\"vechain\",\"zcash\",\"theta-token\",\"dash\",\"ethereum-classic\",\"ethlend\",\"maker\",\"havven\",\"omisego\",\"celsius-degree-token\",\"ontology\",\"ftx-token\",\"true-usd\",\"digibyte\"],\"value\":{\"__ndarray__\":\"xY8xdy3hVED0piIVxlhnQBe86CtIM3a/9zsUBfrEQ0DTn/1IEak1QPTDCOHRc2NAl3MprqozeUAexM4UOohwQIB9dOrKfztAFhiyutWzHUCN7iB2plZsQIQqNXugFcS/ZHWr56QPMkALe9rhrzBlQH+8V61MnGBA5nlwd9a2RUARHm0csfpDQC+Lic3HJ1VAkj8YeO4/Z0AOvjCZKhjZv2vUQzS61GNAtRX7y+75VEC5GW7A52cwQAPso1NXHkVAKa4q+64Fa0A7NgLxun65P+TaUDHOwVdAyM1wAz7bcEAFwHgGDaNeQH3Qs1k1lYtAOUVHcvnvGEANGvonuMgkQCYZOQvbZ6FAGD4ipkSiVED5MeauZXeDQHi0ccQaSoJAC170FcTYmEB1PGagMmJLQC2yne+nvkxAndfYJaq3tr9R9wFIbSl+QA==\",\"dtype\":\"float64\",\"order\":\"little\",\"shape\":[41]}},\"selected\":{\"id\":\"18527\"},\"selection_policy\":{\"id\":\"18552\"}},\"id\":\"18526\",\"type\":\"ColumnDataSource\"},{\"attributes\":{},\"id\":\"18527\",\"type\":\"Selection\"},{\"attributes\":{},\"id\":\"18386\",\"type\":\"SaveTool\"},{\"attributes\":{},\"id\":\"18449\",\"type\":\"Selection\"},{\"attributes\":{\"label\":{\"value\":\"price_change_percentage_24h\"},\"renderers\":[{\"id\":\"18411\"}]},\"id\":\"18424\",\"type\":\"LegendItem\"},{\"attributes\":{},\"id\":\"18387\",\"type\":\"PanTool\"},{\"attributes\":{\"data\":{\"Variable\":[\"price_change_percentage_1y\",\"price_change_percentage_1y\",\"price_change_percentage_1y\",\"price_change_percentage_1y\",\"price_change_percentage_1y\",\"price_change_percentage_1y\",\"price_change_percentage_1y\",\"price_change_percentage_1y\",\"price_change_percentage_1y\",\"price_change_percentage_1y\",\"price_change_percentage_1y\",\"price_change_percentage_1y\",\"price_change_percentage_1y\",\"price_change_percentage_1y\",\"price_change_percentage_1y\",\"price_change_percentage_1y\",\"price_change_percentage_1y\",\"price_change_percentage_1y\",\"price_change_percentage_1y\",\"price_change_percentage_1y\",\"price_change_percentage_1y\",\"price_change_percentage_1y\",\"price_change_percentage_1y\",\"price_change_percentage_1y\",\"price_change_percentage_1y\",\"price_change_percentage_1y\",\"price_change_percentage_1y\",\"price_change_percentage_1y\",\"price_change_percentage_1y\",\"price_change_percentage_1y\",\"price_change_percentage_1y\",\"price_change_percentage_1y\",\"price_change_percentage_1y\",\"price_change_percentage_1y\",\"price_change_percentage_1y\",\"price_change_percentage_1y\",\"price_change_percentage_1y\",\"price_change_percentage_1y\",\"price_change_percentage_1y\",\"price_change_percentage_1y\",\"price_change_percentage_1y\"],\"coin_id\":[\"bitcoin\",\"ethereum\",\"tether\",\"ripple\",\"bitcoin-cash\",\"binancecoin\",\"chainlink\",\"cardano\",\"litecoin\",\"bitcoin-cash-sv\",\"crypto-com-chain\",\"usd-coin\",\"eos\",\"monero\",\"tron\",\"tezos\",\"okb\",\"stellar\",\"cosmos\",\"cdai\",\"neo\",\"wrapped-bitcoin\",\"leo-token\",\"huobi-token\",\"nem\",\"binance-usd\",\"iota\",\"vechain\",\"zcash\",\"theta-token\",\"dash\",\"ethereum-classic\",\"ethlend\",\"maker\",\"havven\",\"omisego\",\"celsius-degree-token\",\"ontology\",\"ftx-token\",\"true-usd\",\"digibyte\"],\"value\":{\"__ndarray__\":\"kQpjC0HCQkDWqIdodH1ZQN/42jNLApQ/NXugFRiaMMDN6bKY2PwsQOcdp+hIbFFAaTo7GRxSdEC6LCY2H4NjQPnaM0sCVCnA0NA/wcVuV0CQvd798RBzQL4wmSoYlci/t39lpUmRMcDovMYuUaFhQEPKT6p9nk1A6PaSxmiAYUBdUN8yp75hQMzuycNCnStAw7ZFmQ2cVEAHsTOFzmvSvx/0bFZ9aWBAhhvw+WHEQkAN/RNcrAA1QN8Vwf9WkjhAS7A4nPkWaUAVUn5S7dPBPzUk7rH04Q/AIsMq3shbaUBf0hito7hUQPyMCwcC64VAzsKedvirA8Dwoq8gzTgmQHRGlPYWrL5Ayk+qfTpOJUDfiVkvRjaFQEfJq3MMC3RAnFCIgONmn0CsVib8Uk8pwNttF5rrC2VAyXGndLD+2T/ZfFwbKgxnQA==\",\"dtype\":\"float64\",\"order\":\"little\",\"shape\":[41]}},\"selected\":{\"id\":\"18557\"},\"selection_policy\":{\"id\":\"18584\"}},\"id\":\"18556\",\"type\":\"ColumnDataSource\"},{\"attributes\":{},\"id\":\"18388\",\"type\":\"WheelZoomTool\"},{\"attributes\":{\"label\":{\"value\":\"price_change_percentage_30d\"},\"renderers\":[{\"id\":\"18478\"}]},\"id\":\"18496\",\"type\":\"LegendItem\"},{\"attributes\":{\"callback\":null,\"renderers\":[{\"id\":\"18411\"},{\"id\":\"18432\"},{\"id\":\"18454\"},{\"id\":\"18478\"},{\"id\":\"18504\"},{\"id\":\"18532\"},{\"id\":\"18562\"}],\"tags\":[\"hv_created\"],\"tooltips\":[[\"Variable\",\"@{Variable}\"],[\"coin_id\",\"@{coin_id}\"],[\"value\",\"@{value}\"]]},\"id\":\"18363\",\"type\":\"HoverTool\"},{\"attributes\":{\"active_multi\":null,\"tools\":[{\"id\":\"18363\"},{\"id\":\"18386\"},{\"id\":\"18387\"},{\"id\":\"18388\"},{\"id\":\"18389\"},{\"id\":\"18390\"}]},\"id\":\"18392\",\"type\":\"Toolbar\"},{\"attributes\":{\"label\":{\"value\":\"price_change_percentage_200d\"},\"renderers\":[{\"id\":\"18532\"}]},\"id\":\"18554\",\"type\":\"LegendItem\"},{\"attributes\":{\"overlay\":{\"id\":\"18391\"}},\"id\":\"18389\",\"type\":\"BoxZoomTool\"},{\"attributes\":{},\"id\":\"18400\",\"type\":\"AllLabels\"},{\"attributes\":{\"data\":{\"Variable\":[\"price_change_percentage_30d\",\"price_change_percentage_30d\",\"price_change_percentage_30d\",\"price_change_percentage_30d\",\"price_change_percentage_30d\",\"price_change_percentage_30d\",\"price_change_percentage_30d\",\"price_change_percentage_30d\",\"price_change_percentage_30d\",\"price_change_percentage_30d\",\"price_change_percentage_30d\",\"price_change_percentage_30d\",\"price_change_percentage_30d\",\"price_change_percentage_30d\",\"price_change_percentage_30d\",\"price_change_percentage_30d\",\"price_change_percentage_30d\",\"price_change_percentage_30d\",\"price_change_percentage_30d\",\"price_change_percentage_30d\",\"price_change_percentage_30d\",\"price_change_percentage_30d\",\"price_change_percentage_30d\",\"price_change_percentage_30d\",\"price_change_percentage_30d\",\"price_change_percentage_30d\",\"price_change_percentage_30d\",\"price_change_percentage_30d\",\"price_change_percentage_30d\",\"price_change_percentage_30d\",\"price_change_percentage_30d\",\"price_change_percentage_30d\",\"price_change_percentage_30d\",\"price_change_percentage_30d\",\"price_change_percentage_30d\",\"price_change_percentage_30d\",\"price_change_percentage_30d\",\"price_change_percentage_30d\",\"price_change_percentage_30d\",\"price_change_percentage_30d\",\"price_change_percentage_30d\"],\"coin_id\":[\"bitcoin\",\"ethereum\",\"tether\",\"ripple\",\"bitcoin-cash\",\"binancecoin\",\"chainlink\",\"cardano\",\"litecoin\",\"bitcoin-cash-sv\",\"crypto-com-chain\",\"usd-coin\",\"eos\",\"monero\",\"tron\",\"tezos\",\"okb\",\"stellar\",\"cosmos\",\"cdai\",\"neo\",\"wrapped-bitcoin\",\"leo-token\",\"huobi-token\",\"nem\",\"binance-usd\",\"iota\",\"vechain\",\"zcash\",\"theta-token\",\"dash\",\"ethereum-classic\",\"ethlend\",\"maker\",\"havven\",\"omisego\",\"celsius-degree-token\",\"ontology\",\"ftx-token\",\"true-usd\",\"digibyte\"],\"value\":{\"__ndarray__\":\"VMa/z7iwHkAl6ZrJN9vAP/28qUiFsaW/L26jAbwFzj8dcjPcgH8vQPMf0m9fB64/5bhTOlhvJsBnfjUHCDYkQGWNeohGd/M/sCDNWDQdB0Cmft5UpHIxwJgvL8A+OsW/t0WZDTKJEsDeVKTC2HpDQEzD8BExNSnAjWK5pdVALMDjjcwjf+AkwIrIsIo3QiDAjliLTwFQEkAWpBmLpnMBwE3WqIdo9DXAVG8NbJWAHUAnMQisHJoIQGA8g4b+CQrACcTr+gU7DcCPpQ9dUN+SP80Bgjl6nBDA9S1zuixWLMBC7Eyh83odQEku/yH9bj9AtTf4wmQqH8Am/FI/byoHQNjYJaq3/j3A9GxWfa62MECdRloqb9c0wF4R/G8lOyLArK3YX3aZYUC1/SsrTVpBwP/PYb68ICXAFR3J5T+knz+ndLD+z4EqQA==\",\"dtype\":\"float64\",\"order\":\"little\",\"shape\":[41]}},\"selected\":{\"id\":\"18473\"},\"selection_policy\":{\"id\":\"18494\"}},\"id\":\"18472\",\"type\":\"ColumnDataSource\"},{\"attributes\":{\"data_source\":{\"id\":\"18448\"},\"glyph\":{\"id\":\"18451\"},\"hover_glyph\":null,\"muted_glyph\":{\"id\":\"18453\"},\"nonselection_glyph\":{\"id\":\"18452\"},\"selection_glyph\":{\"id\":\"18471\"},\"view\":{\"id\":\"18455\"}},\"id\":\"18454\",\"type\":\"GlyphRenderer\"},{\"attributes\":{\"end\":8641.780918,\"reset_end\":8641.780918,\"reset_start\":-834.5136980000001,\"start\":-834.5136980000001,\"tags\":[[[\"value\",\"value\",null]]]},\"id\":\"18362\",\"type\":\"Range1d\"},{\"attributes\":{},\"id\":\"18557\",\"type\":\"Selection\"},{\"attributes\":{},\"id\":\"18401\",\"type\":\"CategoricalTickFormatter\"},{\"attributes\":{\"line_alpha\":0.2,\"line_color\":\"#e5ae38\",\"line_width\":2,\"x\":{\"field\":\"coin_id\"},\"y\":{\"field\":\"value\"}},\"id\":\"18453\",\"type\":\"Line\"},{\"attributes\":{\"data_source\":{\"id\":\"18526\"},\"glyph\":{\"id\":\"18529\"},\"hover_glyph\":null,\"muted_glyph\":{\"id\":\"18531\"},\"nonselection_glyph\":{\"id\":\"18530\"},\"selection_glyph\":{\"id\":\"18555\"},\"view\":{\"id\":\"18533\"}},\"id\":\"18532\",\"type\":\"GlyphRenderer\"},{\"attributes\":{\"data\":{\"Variable\":[\"price_change_percentage_24h\",\"price_change_percentage_24h\",\"price_change_percentage_24h\",\"price_change_percentage_24h\",\"price_change_percentage_24h\",\"price_change_percentage_24h\",\"price_change_percentage_24h\",\"price_change_percentage_24h\",\"price_change_percentage_24h\",\"price_change_percentage_24h\",\"price_change_percentage_24h\",\"price_change_percentage_24h\",\"price_change_percentage_24h\",\"price_change_percentage_24h\",\"price_change_percentage_24h\",\"price_change_percentage_24h\",\"price_change_percentage_24h\",\"price_change_percentage_24h\",\"price_change_percentage_24h\",\"price_change_percentage_24h\",\"price_change_percentage_24h\",\"price_change_percentage_24h\",\"price_change_percentage_24h\",\"price_change_percentage_24h\",\"price_change_percentage_24h\",\"price_change_percentage_24h\",\"price_change_percentage_24h\",\"price_change_percentage_24h\",\"price_change_percentage_24h\",\"price_change_percentage_24h\",\"price_change_percentage_24h\",\"price_change_percentage_24h\",\"price_change_percentage_24h\",\"price_change_percentage_24h\",\"price_change_percentage_24h\",\"price_change_percentage_24h\",\"price_change_percentage_24h\",\"price_change_percentage_24h\",\"price_change_percentage_24h\",\"price_change_percentage_24h\",\"price_change_percentage_24h\"],\"coin_id\":[\"bitcoin\",\"ethereum\",\"tether\",\"ripple\",\"bitcoin-cash\",\"binancecoin\",\"chainlink\",\"cardano\",\"litecoin\",\"bitcoin-cash-sv\",\"crypto-com-chain\",\"usd-coin\",\"eos\",\"monero\",\"tron\",\"tezos\",\"okb\",\"stellar\",\"cosmos\",\"cdai\",\"neo\",\"wrapped-bitcoin\",\"leo-token\",\"huobi-token\",\"nem\",\"binance-usd\",\"iota\",\"vechain\",\"zcash\",\"theta-token\",\"dash\",\"ethereum-classic\",\"ethlend\",\"maker\",\"havven\",\"omisego\",\"celsius-degree-token\",\"ontology\",\"ftx-token\",\"true-usd\",\"digibyte\"],\"value\":{\"__ndarray__\":\"nZ0MjpJX8T8MzXUaaanMP5mByvj3Gcu/wCZr1EM02L8ep+hILj8HQL0Yyol21QBAwhcmUwWjzr//CS5W1GBqP7JGPUSjO7C/QKTfvg6c7T8urYbEPZbjPzeJQWDl0Ma/1pC4x9KHwj87NgLxun7bP90HILWJk7M/JjYf14aK5b83iUFg5dAFwG3i5H6HIvC/5nlwd9Zu7r9i83FtqBjLP+iHEcKjjd8/M9yAzw+j8T/fGtgqweLAv+RmuAGfH9q/UdobfGEy678D7KNTVz67v8YzaOif4No/teBFX0Ga9D8G2Eenrnzjvx+duvJZPhLAoMN8eQH28L+cxCCwcmjdv667eapDDivAX5hMFYxK479EUaBP5EkQwAZkr3d/XBNA0JuKVBgbBEDqBDQRNrz1vxo09E9wseo/tI6qJoi6r79qMA3DR8QHQA==\",\"dtype\":\"float64\",\"order\":\"little\",\"shape\":[41]}},\"selected\":{\"id\":\"18406\"},\"selection_policy\":{\"id\":\"18421\"}},\"id\":\"18405\",\"type\":\"ColumnDataSource\"},{\"attributes\":{\"line_alpha\":0.1,\"line_color\":\"#e5ae38\",\"line_width\":2,\"x\":{\"field\":\"coin_id\"},\"y\":{\"field\":\"value\"}},\"id\":\"18452\",\"type\":\"Line\"},{\"attributes\":{\"line_alpha\":0.2,\"line_color\":\"#17becf\",\"line_width\":2,\"x\":{\"field\":\"coin_id\"},\"y\":{\"field\":\"value\"}},\"id\":\"18531\",\"type\":\"Line\"},{\"attributes\":{},\"id\":\"18390\",\"type\":\"ResetTool\"},{\"attributes\":{\"line_alpha\":0.1,\"line_color\":\"#9467bd\",\"line_width\":2,\"x\":{\"field\":\"coin_id\"},\"y\":{\"field\":\"value\"}},\"id\":\"18560\",\"type\":\"Line\"},{\"attributes\":{\"source\":{\"id\":\"18448\"}},\"id\":\"18455\",\"type\":\"CDSView\"},{\"attributes\":{\"line_alpha\":0.1,\"line_color\":\"#17becf\",\"line_width\":2,\"x\":{\"field\":\"coin_id\"},\"y\":{\"field\":\"value\"}},\"id\":\"18530\",\"type\":\"Line\"},{\"attributes\":{\"source\":{\"id\":\"18526\"}},\"id\":\"18533\",\"type\":\"CDSView\"},{\"attributes\":{},\"id\":\"18406\",\"type\":\"Selection\"},{\"attributes\":{\"line_color\":\"#17becf\",\"line_width\":2,\"x\":{\"field\":\"coin_id\"},\"y\":{\"field\":\"value\"}},\"id\":\"18555\",\"type\":\"Line\"},{\"attributes\":{\"line_color\":\"#9467bd\",\"line_width\":2,\"x\":{\"field\":\"coin_id\"},\"y\":{\"field\":\"value\"}},\"id\":\"18559\",\"type\":\"Line\"},{\"attributes\":{\"label\":{\"value\":\"price_change_percentage_1y\"},\"renderers\":[{\"id\":\"18562\"}]},\"id\":\"18586\",\"type\":\"LegendItem\"}],\"root_ids\":[\"18359\"]},\"title\":\"Bokeh Application\",\"version\":\"2.3.2\"}};\n",
       "    var render_items = [{\"docid\":\"ce09a534-811c-47b9-ab7e-dbbd9a4e05be\",\"root_ids\":[\"18359\"],\"roots\":{\"18359\":\"f667b64c-7401-46fb-84b3-e18575a16ca3\"}}];\n",
       "    root.Bokeh.embed.embed_items_notebook(docs_json, render_items);\n",
       "  }\n",
       "  if (root.Bokeh !== undefined && root.Bokeh.Panel !== undefined) {\n",
       "    embed_document(root);\n",
       "  } else {\n",
       "    var attempts = 0;\n",
       "    var timer = setInterval(function(root) {\n",
       "      if (root.Bokeh !== undefined && root.Bokeh.Panel !== undefined) {\n",
       "        clearInterval(timer);\n",
       "        embed_document(root);\n",
       "      } else if (document.readyState == \"complete\") {\n",
       "        attempts++;\n",
       "        if (attempts > 100) {\n",
       "          clearInterval(timer);\n",
       "          console.log(\"Bokeh: ERROR: Unable to run BokehJS code because BokehJS library is missing\");\n",
       "        }\n",
       "      }\n",
       "    }, 10, root)\n",
       "  }\n",
       "})(window);</script>"
      ],
      "text/plain": [
       ":NdOverlay   [Variable]\n",
       "   :Curve   [coin_id]   (value)"
      ]
     },
     "execution_count": 209,
     "metadata": {
      "application/vnd.holoviews_exec.v0+json": {
       "id": "18359"
      }
     },
     "output_type": "execute_result"
    }
   ],
   "source": [
    "# Plot your data to see what's in your DataFrame\n",
    "df_market_data.hvplot.line(\n",
    "    width=800,\n",
    "    height=400,\n",
    "    rot=90\n",
    ")"
   ]
  },
  {
   "cell_type": "markdown",
   "metadata": {},
   "source": [
    "### Prepare the Data\n",
    "\n",
    "This section prepares the data before running the K-Means algorithm. It follows these steps:\n",
    "\n",
    "1. Use the `StandardScaler` module from scikit-learn to normalize the CSV file data. This will require you to utilize the `fit_transform` function.\n",
    "\n",
    "2. Create a DataFrame that contains the scaled data. Be sure to set the `coin_id` index from the original DataFrame as the index for the new DataFrame. Review the resulting DataFrame.\n"
   ]
  },
  {
   "cell_type": "code",
   "execution_count": 210,
   "metadata": {},
   "outputs": [],
   "source": [
    "# Use the `StandardScaler()` module from scikit-learn to normalize the data from the CSV file\n",
    "scaled_data = StandardScaler().fit_transform(df_market_data)"
   ]
  },
  {
   "cell_type": "code",
   "execution_count": 211,
   "metadata": {},
   "outputs": [
    {
     "data": {
      "text/html": [
       "<div>\n",
       "<style scoped>\n",
       "    .dataframe tbody tr th:only-of-type {\n",
       "        vertical-align: middle;\n",
       "    }\n",
       "\n",
       "    .dataframe tbody tr th {\n",
       "        vertical-align: top;\n",
       "    }\n",
       "\n",
       "    .dataframe thead th {\n",
       "        text-align: right;\n",
       "    }\n",
       "</style>\n",
       "<table border=\"1\" class=\"dataframe\">\n",
       "  <thead>\n",
       "    <tr style=\"text-align: right;\">\n",
       "      <th></th>\n",
       "      <th>price_change_percentage_24h</th>\n",
       "      <th>price_change_percentage_7d</th>\n",
       "      <th>price_change_percentage_14d</th>\n",
       "      <th>price_change_percentage_30d</th>\n",
       "      <th>price_change_percentage_60d</th>\n",
       "      <th>price_change_percentage_200d</th>\n",
       "      <th>price_change_percentage_1y</th>\n",
       "    </tr>\n",
       "    <tr>\n",
       "      <th>coin_id</th>\n",
       "      <th></th>\n",
       "      <th></th>\n",
       "      <th></th>\n",
       "      <th></th>\n",
       "      <th></th>\n",
       "      <th></th>\n",
       "      <th></th>\n",
       "    </tr>\n",
       "  </thead>\n",
       "  <tbody>\n",
       "    <tr>\n",
       "      <th>bitcoin</th>\n",
       "      <td>0.508529</td>\n",
       "      <td>0.493193</td>\n",
       "      <td>0.772200</td>\n",
       "      <td>0.235460</td>\n",
       "      <td>-0.067495</td>\n",
       "      <td>-0.355953</td>\n",
       "      <td>-0.251637</td>\n",
       "    </tr>\n",
       "    <tr>\n",
       "      <th>ethereum</th>\n",
       "      <td>0.185446</td>\n",
       "      <td>0.934445</td>\n",
       "      <td>0.558692</td>\n",
       "      <td>-0.054341</td>\n",
       "      <td>-0.273483</td>\n",
       "      <td>-0.115759</td>\n",
       "      <td>-0.199352</td>\n",
       "    </tr>\n",
       "    <tr>\n",
       "      <th>tether</th>\n",
       "      <td>0.021774</td>\n",
       "      <td>-0.706337</td>\n",
       "      <td>-0.021680</td>\n",
       "      <td>-0.061030</td>\n",
       "      <td>0.008005</td>\n",
       "      <td>-0.550247</td>\n",
       "      <td>-0.282061</td>\n",
       "    </tr>\n",
       "    <tr>\n",
       "      <th>ripple</th>\n",
       "      <td>-0.040764</td>\n",
       "      <td>-0.810928</td>\n",
       "      <td>0.249458</td>\n",
       "      <td>-0.050388</td>\n",
       "      <td>-0.373164</td>\n",
       "      <td>-0.458259</td>\n",
       "      <td>-0.295546</td>\n",
       "    </tr>\n",
       "    <tr>\n",
       "      <th>bitcoin-cash</th>\n",
       "      <td>1.193036</td>\n",
       "      <td>2.000959</td>\n",
       "      <td>1.760610</td>\n",
       "      <td>0.545842</td>\n",
       "      <td>-0.291203</td>\n",
       "      <td>-0.499848</td>\n",
       "      <td>-0.270317</td>\n",
       "    </tr>\n",
       "  </tbody>\n",
       "</table>\n",
       "</div>"
      ],
      "text/plain": [
       "              price_change_percentage_24h  price_change_percentage_7d  \\\n",
       "coin_id                                                                 \n",
       "bitcoin                          0.508529                    0.493193   \n",
       "ethereum                         0.185446                    0.934445   \n",
       "tether                           0.021774                   -0.706337   \n",
       "ripple                          -0.040764                   -0.810928   \n",
       "bitcoin-cash                     1.193036                    2.000959   \n",
       "\n",
       "              price_change_percentage_14d  price_change_percentage_30d  \\\n",
       "coin_id                                                                  \n",
       "bitcoin                          0.772200                     0.235460   \n",
       "ethereum                         0.558692                    -0.054341   \n",
       "tether                          -0.021680                    -0.061030   \n",
       "ripple                           0.249458                    -0.050388   \n",
       "bitcoin-cash                     1.760610                     0.545842   \n",
       "\n",
       "              price_change_percentage_60d  price_change_percentage_200d  \\\n",
       "coin_id                                                                   \n",
       "bitcoin                         -0.067495                     -0.355953   \n",
       "ethereum                        -0.273483                     -0.115759   \n",
       "tether                           0.008005                     -0.550247   \n",
       "ripple                          -0.373164                     -0.458259   \n",
       "bitcoin-cash                    -0.291203                     -0.499848   \n",
       "\n",
       "              price_change_percentage_1y  \n",
       "coin_id                                   \n",
       "bitcoin                        -0.251637  \n",
       "ethereum                       -0.199352  \n",
       "tether                         -0.282061  \n",
       "ripple                         -0.295546  \n",
       "bitcoin-cash                   -0.270317  "
      ]
     },
     "execution_count": 211,
     "metadata": {},
     "output_type": "execute_result"
    }
   ],
   "source": [
    "# Create a DataFrame with the scaled data\n",
    "df_market_data_scaled = pd.DataFrame(\n",
    "    scaled_data,\n",
    "    columns=df_market_data.columns\n",
    ")\n",
    "\n",
    "# Copy the crypto names from the original data\n",
    "df_market_data_scaled[\"coin_id\"] = df_market_data.index\n",
    "\n",
    "# Set the coinid column as index\n",
    "df_market_data_scaled = df_market_data_scaled.set_index(\"coin_id\")\n",
    "\n",
    "# Display sample data\n",
    "df_market_data_scaled.head()"
   ]
  },
  {
   "cell_type": "markdown",
   "metadata": {},
   "source": [
    "---"
   ]
  },
  {
   "cell_type": "markdown",
   "metadata": {},
   "source": [
    "# Cluster Cryptocurrencies with K-means\n",
    "\n",
    "In this section, you will use the K-Means algorithm with a given value for `k` to cluster the cryptocurrencies according to the price changes of cryptocurrencies provided.\n",
    "\n",
    "1. Initialize the K-Means model with four clusters (`n_clusters=4`). \n",
    "\n",
    "2. Fit the K-Means model using the scaled data.\n",
    "\n",
    "3. Predict the clusters to group the cryptocurrencies using the scaled data. View the resulting array of cluster values.\n",
    "\n",
    "4. Add a new column to the DataFrame with the scaled data with the predicted clusters.\n",
    "\n",
    "5. Create a scatter plot using hvPlot by setting `x=\"price_change_percentage_14d\"` and `y=\"price_change_percentage_1y\"`. Color the graph points with the labels found using K-Means and add the crypto name in the `hover_cols` parameter to identify the cryptocurrency represented by each data point."
   ]
  },
  {
   "cell_type": "code",
   "execution_count": 212,
   "metadata": {},
   "outputs": [],
   "source": [
    "# Initialize the K-Means model with four clusters\n",
    "\n",
    "model = KMeans(n_clusters=4)"
   ]
  },
  {
   "cell_type": "code",
   "execution_count": 213,
   "metadata": {},
   "outputs": [
    {
     "data": {
      "text/plain": [
       "KMeans(n_clusters=4)"
      ]
     },
     "execution_count": 213,
     "metadata": {},
     "output_type": "execute_result"
    }
   ],
   "source": [
    "# Fit the K-Means model using the scaled data\n",
    "\n",
    "model.fit(scaled_data)"
   ]
  },
  {
   "cell_type": "code",
   "execution_count": 214,
   "metadata": {},
   "outputs": [
    {
     "name": "stdout",
     "output_type": "stream",
     "text": [
      "[0 0 3 3 0 0 0 0 0 3 3 3 3 0 3 0 3 3 0 3 3 0 3 3 3 3 3 3 0 3 3 3 1 0 3 3 2\n",
      " 3 3 3 3]\n"
     ]
    }
   ],
   "source": [
    "# Predict the clusters to group the cryptocurrencies using the scaled data\n",
    "\n",
    "crypto_clusters_k4 = model.predict(scaled_data)\n",
    "\n",
    "# View the resulting array of cluster values.\n",
    "print(crypto_clusters_k4)"
   ]
  },
  {
   "cell_type": "code",
   "execution_count": 215,
   "metadata": {},
   "outputs": [
    {
     "data": {
      "text/html": [
       "<div>\n",
       "<style scoped>\n",
       "    .dataframe tbody tr th:only-of-type {\n",
       "        vertical-align: middle;\n",
       "    }\n",
       "\n",
       "    .dataframe tbody tr th {\n",
       "        vertical-align: top;\n",
       "    }\n",
       "\n",
       "    .dataframe thead th {\n",
       "        text-align: right;\n",
       "    }\n",
       "</style>\n",
       "<table border=\"1\" class=\"dataframe\">\n",
       "  <thead>\n",
       "    <tr style=\"text-align: right;\">\n",
       "      <th></th>\n",
       "      <th>price_change_percentage_24h</th>\n",
       "      <th>price_change_percentage_7d</th>\n",
       "      <th>price_change_percentage_14d</th>\n",
       "      <th>price_change_percentage_30d</th>\n",
       "      <th>price_change_percentage_60d</th>\n",
       "      <th>price_change_percentage_200d</th>\n",
       "      <th>price_change_percentage_1y</th>\n",
       "      <th>crypto_clusters_k4</th>\n",
       "    </tr>\n",
       "    <tr>\n",
       "      <th>coin_id</th>\n",
       "      <th></th>\n",
       "      <th></th>\n",
       "      <th></th>\n",
       "      <th></th>\n",
       "      <th></th>\n",
       "      <th></th>\n",
       "      <th></th>\n",
       "      <th></th>\n",
       "    </tr>\n",
       "  </thead>\n",
       "  <tbody>\n",
       "    <tr>\n",
       "      <th>bitcoin</th>\n",
       "      <td>0.508529</td>\n",
       "      <td>0.493193</td>\n",
       "      <td>0.772200</td>\n",
       "      <td>0.235460</td>\n",
       "      <td>-0.067495</td>\n",
       "      <td>-0.355953</td>\n",
       "      <td>-0.251637</td>\n",
       "      <td>0</td>\n",
       "    </tr>\n",
       "    <tr>\n",
       "      <th>ethereum</th>\n",
       "      <td>0.185446</td>\n",
       "      <td>0.934445</td>\n",
       "      <td>0.558692</td>\n",
       "      <td>-0.054341</td>\n",
       "      <td>-0.273483</td>\n",
       "      <td>-0.115759</td>\n",
       "      <td>-0.199352</td>\n",
       "      <td>0</td>\n",
       "    </tr>\n",
       "    <tr>\n",
       "      <th>tether</th>\n",
       "      <td>0.021774</td>\n",
       "      <td>-0.706337</td>\n",
       "      <td>-0.021680</td>\n",
       "      <td>-0.061030</td>\n",
       "      <td>0.008005</td>\n",
       "      <td>-0.550247</td>\n",
       "      <td>-0.282061</td>\n",
       "      <td>3</td>\n",
       "    </tr>\n",
       "    <tr>\n",
       "      <th>ripple</th>\n",
       "      <td>-0.040764</td>\n",
       "      <td>-0.810928</td>\n",
       "      <td>0.249458</td>\n",
       "      <td>-0.050388</td>\n",
       "      <td>-0.373164</td>\n",
       "      <td>-0.458259</td>\n",
       "      <td>-0.295546</td>\n",
       "      <td>3</td>\n",
       "    </tr>\n",
       "    <tr>\n",
       "      <th>bitcoin-cash</th>\n",
       "      <td>1.193036</td>\n",
       "      <td>2.000959</td>\n",
       "      <td>1.760610</td>\n",
       "      <td>0.545842</td>\n",
       "      <td>-0.291203</td>\n",
       "      <td>-0.499848</td>\n",
       "      <td>-0.270317</td>\n",
       "      <td>0</td>\n",
       "    </tr>\n",
       "  </tbody>\n",
       "</table>\n",
       "</div>"
      ],
      "text/plain": [
       "              price_change_percentage_24h  price_change_percentage_7d  \\\n",
       "coin_id                                                                 \n",
       "bitcoin                          0.508529                    0.493193   \n",
       "ethereum                         0.185446                    0.934445   \n",
       "tether                           0.021774                   -0.706337   \n",
       "ripple                          -0.040764                   -0.810928   \n",
       "bitcoin-cash                     1.193036                    2.000959   \n",
       "\n",
       "              price_change_percentage_14d  price_change_percentage_30d  \\\n",
       "coin_id                                                                  \n",
       "bitcoin                          0.772200                     0.235460   \n",
       "ethereum                         0.558692                    -0.054341   \n",
       "tether                          -0.021680                    -0.061030   \n",
       "ripple                           0.249458                    -0.050388   \n",
       "bitcoin-cash                     1.760610                     0.545842   \n",
       "\n",
       "              price_change_percentage_60d  price_change_percentage_200d  \\\n",
       "coin_id                                                                   \n",
       "bitcoin                         -0.067495                     -0.355953   \n",
       "ethereum                        -0.273483                     -0.115759   \n",
       "tether                           0.008005                     -0.550247   \n",
       "ripple                          -0.373164                     -0.458259   \n",
       "bitcoin-cash                    -0.291203                     -0.499848   \n",
       "\n",
       "              price_change_percentage_1y  crypto_clusters_k4  \n",
       "coin_id                                                       \n",
       "bitcoin                        -0.251637                   0  \n",
       "ethereum                       -0.199352                   0  \n",
       "tether                         -0.282061                   3  \n",
       "ripple                         -0.295546                   3  \n",
       "bitcoin-cash                   -0.270317                   0  "
      ]
     },
     "execution_count": 215,
     "metadata": {},
     "output_type": "execute_result"
    }
   ],
   "source": [
    "# Note: The code for this step is provided for you.\n",
    "\n",
    "# Add a new column to the DataFrame with the predicted clusters with k=4\n",
    "df_market_data_scaled[\"crypto_clusters_k4\"] = crypto_clusters_k4\n",
    "\n",
    "# Display sample data\n",
    "df_market_data_scaled.head()"
   ]
  },
  {
   "cell_type": "code",
   "execution_count": 216,
   "metadata": {},
   "outputs": [
    {
     "data": {},
     "metadata": {},
     "output_type": "display_data"
    },
    {
     "data": {
      "application/vnd.holoviews_exec.v0+json": "",
      "text/html": [
       "<div id='18898'>\n",
       "\n",
       "\n",
       "\n",
       "\n",
       "\n",
       "  <div class=\"bk-root\" id=\"931cb11c-60f0-4b70-91b5-3af8da72ae0b\" data-root-id=\"18898\"></div>\n",
       "</div>\n",
       "<script type=\"application/javascript\">(function(root) {\n",
       "  function embed_document(root) {\n",
       "    var docs_json = {\"3d8b3ada-e8bb-4c77-b5a9-a7e09276d1ec\":{\"defs\":[],\"roots\":{\"references\":[{\"attributes\":{\"children\":[{\"id\":\"18899\"},{\"id\":\"18906\"},{\"id\":\"19179\"}],\"margin\":[0,0,0,0],\"name\":\"Row40057\",\"tags\":[\"embedded\"]},\"id\":\"18898\",\"type\":\"Row\"},{\"attributes\":{\"fill_alpha\":{\"value\":0.2},\"fill_color\":{\"value\":\"#6d904f\"},\"line_alpha\":{\"value\":0.2},\"line_color\":{\"value\":\"#6d904f\"},\"marker\":{\"value\":\"inverted_triangle\"},\"size\":{\"value\":5.477225575051661},\"x\":{\"field\":\"price_change_percentage_14d\"},\"y\":{\"field\":\"price_change_percentage_1y\"}},\"id\":\"19014\",\"type\":\"Scatter\"},{\"attributes\":{\"data\":{\"coin_id\":[\"celsius-degree-token\"],\"crypto_clusters_k4\":[2],\"price_change_percentage_14d\":{\"__ndarray__\":\"FlU2faVBB0A=\",\"dtype\":\"float64\",\"order\":\"little\",\"shape\":[1]},\"price_change_percentage_1y\":{\"__ndarray__\":\"OvTrj2iT9T8=\",\"dtype\":\"float64\",\"order\":\"little\",\"shape\":[1]}},\"selected\":{\"id\":\"18986\"},\"selection_policy\":{\"id\":\"19005\"}},\"id\":\"18985\",\"type\":\"ColumnDataSource\"},{\"attributes\":{\"fill_color\":{\"value\":\"#30a2da\"},\"line_color\":{\"value\":\"#30a2da\"},\"marker\":{\"value\":\"hex\"},\"size\":{\"value\":5.477225575051661},\"x\":{\"field\":\"price_change_percentage_14d\"},\"y\":{\"field\":\"price_change_percentage_1y\"}},\"id\":\"18945\",\"type\":\"Scatter\"},{\"attributes\":{\"fill_alpha\":{\"value\":0.2},\"fill_color\":{\"value\":\"#fc4f30\"},\"line_alpha\":{\"value\":0.2},\"line_color\":{\"value\":\"#fc4f30\"},\"marker\":{\"value\":\"square\"},\"size\":{\"value\":5.477225575051661},\"x\":{\"field\":\"price_change_percentage_14d\"},\"y\":{\"field\":\"price_change_percentage_1y\"}},\"id\":\"18968\",\"type\":\"Scatter\"},{\"attributes\":{\"angle\":{\"value\":0.0},\"fill_alpha\":{\"value\":1.0},\"fill_color\":{\"value\":\"#30a2da\"},\"hatch_alpha\":{\"value\":1.0},\"hatch_color\":{\"value\":\"black\"},\"hatch_scale\":{\"value\":12.0},\"hatch_weight\":{\"value\":1.0},\"line_alpha\":{\"value\":1.0},\"line_cap\":{\"value\":\"butt\"},\"line_color\":{\"value\":\"#30a2da\"},\"line_dash\":{\"value\":[]},\"line_dash_offset\":{\"value\":0},\"line_join\":{\"value\":\"bevel\"},\"line_width\":{\"value\":1},\"marker\":{\"value\":\"hex\"},\"size\":{\"value\":5.477225575051661},\"x\":{\"field\":\"price_change_percentage_14d\"},\"y\":{\"field\":\"price_change_percentage_1y\"}},\"id\":\"18962\",\"type\":\"Scatter\"},{\"attributes\":{\"end\":3.1266608709070227,\"reset_end\":3.1266608709070227,\"reset_start\":-2.4367150495547434,\"start\":-2.4367150495547434,\"tags\":[[[\"price_change_percentage_14d\",\"price_change_percentage_14d\",null]]]},\"id\":\"18900\",\"type\":\"Range1d\"},{\"attributes\":{\"end\":6.72712095745086,\"reset_end\":6.72712095745086,\"reset_start\":-0.9348250733816648,\"start\":-0.9348250733816648,\"tags\":[[[\"price_change_percentage_1y\",\"price_change_percentage_1y\",null]]]},\"id\":\"18901\",\"type\":\"Range1d\"},{\"attributes\":{\"axis\":{\"id\":\"18919\"},\"dimension\":1,\"grid_line_color\":null,\"ticker\":null},\"id\":\"18922\",\"type\":\"Grid\"},{\"attributes\":{},\"id\":\"18925\",\"type\":\"WheelZoomTool\"},{\"attributes\":{\"bottom_units\":\"screen\",\"fill_alpha\":0.5,\"fill_color\":\"lightgrey\",\"left_units\":\"screen\",\"level\":\"overlay\",\"line_alpha\":1.0,\"line_color\":\"black\",\"line_dash\":[4,4],\"line_width\":2,\"right_units\":\"screen\",\"syncable\":false,\"top_units\":\"screen\"},\"id\":\"18928\",\"type\":\"BoxAnnotation\"},{\"attributes\":{\"fill_alpha\":{\"value\":0.2},\"fill_color\":{\"value\":\"#30a2da\"},\"line_alpha\":{\"value\":0.2},\"line_color\":{\"value\":\"#30a2da\"},\"marker\":{\"value\":\"hex\"},\"size\":{\"value\":5.477225575051661},\"x\":{\"field\":\"price_change_percentage_14d\"},\"y\":{\"field\":\"price_change_percentage_1y\"}},\"id\":\"18947\",\"type\":\"Scatter\"},{\"attributes\":{\"label\":{\"value\":\"0\"},\"renderers\":[{\"id\":\"18948\"}]},\"id\":\"18961\",\"type\":\"LegendItem\"},{\"attributes\":{\"text_color\":\"black\",\"text_font_size\":\"12pt\"},\"id\":\"18907\",\"type\":\"Title\"},{\"attributes\":{},\"id\":\"18923\",\"type\":\"SaveTool\"},{\"attributes\":{},\"id\":\"18938\",\"type\":\"BasicTickFormatter\"},{\"attributes\":{\"source\":{\"id\":\"18963\"}},\"id\":\"18970\",\"type\":\"CDSView\"},{\"attributes\":{},\"id\":\"18964\",\"type\":\"Selection\"},{\"attributes\":{},\"id\":\"19010\",\"type\":\"Selection\"},{\"attributes\":{\"margin\":[5,5,5,5],\"name\":\"HSpacer40061\",\"sizing_mode\":\"stretch_width\"},\"id\":\"18899\",\"type\":\"Spacer\"},{\"attributes\":{},\"id\":\"18943\",\"type\":\"Selection\"},{\"attributes\":{\"data_source\":{\"id\":\"18963\"},\"glyph\":{\"id\":\"18966\"},\"hover_glyph\":null,\"muted_glyph\":{\"id\":\"18968\"},\"nonselection_glyph\":{\"id\":\"18967\"},\"selection_glyph\":{\"id\":\"18984\"},\"view\":{\"id\":\"18970\"}},\"id\":\"18969\",\"type\":\"GlyphRenderer\"},{\"attributes\":{\"axis_label\":\"price_change_percentage_1y\",\"formatter\":{\"id\":\"18941\"},\"major_label_policy\":{\"id\":\"18940\"},\"ticker\":{\"id\":\"18920\"}},\"id\":\"18919\",\"type\":\"LinearAxis\"},{\"attributes\":{\"source\":{\"id\":\"19009\"}},\"id\":\"19016\",\"type\":\"CDSView\"},{\"attributes\":{\"overlay\":{\"id\":\"18928\"}},\"id\":\"18926\",\"type\":\"BoxZoomTool\"},{\"attributes\":{\"fill_alpha\":{\"value\":0.2},\"fill_color\":{\"value\":\"#e5ae38\"},\"line_alpha\":{\"value\":0.2},\"line_color\":{\"value\":\"#e5ae38\"},\"marker\":{\"value\":\"cross\"},\"size\":{\"value\":5.477225575051661},\"x\":{\"field\":\"price_change_percentage_14d\"},\"y\":{\"field\":\"price_change_percentage_1y\"}},\"id\":\"18990\",\"type\":\"Scatter\"},{\"attributes\":{\"callback\":null,\"renderers\":[{\"id\":\"18948\"},{\"id\":\"18969\"},{\"id\":\"18991\"},{\"id\":\"19015\"}],\"tags\":[\"hv_created\"],\"tooltips\":[[\"crypto_clusters_k4\",\"@{crypto_clusters_k4}\"],[\"price_change_percentage_14d\",\"@{price_change_percentage_14d}\"],[\"price_change_percentage_1y\",\"@{price_change_percentage_1y}\"],[\"coin_id\",\"@{coin_id}\"]]},\"id\":\"18902\",\"type\":\"HoverTool\"},{\"attributes\":{},\"id\":\"18986\",\"type\":\"Selection\"},{\"attributes\":{},\"id\":\"18940\",\"type\":\"AllLabels\"},{\"attributes\":{},\"id\":\"18958\",\"type\":\"UnionRenderers\"},{\"attributes\":{\"click_policy\":\"mute\",\"items\":[{\"id\":\"18961\"},{\"id\":\"18983\"},{\"id\":\"19007\"},{\"id\":\"19033\"}],\"location\":[0,0],\"title\":\"crypto_clusters_k4\"},\"id\":\"18960\",\"type\":\"Legend\"},{\"attributes\":{\"axis_label\":\"price_change_percentage_14d\",\"formatter\":{\"id\":\"18938\"},\"major_label_policy\":{\"id\":\"18937\"},\"ticker\":{\"id\":\"18916\"}},\"id\":\"18915\",\"type\":\"LinearAxis\"},{\"attributes\":{\"below\":[{\"id\":\"18915\"}],\"center\":[{\"id\":\"18918\"},{\"id\":\"18922\"}],\"height\":300,\"left\":[{\"id\":\"18919\"}],\"margin\":[5,5,5,5],\"min_border_bottom\":10,\"min_border_left\":10,\"min_border_right\":10,\"min_border_top\":10,\"renderers\":[{\"id\":\"18948\"},{\"id\":\"18969\"},{\"id\":\"18991\"},{\"id\":\"19015\"}],\"right\":[{\"id\":\"18960\"}],\"sizing_mode\":\"fixed\",\"title\":{\"id\":\"18907\"},\"toolbar\":{\"id\":\"18929\"},\"width\":700,\"x_range\":{\"id\":\"18900\"},\"x_scale\":{\"id\":\"18911\"},\"y_range\":{\"id\":\"18901\"},\"y_scale\":{\"id\":\"18913\"}},\"id\":\"18906\",\"subtype\":\"Figure\",\"type\":\"Plot\"},{\"attributes\":{\"fill_color\":{\"value\":\"#fc4f30\"},\"line_color\":{\"value\":\"#fc4f30\"},\"marker\":{\"value\":\"square\"},\"size\":{\"value\":5.477225575051661},\"x\":{\"field\":\"price_change_percentage_14d\"},\"y\":{\"field\":\"price_change_percentage_1y\"}},\"id\":\"18966\",\"type\":\"Scatter\"},{\"attributes\":{\"data\":{\"coin_id\":[\"ethlend\"],\"crypto_clusters_k4\":[1],\"price_change_percentage_14d\":{\"__ndarray__\":\"EjPPN7FP878=\",\"dtype\":\"float64\",\"order\":\"little\",\"shape\":[1]},\"price_change_percentage_1y\":{\"__ndarray__\":\"gzyZocBaGEA=\",\"dtype\":\"float64\",\"order\":\"little\",\"shape\":[1]}},\"selected\":{\"id\":\"18964\"},\"selection_policy\":{\"id\":\"18981\"}},\"id\":\"18963\",\"type\":\"ColumnDataSource\"},{\"attributes\":{\"angle\":{\"value\":0.0},\"fill_alpha\":{\"value\":1.0},\"fill_color\":{\"value\":\"#fc4f30\"},\"hatch_alpha\":{\"value\":1.0},\"hatch_color\":{\"value\":\"black\"},\"hatch_scale\":{\"value\":12.0},\"hatch_weight\":{\"value\":1.0},\"line_alpha\":{\"value\":1.0},\"line_cap\":{\"value\":\"butt\"},\"line_color\":{\"value\":\"#fc4f30\"},\"line_dash\":{\"value\":[]},\"line_dash_offset\":{\"value\":0},\"line_join\":{\"value\":\"bevel\"},\"line_width\":{\"value\":1},\"marker\":{\"value\":\"square\"},\"size\":{\"value\":5.477225575051661},\"x\":{\"field\":\"price_change_percentage_14d\"},\"y\":{\"field\":\"price_change_percentage_1y\"}},\"id\":\"18984\",\"type\":\"Scatter\"},{\"attributes\":{\"fill_alpha\":{\"value\":0.1},\"fill_color\":{\"value\":\"#30a2da\"},\"line_alpha\":{\"value\":0.1},\"line_color\":{\"value\":\"#30a2da\"},\"marker\":{\"value\":\"hex\"},\"size\":{\"value\":5.477225575051661},\"x\":{\"field\":\"price_change_percentage_14d\"},\"y\":{\"field\":\"price_change_percentage_1y\"}},\"id\":\"18946\",\"type\":\"Scatter\"},{\"attributes\":{},\"id\":\"18916\",\"type\":\"BasicTicker\"},{\"attributes\":{},\"id\":\"18941\",\"type\":\"BasicTickFormatter\"},{\"attributes\":{\"fill_alpha\":{\"value\":0.1},\"fill_color\":{\"value\":\"#fc4f30\"},\"line_alpha\":{\"value\":0.1},\"line_color\":{\"value\":\"#fc4f30\"},\"marker\":{\"value\":\"square\"},\"size\":{\"value\":5.477225575051661},\"x\":{\"field\":\"price_change_percentage_14d\"},\"y\":{\"field\":\"price_change_percentage_1y\"}},\"id\":\"18967\",\"type\":\"Scatter\"},{\"attributes\":{},\"id\":\"18937\",\"type\":\"AllLabels\"},{\"attributes\":{},\"id\":\"18911\",\"type\":\"LinearScale\"},{\"attributes\":{\"label\":{\"value\":\"1\"},\"renderers\":[{\"id\":\"18969\"}]},\"id\":\"18983\",\"type\":\"LegendItem\"},{\"attributes\":{},\"id\":\"18924\",\"type\":\"PanTool\"},{\"attributes\":{},\"id\":\"18920\",\"type\":\"BasicTicker\"},{\"attributes\":{\"margin\":[5,5,5,5],\"name\":\"HSpacer40062\",\"sizing_mode\":\"stretch_width\"},\"id\":\"19179\",\"type\":\"Spacer\"},{\"attributes\":{\"active_multi\":null,\"tools\":[{\"id\":\"18902\"},{\"id\":\"18923\"},{\"id\":\"18924\"},{\"id\":\"18925\"},{\"id\":\"18926\"},{\"id\":\"18927\"}]},\"id\":\"18929\",\"type\":\"Toolbar\"},{\"attributes\":{\"angle\":{\"value\":0.0},\"fill_alpha\":{\"value\":1.0},\"fill_color\":{\"value\":\"#6d904f\"},\"hatch_alpha\":{\"value\":1.0},\"hatch_color\":{\"value\":\"black\"},\"hatch_scale\":{\"value\":12.0},\"hatch_weight\":{\"value\":1.0},\"line_alpha\":{\"value\":1.0},\"line_cap\":{\"value\":\"butt\"},\"line_color\":{\"value\":\"#6d904f\"},\"line_dash\":{\"value\":[]},\"line_dash_offset\":{\"value\":0},\"line_join\":{\"value\":\"bevel\"},\"line_width\":{\"value\":1},\"marker\":{\"value\":\"inverted_triangle\"},\"size\":{\"value\":5.477225575051661},\"x\":{\"field\":\"price_change_percentage_14d\"},\"y\":{\"field\":\"price_change_percentage_1y\"}},\"id\":\"19034\",\"type\":\"Scatter\"},{\"attributes\":{},\"id\":\"18981\",\"type\":\"UnionRenderers\"},{\"attributes\":{},\"id\":\"19005\",\"type\":\"UnionRenderers\"},{\"attributes\":{\"source\":{\"id\":\"18942\"}},\"id\":\"18949\",\"type\":\"CDSView\"},{\"attributes\":{\"fill_alpha\":{\"value\":0.1},\"fill_color\":{\"value\":\"#e5ae38\"},\"line_alpha\":{\"value\":0.1},\"line_color\":{\"value\":\"#e5ae38\"},\"marker\":{\"value\":\"cross\"},\"size\":{\"value\":5.477225575051661},\"x\":{\"field\":\"price_change_percentage_14d\"},\"y\":{\"field\":\"price_change_percentage_1y\"}},\"id\":\"18989\",\"type\":\"Scatter\"},{\"attributes\":{},\"id\":\"18927\",\"type\":\"ResetTool\"},{\"attributes\":{\"data\":{\"coin_id\":[\"bitcoin\",\"ethereum\",\"bitcoin-cash\",\"binancecoin\",\"chainlink\",\"cardano\",\"litecoin\",\"monero\",\"tezos\",\"cosmos\",\"wrapped-bitcoin\",\"zcash\",\"maker\"],\"crypto_clusters_k4\":[0,0,0,0,0,0,0,0,0,0,0,0,0],\"price_change_percentage_14d\":{\"__ndarray__\":\"nuLdrt216D+RSHVMzuDhP7sQi2Z1K/w/Mmmtxlqb6T8Qp+OGWKDxPxbMkJqqw+Q/7/2Jpv546z+cw3/YDp8BQLkNxiFGg9A/6WDgXhWY5D8zjSqEo6PoPw0FcdFXruU/AkzpMNDmyb8=\",\"dtype\":\"float64\",\"order\":\"little\",\"shape\":[13]},\"price_change_percentage_1y\":{\"__ndarray__\":\"ZIOvlNEa0L8/RW61XoTJvzHqfHffTNG/VVzrnEDezL8xTPVHJbmSv24aeg4U5cO/QqlS3eG10r+H6xnpXXXFv2O+GP+0kMW/vQghwWCLy7/FkSn9mBrQvxtcXcmAf8u/IdIwj+5/0b8=\",\"dtype\":\"float64\",\"order\":\"little\",\"shape\":[13]}},\"selected\":{\"id\":\"18943\"},\"selection_policy\":{\"id\":\"18958\"}},\"id\":\"18942\",\"type\":\"ColumnDataSource\"},{\"attributes\":{\"label\":{\"value\":\"2\"},\"renderers\":[{\"id\":\"18991\"}]},\"id\":\"19007\",\"type\":\"LegendItem\"},{\"attributes\":{\"data\":{\"coin_id\":[\"tether\",\"ripple\",\"bitcoin-cash-sv\",\"crypto-com-chain\",\"usd-coin\",\"eos\",\"tron\",\"okb\",\"stellar\",\"cdai\",\"neo\",\"leo-token\",\"huobi-token\",\"nem\",\"binance-usd\",\"iota\",\"vechain\",\"theta-token\",\"dash\",\"ethereum-classic\",\"havven\",\"omisego\",\"ontology\",\"ftx-token\",\"true-usd\",\"digibyte\"],\"crypto_clusters_k4\":[3,3,3,3,3,3,3,3,3,3,3,3,3,3,3,3,3,3,3,3,3,3,3,3,3,3],\"price_change_percentage_14d\":{\"__ndarray__\":\"HnsBaGQzlr/N3F8oPe7PP3NjPGDhv8+/S7Jsj1Hf8L+Ea3M8HbKXv2o3cmQwcr0/gfuS3PnVwj9EVmWxpyjkvyGfjNZ4ncO/W90W1njBXb8A0bj4GGfzv1aDDY2/5uu/0N4oQb2moD9Mn4eDZwzTPyS7/nSKYI+/K8wLTSmn3r+8kqAso7wBwNk2MV03JOq/M7ls7Q6ApD91cedROXjGvyvzUbHOD/q/O1/1hYrq+b/cP0enpcj0v+FC29fyQqi/ijCfoLDSgr+uLyxJrgbtvw==\",\"dtype\":\"float64\",\"order\":\"little\",\"shape\":[26]},\"price_change_percentage_1y\":{\"__ndarray__\":\"0tbtgUcN0r9onRVeOurSv8DzHRIoX8q/ZYfU+i+zob9Zt1uMFxDSv9d+3k0Q99K/EJWswyz0zb8aTqSC/lzFv7zx0EUAVtG/r2LTfF0R0r/sbi65b3jGv4MlKg5a9tC/jZL+tujG0L8+5EUem4W+v7L3RgiwC9K/QBFeFIRC0r8zoGQ8RRO+vx0crWPUXdI/EKFv4Dku0r8VsZZ513nRv3r6/cSEMdE/58IWQ8Jplr9Y0yK6wrXSvxKiHMC8nsK/P3pCziMI0r/iEUnTKPXAvw==\",\"dtype\":\"float64\",\"order\":\"little\",\"shape\":[26]}},\"selected\":{\"id\":\"19010\"},\"selection_policy\":{\"id\":\"19031\"}},\"id\":\"19009\",\"type\":\"ColumnDataSource\"},{\"attributes\":{},\"id\":\"18913\",\"type\":\"LinearScale\"},{\"attributes\":{\"data_source\":{\"id\":\"18985\"},\"glyph\":{\"id\":\"18988\"},\"hover_glyph\":null,\"muted_glyph\":{\"id\":\"18990\"},\"nonselection_glyph\":{\"id\":\"18989\"},\"selection_glyph\":{\"id\":\"19008\"},\"view\":{\"id\":\"18992\"}},\"id\":\"18991\",\"type\":\"GlyphRenderer\"},{\"attributes\":{\"label\":{\"value\":\"3\"},\"renderers\":[{\"id\":\"19015\"}]},\"id\":\"19033\",\"type\":\"LegendItem\"},{\"attributes\":{\"data_source\":{\"id\":\"18942\"},\"glyph\":{\"id\":\"18945\"},\"hover_glyph\":null,\"muted_glyph\":{\"id\":\"18947\"},\"nonselection_glyph\":{\"id\":\"18946\"},\"selection_glyph\":{\"id\":\"18962\"},\"view\":{\"id\":\"18949\"}},\"id\":\"18948\",\"type\":\"GlyphRenderer\"},{\"attributes\":{\"fill_alpha\":{\"value\":0.1},\"fill_color\":{\"value\":\"#6d904f\"},\"line_alpha\":{\"value\":0.1},\"line_color\":{\"value\":\"#6d904f\"},\"marker\":{\"value\":\"inverted_triangle\"},\"size\":{\"value\":5.477225575051661},\"x\":{\"field\":\"price_change_percentage_14d\"},\"y\":{\"field\":\"price_change_percentage_1y\"}},\"id\":\"19013\",\"type\":\"Scatter\"},{\"attributes\":{\"fill_color\":{\"value\":\"#6d904f\"},\"line_color\":{\"value\":\"#6d904f\"},\"marker\":{\"value\":\"inverted_triangle\"},\"size\":{\"value\":5.477225575051661},\"x\":{\"field\":\"price_change_percentage_14d\"},\"y\":{\"field\":\"price_change_percentage_1y\"}},\"id\":\"19012\",\"type\":\"Scatter\"},{\"attributes\":{\"fill_color\":{\"value\":\"#e5ae38\"},\"line_color\":{\"value\":\"#e5ae38\"},\"marker\":{\"value\":\"cross\"},\"size\":{\"value\":5.477225575051661},\"x\":{\"field\":\"price_change_percentage_14d\"},\"y\":{\"field\":\"price_change_percentage_1y\"}},\"id\":\"18988\",\"type\":\"Scatter\"},{\"attributes\":{},\"id\":\"19031\",\"type\":\"UnionRenderers\"},{\"attributes\":{\"data_source\":{\"id\":\"19009\"},\"glyph\":{\"id\":\"19012\"},\"hover_glyph\":null,\"muted_glyph\":{\"id\":\"19014\"},\"nonselection_glyph\":{\"id\":\"19013\"},\"selection_glyph\":{\"id\":\"19034\"},\"view\":{\"id\":\"19016\"}},\"id\":\"19015\",\"type\":\"GlyphRenderer\"},{\"attributes\":{\"source\":{\"id\":\"18985\"}},\"id\":\"18992\",\"type\":\"CDSView\"},{\"attributes\":{\"axis\":{\"id\":\"18915\"},\"grid_line_color\":null,\"ticker\":null},\"id\":\"18918\",\"type\":\"Grid\"},{\"attributes\":{\"angle\":{\"value\":0.0},\"fill_alpha\":{\"value\":1.0},\"fill_color\":{\"value\":\"#e5ae38\"},\"hatch_alpha\":{\"value\":1.0},\"hatch_color\":{\"value\":\"black\"},\"hatch_scale\":{\"value\":12.0},\"hatch_weight\":{\"value\":1.0},\"line_alpha\":{\"value\":1.0},\"line_cap\":{\"value\":\"butt\"},\"line_color\":{\"value\":\"#e5ae38\"},\"line_dash\":{\"value\":[]},\"line_dash_offset\":{\"value\":0},\"line_join\":{\"value\":\"bevel\"},\"line_width\":{\"value\":1},\"marker\":{\"value\":\"cross\"},\"size\":{\"value\":5.477225575051661},\"x\":{\"field\":\"price_change_percentage_14d\"},\"y\":{\"field\":\"price_change_percentage_1y\"}},\"id\":\"19008\",\"type\":\"Scatter\"}],\"root_ids\":[\"18898\"]},\"title\":\"Bokeh Application\",\"version\":\"2.3.2\"}};\n",
       "    var render_items = [{\"docid\":\"3d8b3ada-e8bb-4c77-b5a9-a7e09276d1ec\",\"root_ids\":[\"18898\"],\"roots\":{\"18898\":\"931cb11c-60f0-4b70-91b5-3af8da72ae0b\"}}];\n",
       "    root.Bokeh.embed.embed_items_notebook(docs_json, render_items);\n",
       "  }\n",
       "  if (root.Bokeh !== undefined && root.Bokeh.Panel !== undefined) {\n",
       "    embed_document(root);\n",
       "  } else {\n",
       "    var attempts = 0;\n",
       "    var timer = setInterval(function(root) {\n",
       "      if (root.Bokeh !== undefined && root.Bokeh.Panel !== undefined) {\n",
       "        clearInterval(timer);\n",
       "        embed_document(root);\n",
       "      } else if (document.readyState == \"complete\") {\n",
       "        attempts++;\n",
       "        if (attempts > 100) {\n",
       "          clearInterval(timer);\n",
       "          console.log(\"Bokeh: ERROR: Unable to run BokehJS code because BokehJS library is missing\");\n",
       "        }\n",
       "      }\n",
       "    }, 10, root)\n",
       "  }\n",
       "})(window);</script>"
      ],
      "text/plain": [
       ":NdOverlay   [crypto_clusters_k4]\n",
       "   :Scatter   [price_change_percentage_14d]   (price_change_percentage_1y,coin_id)"
      ]
     },
     "execution_count": 216,
     "metadata": {
      "application/vnd.holoviews_exec.v0+json": {
       "id": "18898"
      }
     },
     "output_type": "execute_result"
    }
   ],
   "source": [
    "# Create a scatter plot using hvPlot by setting \n",
    "# `x=\"price_change_percentage_14d\"` and `y=\"price_change_percentage_1y\"`.\n",
    "# Group the results by the clusters using `by=\"crypto_cluster_k4\".\n",
    "# Set the hover to the coin id using `hover_cols=[\"coin_id\"]`.\n",
    "\n",
    "df_market_data_scaled.hvplot.scatter(\n",
    "    x=\"price_change_percentage_14d\",\n",
    "    y=\"price_change_percentage_1y\",\n",
    "    by=\"crypto_clusters_k4\",\n",
    "    hover_cols=[\"coin_id\"],\n",
    "    marker=[\"hex\", \"square\", \"cross\", \"inverted_triangle\", \"triangle\"],\n",
    ")"
   ]
  },
  {
   "cell_type": "markdown",
   "metadata": {},
   "source": [
    "---"
   ]
  },
  {
   "cell_type": "markdown",
   "metadata": {},
   "source": [
    "# Find the Best Value for k\n",
    "\n",
    "In this section, you will use the elbow method to find the best value for k.\n",
    "\n",
    "1. Code the elbow method algorithm to find the best value for k. Use a range from 1 to 11. \n",
    "\n",
    "2. Plot a line chart with all the inertia values computed with the different values of k to visually identify the optimal value for k.\n",
    "\n",
    "3. Answer the following question: What is the best value for k?"
   ]
  },
  {
   "cell_type": "code",
   "execution_count": 217,
   "metadata": {},
   "outputs": [],
   "source": [
    "# Create a list with the number of k-values to try\n",
    "# Use a range from 1 to 11\n",
    "\n",
    "k = list(range(1, 11))"
   ]
  },
  {
   "cell_type": "code",
   "execution_count": 218,
   "metadata": {},
   "outputs": [],
   "source": [
    "# Create an empy list to store the inertia values\n",
    "\n",
    "inertia = []"
   ]
  },
  {
   "cell_type": "code",
   "execution_count": 219,
   "metadata": {},
   "outputs": [],
   "source": [
    "# Create a for loop to compute the inertia with each possible value of k\n",
    "# Inside the loop:\n",
    "# 1. Create a KMeans model using the loop counter for the n_clusters\n",
    "# 2. Fit the model to the data using `df_market_data_scaled`\n",
    "# 3. Append the model.inertia_ to the inertia list\n",
    "\n",
    "for i in k:\n",
    "    model = KMeans(n_clusters=i, random_state=0)\n",
    "    model.fit(df_market_data_scaled)\n",
    "    inertia.append(model.inertia_)"
   ]
  },
  {
   "cell_type": "code",
   "execution_count": 220,
   "metadata": {},
   "outputs": [],
   "source": [
    "# Create a dictionary with the data to plot the Elbow curve\n",
    "elbow_data = {\n",
    "    \"k\": k,\n",
    "    \"inertia\": inertia\n",
    "}\n",
    "\n",
    "# Create a DataFrame with the data to plot the Elbow curve\n",
    "df_elbow = pd.DataFrame(elbow_data)"
   ]
  },
  {
   "cell_type": "code",
   "execution_count": 221,
   "metadata": {},
   "outputs": [
    {
     "data": {},
     "metadata": {},
     "output_type": "display_data"
    },
    {
     "data": {
      "application/vnd.holoviews_exec.v0+json": "",
      "text/html": [
       "<div id='19261'>\n",
       "\n",
       "\n",
       "\n",
       "\n",
       "\n",
       "  <div class=\"bk-root\" id=\"a7db0fe6-64ce-4b91-b207-18e9af455129\" data-root-id=\"19261\"></div>\n",
       "</div>\n",
       "<script type=\"application/javascript\">(function(root) {\n",
       "  function embed_document(root) {\n",
       "    var docs_json = {\"0c59e8b8-75df-4b41-864c-27c4261d4891\":{\"defs\":[],\"roots\":{\"references\":[{\"attributes\":{\"margin\":[5,5,5,5],\"name\":\"HSpacer40779\",\"sizing_mode\":\"stretch_width\"},\"id\":\"19332\",\"type\":\"Spacer\"},{\"attributes\":{\"below\":[{\"id\":\"19275\"}],\"center\":[{\"id\":\"19278\"},{\"id\":\"19282\"}],\"height\":300,\"left\":[{\"id\":\"19279\"}],\"margin\":[5,5,5,5],\"min_border_bottom\":10,\"min_border_left\":10,\"min_border_right\":10,\"min_border_top\":10,\"renderers\":[{\"id\":\"19302\"}],\"sizing_mode\":\"fixed\",\"title\":{\"id\":\"19267\"},\"toolbar\":{\"id\":\"19289\"},\"width\":700,\"x_range\":{\"id\":\"19263\"},\"x_scale\":{\"id\":\"19271\"},\"y_range\":{\"id\":\"19264\"},\"y_scale\":{\"id\":\"19273\"}},\"id\":\"19266\",\"subtype\":\"Figure\",\"type\":\"Plot\"},{\"attributes\":{},\"id\":\"19283\",\"type\":\"SaveTool\"},{\"attributes\":{\"line_alpha\":0.2,\"line_color\":\"#30a2da\",\"line_width\":2,\"x\":{\"field\":\"k\"},\"y\":{\"field\":\"inertia\"}},\"id\":\"19301\",\"type\":\"Line\"},{\"attributes\":{},\"id\":\"19307\",\"type\":\"AllLabels\"},{\"attributes\":{\"end\":10.0,\"reset_end\":10.0,\"reset_start\":1.0,\"start\":1.0,\"tags\":[[[\"k\",\"k\",null]]]},\"id\":\"19263\",\"type\":\"Range1d\"},{\"attributes\":{\"axis\":{\"id\":\"19279\"},\"dimension\":1,\"grid_line_color\":null,\"ticker\":null},\"id\":\"19282\",\"type\":\"Grid\"},{\"attributes\":{},\"id\":\"19287\",\"type\":\"ResetTool\"},{\"attributes\":{\"ticks\":[1,2,3,4,5,6,7,8,9,10]},\"id\":\"19305\",\"type\":\"FixedTicker\"},{\"attributes\":{\"axis\":{\"id\":\"19275\"},\"grid_line_color\":null,\"ticker\":null},\"id\":\"19278\",\"type\":\"Grid\"},{\"attributes\":{\"data\":{\"inertia\":{\"__ndarray__\":\"kMH5GJzfdkBsqsk8ZThuQCAlNsmd3mJAGe6ulG/BU0BAiL8XWYZQQMEQ7w5jeUtA51QJxhBmRkBFcN0sL7FCQNZ12s5Kg0BACljqweuHPEA=\",\"dtype\":\"float64\",\"order\":\"little\",\"shape\":[10]},\"k\":[1,2,3,4,5,6,7,8,9,10]},\"selected\":{\"id\":\"19297\"},\"selection_policy\":{\"id\":\"19321\"}},\"id\":\"19296\",\"type\":\"ColumnDataSource\"},{\"attributes\":{\"margin\":[5,5,5,5],\"name\":\"HSpacer40778\",\"sizing_mode\":\"stretch_width\"},\"id\":\"19262\",\"type\":\"Spacer\"},{\"attributes\":{},\"id\":\"19321\",\"type\":\"UnionRenderers\"},{\"attributes\":{\"axis_label\":\"k\",\"formatter\":{\"id\":\"19308\"},\"major_label_policy\":{\"id\":\"19307\"},\"ticker\":{\"id\":\"19305\"}},\"id\":\"19275\",\"type\":\"LinearAxis\"},{\"attributes\":{},\"id\":\"19284\",\"type\":\"PanTool\"},{\"attributes\":{},\"id\":\"19297\",\"type\":\"Selection\"},{\"attributes\":{\"axis_label\":\"inertia\",\"formatter\":{\"id\":\"19313\"},\"major_label_policy\":{\"id\":\"19312\"},\"ticker\":{\"id\":\"19280\"}},\"id\":\"19279\",\"type\":\"LinearAxis\"},{\"attributes\":{\"overlay\":{\"id\":\"19288\"}},\"id\":\"19286\",\"type\":\"BoxZoomTool\"},{\"attributes\":{},\"id\":\"19280\",\"type\":\"BasicTicker\"},{\"attributes\":{\"bottom_units\":\"screen\",\"fill_alpha\":0.5,\"fill_color\":\"lightgrey\",\"left_units\":\"screen\",\"level\":\"overlay\",\"line_alpha\":1.0,\"line_color\":\"black\",\"line_dash\":[4,4],\"line_width\":2,\"right_units\":\"screen\",\"syncable\":false,\"top_units\":\"screen\"},\"id\":\"19288\",\"type\":\"BoxAnnotation\"},{\"attributes\":{\"children\":[{\"id\":\"19262\"},{\"id\":\"19266\"},{\"id\":\"19332\"}],\"margin\":[0,0,0,0],\"name\":\"Row40774\",\"tags\":[\"embedded\"]},\"id\":\"19261\",\"type\":\"Row\"},{\"attributes\":{\"end\":399.7200766193385,\"reset_end\":399.7200766193385,\"reset_start\":-5.213525739552331,\"start\":-5.213525739552331,\"tags\":[[[\"inertia\",\"inertia\",null]]]},\"id\":\"19264\",\"type\":\"Range1d\"},{\"attributes\":{\"text\":\"Elbow Curve of Inertia Values\",\"text_color\":\"black\",\"text_font_size\":\"12pt\"},\"id\":\"19267\",\"type\":\"Title\"},{\"attributes\":{},\"id\":\"19271\",\"type\":\"LinearScale\"},{\"attributes\":{\"line_color\":\"#30a2da\",\"line_width\":2,\"x\":{\"field\":\"k\"},\"y\":{\"field\":\"inertia\"}},\"id\":\"19304\",\"type\":\"Line\"},{\"attributes\":{\"line_color\":\"#30a2da\",\"line_width\":2,\"x\":{\"field\":\"k\"},\"y\":{\"field\":\"inertia\"}},\"id\":\"19299\",\"type\":\"Line\"},{\"attributes\":{\"active_multi\":null,\"tools\":[{\"id\":\"19265\"},{\"id\":\"19283\"},{\"id\":\"19284\"},{\"id\":\"19285\"},{\"id\":\"19286\"},{\"id\":\"19287\"}]},\"id\":\"19289\",\"type\":\"Toolbar\"},{\"attributes\":{\"source\":{\"id\":\"19296\"}},\"id\":\"19303\",\"type\":\"CDSView\"},{\"attributes\":{},\"id\":\"19312\",\"type\":\"AllLabels\"},{\"attributes\":{\"callback\":null,\"renderers\":[{\"id\":\"19302\"}],\"tags\":[\"hv_created\"],\"tooltips\":[[\"k\",\"@{k}\"],[\"inertia\",\"@{inertia}\"]]},\"id\":\"19265\",\"type\":\"HoverTool\"},{\"attributes\":{\"data_source\":{\"id\":\"19296\"},\"glyph\":{\"id\":\"19299\"},\"hover_glyph\":null,\"muted_glyph\":{\"id\":\"19301\"},\"nonselection_glyph\":{\"id\":\"19300\"},\"selection_glyph\":{\"id\":\"19304\"},\"view\":{\"id\":\"19303\"}},\"id\":\"19302\",\"type\":\"GlyphRenderer\"},{\"attributes\":{},\"id\":\"19313\",\"type\":\"BasicTickFormatter\"},{\"attributes\":{},\"id\":\"19273\",\"type\":\"LinearScale\"},{\"attributes\":{},\"id\":\"19285\",\"type\":\"WheelZoomTool\"},{\"attributes\":{},\"id\":\"19308\",\"type\":\"BasicTickFormatter\"},{\"attributes\":{\"line_alpha\":0.1,\"line_color\":\"#30a2da\",\"line_width\":2,\"x\":{\"field\":\"k\"},\"y\":{\"field\":\"inertia\"}},\"id\":\"19300\",\"type\":\"Line\"}],\"root_ids\":[\"19261\"]},\"title\":\"Bokeh Application\",\"version\":\"2.3.2\"}};\n",
       "    var render_items = [{\"docid\":\"0c59e8b8-75df-4b41-864c-27c4261d4891\",\"root_ids\":[\"19261\"],\"roots\":{\"19261\":\"a7db0fe6-64ce-4b91-b207-18e9af455129\"}}];\n",
       "    root.Bokeh.embed.embed_items_notebook(docs_json, render_items);\n",
       "  }\n",
       "  if (root.Bokeh !== undefined && root.Bokeh.Panel !== undefined) {\n",
       "    embed_document(root);\n",
       "  } else {\n",
       "    var attempts = 0;\n",
       "    var timer = setInterval(function(root) {\n",
       "      if (root.Bokeh !== undefined && root.Bokeh.Panel !== undefined) {\n",
       "        clearInterval(timer);\n",
       "        embed_document(root);\n",
       "      } else if (document.readyState == \"complete\") {\n",
       "        attempts++;\n",
       "        if (attempts > 100) {\n",
       "          clearInterval(timer);\n",
       "          console.log(\"Bokeh: ERROR: Unable to run BokehJS code because BokehJS library is missing\");\n",
       "        }\n",
       "      }\n",
       "    }, 10, root)\n",
       "  }\n",
       "})(window);</script>"
      ],
      "text/plain": [
       ":Curve   [k]   (inertia)"
      ]
     },
     "execution_count": 221,
     "metadata": {
      "application/vnd.holoviews_exec.v0+json": {
       "id": "19261"
      }
     },
     "output_type": "execute_result"
    }
   ],
   "source": [
    "# Plot a line chart with all the inertia values computed with \n",
    "# the different values of k to visually identify the optimal value for k.\n",
    "\n",
    "df_elbow.hvplot.line(x=\"k\", y= \"inertia\", title= \"Elbow Curve of Inertia Values\", xticks=k)"
   ]
  },
  {
   "cell_type": "markdown",
   "metadata": {},
   "source": [
    "#### 3. Answer the following question: What is the best value for k?\n",
    "**Question:** What is the best value for `k`?\n",
    "\n",
    "**Answer:** The best value is k=5"
   ]
  },
  {
   "cell_type": "markdown",
   "metadata": {},
   "source": [
    "---"
   ]
  },
  {
   "cell_type": "markdown",
   "metadata": {},
   "source": [
    "# Optimize Clusters with Principal Component Analysis\n",
    "\n",
    "In this section, you will perform a principal component analysis (PCA) and reduce the features to three principal components.\n",
    "\n",
    "1. Create a PCA model instance and set `n_components=3`.\n",
    "\n",
    "2. Use the PCA model to reduce to three principal components. View the first five rows of the DataFrame. \n",
    "\n",
    "3. Retrieve the explained variance to determine how much information can be attributed to each principal component.\n",
    "\n",
    "4. Answer the following question: What is the total explained variance of the three principal components?\n",
    "\n",
    "5. Create a new DataFrame with the PCA data. Be sure to set the `coin_id` index from the original DataFrame as the index for the new DataFrame. Review the resulting DataFrame.\n",
    "\n",
    "6. Initiate a new  K-Means algorithm using the PCA DataFrame to group the cryptocurrencies. Set the `n_components` parameter equal to the best value for `k` found before. View the resulting array. \n",
    "\n",
    "7. For further analysis, add the following columns to the DataFrame with the PCA data. Review the resulting DataFrame once the additional columns have been added. Make sure to do the following:\n",
    "\n",
    "    - From the original DataFrame, add the `price_change_percentage_1y` and `price_change_percentage_14d` columns.\n",
    "\n",
    "    - Add a column with the predicted cluster values identified using a k value of 4. (The predicted cluster values were calculated in the “Cluster Cryptocurrencies with K-means” section.)\n",
    "\n",
    "    - Add a column with the predicted cluster values identified using the optimal value for k. \n"
   ]
  },
  {
   "cell_type": "code",
   "execution_count": 222,
   "metadata": {},
   "outputs": [],
   "source": [
    "# Create a PCA model instance and set `n_components=3`.\n",
    "\n",
    "pca = PCA(n_components=3)"
   ]
  },
  {
   "cell_type": "code",
   "execution_count": 223,
   "metadata": {},
   "outputs": [
    {
     "data": {
      "text/plain": [
       "array([[ 2.03409288, -0.64157137, -0.35762863],\n",
       "       [ 1.99450168, -0.49054937, -0.91224962],\n",
       "       [-1.06854412, -0.41720452,  0.5963108 ],\n",
       "       [-1.04091865, -0.45523427,  0.4678008 ],\n",
       "       [ 3.30276384, -1.24245766, -0.217276  ]])"
      ]
     },
     "execution_count": 223,
     "metadata": {},
     "output_type": "execute_result"
    }
   ],
   "source": [
    "# Use the PCA model with `fit_transform` to reduce to \n",
    "# three principal components.\n",
    "\n",
    "market_pca_data = pca.fit_transform(df_market_data_scaled)\n",
    "\n",
    "# View the first five rows of the DataFrame. \n",
    "market_pca_data[:5]"
   ]
  },
  {
   "cell_type": "code",
   "execution_count": 224,
   "metadata": {},
   "outputs": [
    {
     "data": {
      "text/plain": [
       "array([0.36941241, 0.29169375, 0.22893878])"
      ]
     },
     "execution_count": 224,
     "metadata": {},
     "output_type": "execute_result"
    }
   ],
   "source": [
    "# Retrieve the explained variance to determine how much information \n",
    "# can be attributed to each principal component.\n",
    "\n",
    "pca.explained_variance_ratio_"
   ]
  },
  {
   "cell_type": "code",
   "execution_count": 225,
   "metadata": {},
   "outputs": [
    {
     "data": {
      "text/plain": [
       "0.8900449398681148"
      ]
     },
     "execution_count": 225,
     "metadata": {},
     "output_type": "execute_result"
    }
   ],
   "source": [
    "pca.explained_variance_ratio_.sum()"
   ]
  },
  {
   "cell_type": "markdown",
   "metadata": {},
   "source": [
    "Answer the following question: What is the total explained variance of the three principal components?\n",
    "\n",
    "**Question** What is the total explained variance of the three principal components?\n",
    "\n",
    "**Answer** The total explained variance of the three principal components is 0.8846054."
   ]
  },
  {
   "cell_type": "code",
   "execution_count": 226,
   "metadata": {},
   "outputs": [
    {
     "data": {
      "text/html": [
       "<div>\n",
       "<style scoped>\n",
       "    .dataframe tbody tr th:only-of-type {\n",
       "        vertical-align: middle;\n",
       "    }\n",
       "\n",
       "    .dataframe tbody tr th {\n",
       "        vertical-align: top;\n",
       "    }\n",
       "\n",
       "    .dataframe thead th {\n",
       "        text-align: right;\n",
       "    }\n",
       "</style>\n",
       "<table border=\"1\" class=\"dataframe\">\n",
       "  <thead>\n",
       "    <tr style=\"text-align: right;\">\n",
       "      <th></th>\n",
       "      <th>PC1</th>\n",
       "      <th>PC2</th>\n",
       "      <th>PC3</th>\n",
       "    </tr>\n",
       "    <tr>\n",
       "      <th>coin_id</th>\n",
       "      <th></th>\n",
       "      <th></th>\n",
       "      <th></th>\n",
       "    </tr>\n",
       "  </thead>\n",
       "  <tbody>\n",
       "    <tr>\n",
       "      <th>bitcoin</th>\n",
       "      <td>2.034093</td>\n",
       "      <td>-0.641571</td>\n",
       "      <td>-0.357629</td>\n",
       "    </tr>\n",
       "    <tr>\n",
       "      <th>ethereum</th>\n",
       "      <td>1.994502</td>\n",
       "      <td>-0.490549</td>\n",
       "      <td>-0.912250</td>\n",
       "    </tr>\n",
       "    <tr>\n",
       "      <th>tether</th>\n",
       "      <td>-1.068544</td>\n",
       "      <td>-0.417205</td>\n",
       "      <td>0.596311</td>\n",
       "    </tr>\n",
       "    <tr>\n",
       "      <th>ripple</th>\n",
       "      <td>-1.040919</td>\n",
       "      <td>-0.455234</td>\n",
       "      <td>0.467801</td>\n",
       "    </tr>\n",
       "    <tr>\n",
       "      <th>bitcoin-cash</th>\n",
       "      <td>3.302764</td>\n",
       "      <td>-1.242458</td>\n",
       "      <td>-0.217276</td>\n",
       "    </tr>\n",
       "  </tbody>\n",
       "</table>\n",
       "</div>"
      ],
      "text/plain": [
       "                   PC1       PC2       PC3\n",
       "coin_id                                   \n",
       "bitcoin       2.034093 -0.641571 -0.357629\n",
       "ethereum      1.994502 -0.490549 -0.912250\n",
       "tether       -1.068544 -0.417205  0.596311\n",
       "ripple       -1.040919 -0.455234  0.467801\n",
       "bitcoin-cash  3.302764 -1.242458 -0.217276"
      ]
     },
     "execution_count": 226,
     "metadata": {},
     "output_type": "execute_result"
    }
   ],
   "source": [
    "# Create a new DataFrame with the PCA data.\n",
    "# Note: The code for this step is provided for you\n",
    "\n",
    "# Creating a DataFrame with the PCA data\n",
    "df_market_data_pca = pd.DataFrame(\n",
    "    market_pca_data, \n",
    "    columns=[\"PC1\", \"PC2\", \"PC3\"]\n",
    ")\n",
    "\n",
    "# Copy the crypto names from the original data\n",
    "df_market_data_pca[\"coin_id\"] = df_market_data.index\n",
    "\n",
    "# Set the coinid column as index\n",
    "df_market_data_pca = df_market_data_pca.set_index(\"coin_id\")\n",
    "\n",
    "# Display sample data\n",
    "df_market_data_pca.head()"
   ]
  },
  {
   "cell_type": "code",
   "execution_count": 227,
   "metadata": {},
   "outputs": [
    {
     "data": {
      "text/plain": [
       "array([0, 0, 1, 1, 0, 0, 0, 0, 0, 1, 1, 1, 1, 0, 1, 0, 1, 1, 0, 1, 1, 0,\n",
       "       1, 1, 4, 1, 1, 1, 0, 4, 1, 1, 2, 0, 1, 4, 3, 1, 1, 1, 1],\n",
       "      dtype=int32)"
      ]
     },
     "execution_count": 227,
     "metadata": {},
     "output_type": "execute_result"
    }
   ],
   "source": [
    "# Initiate a new K-Means algorithm using the PCA DataFrame to group \n",
    "# the cryptocurrencies. Set the `n_components` parameter equal to \n",
    "# the best value for `k` found before. View the resulting array. \n",
    "\n",
    "# Initialize the K-Means model\n",
    "\n",
    "model = KMeans(n_clusters=5)\n",
    "\n",
    "# Fit the model\n",
    "\n",
    "model.fit(df_market_data_scaled)\n",
    "\n",
    "# Predict clusters\n",
    "crypto_clusters_k5 = model.predict(df_market_data_scaled)\n",
    "\n",
    "# View the resulting array\n",
    "crypto_clusters_k5"
   ]
  },
  {
   "cell_type": "code",
   "execution_count": 228,
   "metadata": {},
   "outputs": [
    {
     "data": {
      "text/html": [
       "<div>\n",
       "<style scoped>\n",
       "    .dataframe tbody tr th:only-of-type {\n",
       "        vertical-align: middle;\n",
       "    }\n",
       "\n",
       "    .dataframe tbody tr th {\n",
       "        vertical-align: top;\n",
       "    }\n",
       "\n",
       "    .dataframe thead th {\n",
       "        text-align: right;\n",
       "    }\n",
       "</style>\n",
       "<table border=\"1\" class=\"dataframe\">\n",
       "  <thead>\n",
       "    <tr style=\"text-align: right;\">\n",
       "      <th></th>\n",
       "      <th>PC1</th>\n",
       "      <th>PC2</th>\n",
       "      <th>PC3</th>\n",
       "      <th>price_change_percentage_1y</th>\n",
       "      <th>price_change_percentage_14d</th>\n",
       "      <th>crypto_clusters_k5</th>\n",
       "      <th>crypto_clusters_k4</th>\n",
       "    </tr>\n",
       "    <tr>\n",
       "      <th>coin_id</th>\n",
       "      <th></th>\n",
       "      <th></th>\n",
       "      <th></th>\n",
       "      <th></th>\n",
       "      <th></th>\n",
       "      <th></th>\n",
       "      <th></th>\n",
       "    </tr>\n",
       "  </thead>\n",
       "  <tbody>\n",
       "    <tr>\n",
       "      <th>bitcoin</th>\n",
       "      <td>2.034093</td>\n",
       "      <td>-0.641571</td>\n",
       "      <td>-0.357629</td>\n",
       "      <td>37.51761</td>\n",
       "      <td>6.57509</td>\n",
       "      <td>0</td>\n",
       "      <td>0</td>\n",
       "    </tr>\n",
       "    <tr>\n",
       "      <th>ethereum</th>\n",
       "      <td>1.994502</td>\n",
       "      <td>-0.490549</td>\n",
       "      <td>-0.912250</td>\n",
       "      <td>101.96023</td>\n",
       "      <td>4.80849</td>\n",
       "      <td>0</td>\n",
       "      <td>0</td>\n",
       "    </tr>\n",
       "    <tr>\n",
       "      <th>tether</th>\n",
       "      <td>-1.068544</td>\n",
       "      <td>-0.417205</td>\n",
       "      <td>0.596311</td>\n",
       "      <td>0.01954</td>\n",
       "      <td>0.00640</td>\n",
       "      <td>1</td>\n",
       "      <td>3</td>\n",
       "    </tr>\n",
       "    <tr>\n",
       "      <th>ripple</th>\n",
       "      <td>-1.040919</td>\n",
       "      <td>-0.455234</td>\n",
       "      <td>0.467801</td>\n",
       "      <td>-16.60193</td>\n",
       "      <td>2.24984</td>\n",
       "      <td>1</td>\n",
       "      <td>3</td>\n",
       "    </tr>\n",
       "    <tr>\n",
       "      <th>bitcoin-cash</th>\n",
       "      <td>3.302764</td>\n",
       "      <td>-1.242458</td>\n",
       "      <td>-0.217276</td>\n",
       "      <td>14.49384</td>\n",
       "      <td>14.75334</td>\n",
       "      <td>0</td>\n",
       "      <td>0</td>\n",
       "    </tr>\n",
       "  </tbody>\n",
       "</table>\n",
       "</div>"
      ],
      "text/plain": [
       "                   PC1       PC2       PC3  price_change_percentage_1y  \\\n",
       "coin_id                                                                  \n",
       "bitcoin       2.034093 -0.641571 -0.357629                    37.51761   \n",
       "ethereum      1.994502 -0.490549 -0.912250                   101.96023   \n",
       "tether       -1.068544 -0.417205  0.596311                     0.01954   \n",
       "ripple       -1.040919 -0.455234  0.467801                   -16.60193   \n",
       "bitcoin-cash  3.302764 -1.242458 -0.217276                    14.49384   \n",
       "\n",
       "              price_change_percentage_14d  crypto_clusters_k5  \\\n",
       "coin_id                                                         \n",
       "bitcoin                           6.57509                   0   \n",
       "ethereum                          4.80849                   0   \n",
       "tether                            0.00640                   1   \n",
       "ripple                            2.24984                   1   \n",
       "bitcoin-cash                     14.75334                   0   \n",
       "\n",
       "              crypto_clusters_k4  \n",
       "coin_id                           \n",
       "bitcoin                        0  \n",
       "ethereum                       0  \n",
       "tether                         3  \n",
       "ripple                         3  \n",
       "bitcoin-cash                   0  "
      ]
     },
     "execution_count": 228,
     "metadata": {},
     "output_type": "execute_result"
    }
   ],
   "source": [
    "# Note: The code for the following step has been provided for you.\n",
    "\n",
    "# For further analysis, add the following columns to the DataFrame \n",
    "# with the PCA data. Review the resulting DataFrame once the additional \n",
    "# columns have been added. Make sure to do the following:\n",
    "# - From the original DataFrame, add the `price_change_percentage_1y` and `price_change_percentage_14d` columns.\n",
    "# - Add a column with the predicted cluster values identified using a k value of 4. (The predicted cluster values were calculated in the “Cluster Cryptocurrencies with K-means” section.)\n",
    "# - Add a column with the predicted cluster values identified using the optimal value for k. \n",
    "\n",
    "\n",
    "# Add the price_change_percentage_1y column from the original data\n",
    "df_market_data_pca[\"price_change_percentage_1y\"] = df_market_data[\"price_change_percentage_1y\"]\n",
    "\n",
    "# Add the price_change_percentage_14d column from the original data\n",
    "df_market_data_pca[\"price_change_percentage_14d\"] = df_market_data[\"price_change_percentage_14d\"]\n",
    "\n",
    "# Add a new column to the DataFrame with the predicted clusters using the best value of k\n",
    "df_market_data_pca[\"crypto_clusters_k5\"] = crypto_clusters_k5\n",
    "\n",
    "# Add a new column to the DataFrame with the predicted clusters using k=4\n",
    "df_market_data_pca[\"crypto_clusters_k4\"] = crypto_clusters_k4\n",
    "\n",
    "# Display sample data\n",
    "df_market_data_pca.head()"
   ]
  },
  {
   "cell_type": "markdown",
   "metadata": {},
   "source": [
    "# Step 6: Plot Results\n",
    "\n",
    "In this section, you will visually analyze the cluster analysis results after using the optimization techniques.\n",
    "\n",
    "1. Use the PCA data to create two scatter plots using hvPlot by setting `x=\"price_change_percentage_14d\"` and `y=\"price_change_percentage_1y\"`. Make sure to do the following: \n",
    "\n",
    "    - In the first plot, color the plot points by the cluster values identified using a k value of 4.\n",
    "\n",
    "    - In the second plot, color the plot points by the cluster values identified using the optimal value for k.\n",
    "\n",
    "    - In both plots, add the crypto name by sing the `hover_cols` parameter to identify the cryptocurrency represented by each data point. \n",
    "\n",
    "2. Be sure to professionally style and format the plots so that the visualizations can be easily read. \n",
    "\n",
    "3. Answer the following question: What value of k creates the most accurate clusters of cryptocurrencies, grouped by profitability?\n"
   ]
  },
  {
   "cell_type": "code",
   "execution_count": 229,
   "metadata": {},
   "outputs": [
    {
     "data": {},
     "metadata": {},
     "output_type": "display_data"
    },
    {
     "data": {
      "application/vnd.holoviews_exec.v0+json": "",
      "text/html": [
       "<div id='19379'>\n",
       "\n",
       "\n",
       "\n",
       "\n",
       "\n",
       "  <div class=\"bk-root\" id=\"40de628b-d4a9-4b96-a1e7-e4b9526ed0d0\" data-root-id=\"19379\"></div>\n",
       "</div>\n",
       "<script type=\"application/javascript\">(function(root) {\n",
       "  function embed_document(root) {\n",
       "    var docs_json = {\"7cda2374-c1cc-4bff-a1cc-6b37297d361f\":{\"defs\":[],\"roots\":{\"references\":[{\"attributes\":{\"data\":{\"coin_id\":[\"ethlend\"],\"crypto_clusters_k4\":[1],\"price_change_percentage_14d\":{\"__ndarray__\":\"RIts5/uZI8A=\",\"dtype\":\"float64\",\"order\":\"little\",\"shape\":[1]},\"price_change_percentage_1y\":{\"__ndarray__\":\"dEaU9hasvkA=\",\"dtype\":\"float64\",\"order\":\"little\",\"shape\":[1]}},\"selected\":{\"id\":\"19445\"},\"selection_policy\":{\"id\":\"19462\"}},\"id\":\"19444\",\"type\":\"ColumnDataSource\"},{\"attributes\":{},\"id\":\"19418\",\"type\":\"AllLabels\"},{\"attributes\":{\"axis\":{\"id\":\"19396\"},\"grid_line_color\":null,\"ticker\":null},\"id\":\"19399\",\"type\":\"Grid\"},{\"attributes\":{},\"id\":\"19408\",\"type\":\"ResetTool\"},{\"attributes\":{\"overlay\":{\"id\":\"19409\"}},\"id\":\"19407\",\"type\":\"BoxZoomTool\"},{\"attributes\":{\"angle\":{\"value\":0.0},\"fill_alpha\":{\"value\":1.0},\"fill_color\":{\"value\":\"#fc4f30\"},\"hatch_alpha\":{\"value\":1.0},\"hatch_color\":{\"value\":\"black\"},\"hatch_scale\":{\"value\":12.0},\"hatch_weight\":{\"value\":1.0},\"line_alpha\":{\"value\":1.0},\"line_cap\":{\"value\":\"butt\"},\"line_color\":{\"value\":\"#fc4f30\"},\"line_dash\":{\"value\":[]},\"line_dash_offset\":{\"value\":0},\"line_join\":{\"value\":\"bevel\"},\"line_width\":{\"value\":1},\"marker\":{\"value\":\"circle\"},\"size\":{\"value\":5.477225575051661},\"x\":{\"field\":\"price_change_percentage_14d\"},\"y\":{\"field\":\"price_change_percentage_1y\"}},\"id\":\"19465\",\"type\":\"Scatter\"},{\"attributes\":{\"angle\":{\"value\":0.0},\"fill_alpha\":{\"value\":1.0},\"fill_color\":{\"value\":\"#6d904f\"},\"hatch_alpha\":{\"value\":1.0},\"hatch_color\":{\"value\":\"black\"},\"hatch_scale\":{\"value\":12.0},\"hatch_weight\":{\"value\":1.0},\"line_alpha\":{\"value\":1.0},\"line_cap\":{\"value\":\"butt\"},\"line_color\":{\"value\":\"#6d904f\"},\"line_dash\":{\"value\":[]},\"line_dash_offset\":{\"value\":0},\"line_join\":{\"value\":\"bevel\"},\"line_width\":{\"value\":1},\"marker\":{\"value\":\"circle\"},\"size\":{\"value\":5.477225575051661},\"x\":{\"field\":\"price_change_percentage_14d\"},\"y\":{\"field\":\"price_change_percentage_1y\"}},\"id\":\"19515\",\"type\":\"Scatter\"},{\"attributes\":{},\"id\":\"19394\",\"type\":\"LinearScale\"},{\"attributes\":{},\"id\":\"19392\",\"type\":\"LinearScale\"},{\"attributes\":{\"source\":{\"id\":\"19466\"}},\"id\":\"19473\",\"type\":\"CDSView\"},{\"attributes\":{\"data_source\":{\"id\":\"19466\"},\"glyph\":{\"id\":\"19469\"},\"hover_glyph\":null,\"muted_glyph\":{\"id\":\"19471\"},\"nonselection_glyph\":{\"id\":\"19470\"},\"selection_glyph\":{\"id\":\"19489\"},\"view\":{\"id\":\"19473\"}},\"id\":\"19472\",\"type\":\"GlyphRenderer\"},{\"attributes\":{\"fill_alpha\":{\"value\":0.2},\"fill_color\":{\"value\":\"#fc4f30\"},\"line_alpha\":{\"value\":0.2},\"line_color\":{\"value\":\"#fc4f30\"},\"size\":{\"value\":5.477225575051661},\"x\":{\"field\":\"price_change_percentage_14d\"},\"y\":{\"field\":\"price_change_percentage_1y\"}},\"id\":\"19449\",\"type\":\"Scatter\"},{\"attributes\":{},\"id\":\"19467\",\"type\":\"Selection\"},{\"attributes\":{\"fill_color\":{\"value\":\"#e5ae38\"},\"line_color\":{\"value\":\"#e5ae38\"},\"size\":{\"value\":5.477225575051661},\"x\":{\"field\":\"price_change_percentage_14d\"},\"y\":{\"field\":\"price_change_percentage_1y\"}},\"id\":\"19469\",\"type\":\"Scatter\"},{\"attributes\":{\"data_source\":{\"id\":\"19490\"},\"glyph\":{\"id\":\"19493\"},\"hover_glyph\":null,\"muted_glyph\":{\"id\":\"19495\"},\"nonselection_glyph\":{\"id\":\"19494\"},\"selection_glyph\":{\"id\":\"19515\"},\"view\":{\"id\":\"19497\"}},\"id\":\"19496\",\"type\":\"GlyphRenderer\"},{\"attributes\":{\"angle\":{\"value\":0.0},\"fill_alpha\":{\"value\":1.0},\"fill_color\":{\"value\":\"#30a2da\"},\"hatch_alpha\":{\"value\":1.0},\"hatch_color\":{\"value\":\"black\"},\"hatch_scale\":{\"value\":12.0},\"hatch_weight\":{\"value\":1.0},\"line_alpha\":{\"value\":1.0},\"line_cap\":{\"value\":\"butt\"},\"line_color\":{\"value\":\"#30a2da\"},\"line_dash\":{\"value\":[]},\"line_dash_offset\":{\"value\":0},\"line_join\":{\"value\":\"bevel\"},\"line_width\":{\"value\":1},\"marker\":{\"value\":\"circle\"},\"size\":{\"value\":5.477225575051661},\"x\":{\"field\":\"price_change_percentage_14d\"},\"y\":{\"field\":\"price_change_percentage_1y\"}},\"id\":\"19443\",\"type\":\"Scatter\"},{\"attributes\":{\"callback\":null,\"renderers\":[{\"id\":\"19429\"},{\"id\":\"19450\"},{\"id\":\"19472\"},{\"id\":\"19496\"}],\"tags\":[\"hv_created\"],\"tooltips\":[[\"crypto_clusters_k4\",\"@{crypto_clusters_k4}\"],[\"price_change_percentage_14d\",\"@{price_change_percentage_14d}\"],[\"price_change_percentage_1y\",\"@{price_change_percentage_1y}\"],[\"coin_id\",\"@{coin_id}\"]]},\"id\":\"19383\",\"type\":\"HoverTool\"},{\"attributes\":{\"fill_alpha\":{\"value\":0.1},\"fill_color\":{\"value\":\"#e5ae38\"},\"line_alpha\":{\"value\":0.1},\"line_color\":{\"value\":\"#e5ae38\"},\"size\":{\"value\":5.477225575051661},\"x\":{\"field\":\"price_change_percentage_14d\"},\"y\":{\"field\":\"price_change_percentage_1y\"}},\"id\":\"19470\",\"type\":\"Scatter\"},{\"attributes\":{\"label\":{\"value\":\"2\"},\"renderers\":[{\"id\":\"19472\"}]},\"id\":\"19488\",\"type\":\"LegendItem\"},{\"attributes\":{\"data_source\":{\"id\":\"19444\"},\"glyph\":{\"id\":\"19447\"},\"hover_glyph\":null,\"muted_glyph\":{\"id\":\"19449\"},\"nonselection_glyph\":{\"id\":\"19448\"},\"selection_glyph\":{\"id\":\"19465\"},\"view\":{\"id\":\"19451\"}},\"id\":\"19450\",\"type\":\"GlyphRenderer\"},{\"attributes\":{},\"id\":\"19486\",\"type\":\"UnionRenderers\"},{\"attributes\":{},\"id\":\"19462\",\"type\":\"UnionRenderers\"},{\"attributes\":{\"fill_alpha\":{\"value\":0.2},\"fill_color\":{\"value\":\"#e5ae38\"},\"line_alpha\":{\"value\":0.2},\"line_color\":{\"value\":\"#e5ae38\"},\"size\":{\"value\":5.477225575051661},\"x\":{\"field\":\"price_change_percentage_14d\"},\"y\":{\"field\":\"price_change_percentage_1y\"}},\"id\":\"19471\",\"type\":\"Scatter\"},{\"attributes\":{},\"id\":\"19421\",\"type\":\"AllLabels\"},{\"attributes\":{\"fill_alpha\":{\"value\":0.1},\"fill_color\":{\"value\":\"#fc4f30\"},\"line_alpha\":{\"value\":0.1},\"line_color\":{\"value\":\"#fc4f30\"},\"size\":{\"value\":5.477225575051661},\"x\":{\"field\":\"price_change_percentage_14d\"},\"y\":{\"field\":\"price_change_percentage_1y\"}},\"id\":\"19448\",\"type\":\"Scatter\"},{\"attributes\":{\"axis\":{\"id\":\"19400\"},\"dimension\":1,\"grid_line_color\":null,\"ticker\":null},\"id\":\"19403\",\"type\":\"Grid\"},{\"attributes\":{\"end\":8639.055423,\"reset_end\":8639.055423,\"reset_start\":-804.5332530000002,\"start\":-804.5332530000002,\"tags\":[[[\"price_change_percentage_1y\",\"price_change_percentage_1y\",null]]]},\"id\":\"19382\",\"type\":\"Range1d\"},{\"attributes\":{},\"id\":\"19439\",\"type\":\"UnionRenderers\"},{\"attributes\":{\"end\":26.056251,\"reset_end\":26.056251,\"reset_start\":-19.975960999999998,\"start\":-19.975960999999998,\"tags\":[[[\"price_change_percentage_14d\",\"price_change_percentage_14d\",null]]]},\"id\":\"19381\",\"type\":\"Range1d\"},{\"attributes\":{\"label\":{\"value\":\"1\"},\"renderers\":[{\"id\":\"19450\"}]},\"id\":\"19464\",\"type\":\"LegendItem\"},{\"attributes\":{},\"id\":\"19419\",\"type\":\"BasicTickFormatter\"},{\"attributes\":{\"axis_label\":\"price_change_percentage_14d\",\"formatter\":{\"id\":\"19419\"},\"major_label_policy\":{\"id\":\"19418\"},\"ticker\":{\"id\":\"19397\"}},\"id\":\"19396\",\"type\":\"LinearAxis\"},{\"attributes\":{\"fill_color\":{\"value\":\"#fc4f30\"},\"line_color\":{\"value\":\"#fc4f30\"},\"size\":{\"value\":5.477225575051661},\"x\":{\"field\":\"price_change_percentage_14d\"},\"y\":{\"field\":\"price_change_percentage_1y\"}},\"id\":\"19447\",\"type\":\"Scatter\"},{\"attributes\":{\"angle\":{\"value\":0.0},\"fill_alpha\":{\"value\":1.0},\"fill_color\":{\"value\":\"#e5ae38\"},\"hatch_alpha\":{\"value\":1.0},\"hatch_color\":{\"value\":\"black\"},\"hatch_scale\":{\"value\":12.0},\"hatch_weight\":{\"value\":1.0},\"line_alpha\":{\"value\":1.0},\"line_cap\":{\"value\":\"butt\"},\"line_color\":{\"value\":\"#e5ae38\"},\"line_dash\":{\"value\":[]},\"line_dash_offset\":{\"value\":0},\"line_join\":{\"value\":\"bevel\"},\"line_width\":{\"value\":1},\"marker\":{\"value\":\"circle\"},\"size\":{\"value\":5.477225575051661},\"x\":{\"field\":\"price_change_percentage_14d\"},\"y\":{\"field\":\"price_change_percentage_1y\"}},\"id\":\"19489\",\"type\":\"Scatter\"},{\"attributes\":{\"data_source\":{\"id\":\"19423\"},\"glyph\":{\"id\":\"19426\"},\"hover_glyph\":null,\"muted_glyph\":{\"id\":\"19428\"},\"nonselection_glyph\":{\"id\":\"19427\"},\"selection_glyph\":{\"id\":\"19443\"},\"view\":{\"id\":\"19430\"}},\"id\":\"19429\",\"type\":\"GlyphRenderer\"},{\"attributes\":{\"click_policy\":\"mute\",\"items\":[{\"id\":\"19442\"},{\"id\":\"19464\"},{\"id\":\"19488\"},{\"id\":\"19514\"}],\"location\":[0,0],\"title\":\"crypto_clusters_k4\"},\"id\":\"19441\",\"type\":\"Legend\"},{\"attributes\":{},\"id\":\"19406\",\"type\":\"WheelZoomTool\"},{\"attributes\":{\"source\":{\"id\":\"19423\"}},\"id\":\"19430\",\"type\":\"CDSView\"},{\"attributes\":{},\"id\":\"19491\",\"type\":\"Selection\"},{\"attributes\":{\"fill_color\":{\"value\":\"#6d904f\"},\"line_color\":{\"value\":\"#6d904f\"},\"size\":{\"value\":5.477225575051661},\"x\":{\"field\":\"price_change_percentage_14d\"},\"y\":{\"field\":\"price_change_percentage_1y\"}},\"id\":\"19493\",\"type\":\"Scatter\"},{\"attributes\":{},\"id\":\"19397\",\"type\":\"BasicTicker\"},{\"attributes\":{},\"id\":\"19401\",\"type\":\"BasicTicker\"},{\"attributes\":{},\"id\":\"19424\",\"type\":\"Selection\"},{\"attributes\":{},\"id\":\"19422\",\"type\":\"BasicTickFormatter\"},{\"attributes\":{\"bottom_units\":\"screen\",\"fill_alpha\":0.5,\"fill_color\":\"lightgrey\",\"left_units\":\"screen\",\"level\":\"overlay\",\"line_alpha\":1.0,\"line_color\":\"black\",\"line_dash\":[4,4],\"line_width\":2,\"right_units\":\"screen\",\"syncable\":false,\"top_units\":\"screen\"},\"id\":\"19409\",\"type\":\"BoxAnnotation\"},{\"attributes\":{\"fill_alpha\":{\"value\":0.1},\"fill_color\":{\"value\":\"#6d904f\"},\"line_alpha\":{\"value\":0.1},\"line_color\":{\"value\":\"#6d904f\"},\"size\":{\"value\":5.477225575051661},\"x\":{\"field\":\"price_change_percentage_14d\"},\"y\":{\"field\":\"price_change_percentage_1y\"}},\"id\":\"19494\",\"type\":\"Scatter\"},{\"attributes\":{\"children\":[{\"id\":\"19380\"},{\"id\":\"19387\"},{\"id\":\"19660\"}],\"margin\":[0,0,0,0],\"name\":\"Row41028\",\"tags\":[\"embedded\"]},\"id\":\"19379\",\"type\":\"Row\"},{\"attributes\":{\"below\":[{\"id\":\"19396\"}],\"center\":[{\"id\":\"19399\"},{\"id\":\"19403\"}],\"height\":300,\"left\":[{\"id\":\"19400\"}],\"margin\":[5,5,5,5],\"min_border_bottom\":10,\"min_border_left\":10,\"min_border_right\":10,\"min_border_top\":10,\"renderers\":[{\"id\":\"19429\"},{\"id\":\"19450\"},{\"id\":\"19472\"},{\"id\":\"19496\"}],\"right\":[{\"id\":\"19441\"}],\"sizing_mode\":\"fixed\",\"title\":{\"id\":\"19388\"},\"toolbar\":{\"id\":\"19410\"},\"width\":700,\"x_range\":{\"id\":\"19381\"},\"x_scale\":{\"id\":\"19392\"},\"y_range\":{\"id\":\"19382\"},\"y_scale\":{\"id\":\"19394\"}},\"id\":\"19387\",\"subtype\":\"Figure\",\"type\":\"Plot\"},{\"attributes\":{\"data\":{\"coin_id\":[\"tether\",\"ripple\",\"bitcoin-cash-sv\",\"crypto-com-chain\",\"usd-coin\",\"eos\",\"tron\",\"okb\",\"stellar\",\"cdai\",\"neo\",\"leo-token\",\"huobi-token\",\"nem\",\"binance-usd\",\"iota\",\"vechain\",\"theta-token\",\"dash\",\"ethereum-classic\",\"havven\",\"omisego\",\"ontology\",\"ftx-token\",\"true-usd\",\"digibyte\"],\"crypto_clusters_k4\":[3,3,3,3,3,3,3,3,3,3,3,3,3,3,3,3,3,3,3,3,3,3,3,3,3,3],\"price_change_percentage_14d\":{\"__ndarray__\":\"LUMc6+I2ej9y3CkdrP8BQCFZwARu3f2/MbH5uDYUIcBrSNxj6UN3v6X3ja89M/I/FQDjGTR09j+XrfVFQhsUwKpla32RUPG/z4O7s3bbxT/DDfj8MLIjwHf4a7JGHRzAza/mAMEc3T+OWItPATAFQNatnpPeN64/uk4jLZU3DsCbVZ+rrSgywJfK2xFOSxrAQE0tW+uL4D9OucK7XET0vy9pjNZRlSrAO1PovMZuKsByUMJM2x8lwJ30vvG1Z8q/ZCMQr+sXvD+7D0BqE0cdwA==\",\"dtype\":\"float64\",\"order\":\"little\",\"shape\":[26]},\"price_change_percentage_1y\":{\"__ndarray__\":\"3/jaM0sClD81e6AVGJowwNDQP8HFbldAkL3e/fEQc0C+MJkqGJXIv7d/ZaVJkTHAQ8pPqn2eTUBdUN8yp75hQMzuycNCnStAB7Ezhc5r0r8f9GxWfWlgQA39E1ysADVA3xXB/1aSOEBLsDic+RZpQBVSflLt08E/NSTusfThD8AiwyreyFtpQPyMCwcC64VAzsKedvirA8Dwoq8gzTgmQN+JWS9GNoVAR8mrcwwLdECsVib8Uk8pwNttF5rrC2VAyXGndLD+2T/ZfFwbKgxnQA==\",\"dtype\":\"float64\",\"order\":\"little\",\"shape\":[26]}},\"selected\":{\"id\":\"19491\"},\"selection_policy\":{\"id\":\"19512\"}},\"id\":\"19490\",\"type\":\"ColumnDataSource\"},{\"attributes\":{\"source\":{\"id\":\"19490\"}},\"id\":\"19497\",\"type\":\"CDSView\"},{\"attributes\":{\"source\":{\"id\":\"19444\"}},\"id\":\"19451\",\"type\":\"CDSView\"},{\"attributes\":{\"margin\":[5,5,5,5],\"name\":\"HSpacer41033\",\"sizing_mode\":\"stretch_width\"},\"id\":\"19660\",\"type\":\"Spacer\"},{\"attributes\":{\"axis_label\":\"price_change_percentage_1y\",\"formatter\":{\"id\":\"19422\"},\"major_label_policy\":{\"id\":\"19421\"},\"ticker\":{\"id\":\"19401\"}},\"id\":\"19400\",\"type\":\"LinearAxis\"},{\"attributes\":{\"fill_color\":{\"value\":\"#30a2da\"},\"line_color\":{\"value\":\"#30a2da\"},\"size\":{\"value\":5.477225575051661},\"x\":{\"field\":\"price_change_percentage_14d\"},\"y\":{\"field\":\"price_change_percentage_1y\"}},\"id\":\"19426\",\"type\":\"Scatter\"},{\"attributes\":{\"margin\":[5,5,5,5],\"name\":\"HSpacer41032\",\"sizing_mode\":\"stretch_width\"},\"id\":\"19380\",\"type\":\"Spacer\"},{\"attributes\":{\"fill_alpha\":{\"value\":0.2},\"fill_color\":{\"value\":\"#30a2da\"},\"line_alpha\":{\"value\":0.2},\"line_color\":{\"value\":\"#30a2da\"},\"size\":{\"value\":5.477225575051661},\"x\":{\"field\":\"price_change_percentage_14d\"},\"y\":{\"field\":\"price_change_percentage_1y\"}},\"id\":\"19428\",\"type\":\"Scatter\"},{\"attributes\":{},\"id\":\"19405\",\"type\":\"PanTool\"},{\"attributes\":{},\"id\":\"19404\",\"type\":\"SaveTool\"},{\"attributes\":{\"text\":\"PCA Data for Crypto Clusters - k=4\",\"text_color\":\"black\",\"text_font_size\":\"12pt\"},\"id\":\"19388\",\"type\":\"Title\"},{\"attributes\":{\"fill_alpha\":{\"value\":0.2},\"fill_color\":{\"value\":\"#6d904f\"},\"line_alpha\":{\"value\":0.2},\"line_color\":{\"value\":\"#6d904f\"},\"size\":{\"value\":5.477225575051661},\"x\":{\"field\":\"price_change_percentage_14d\"},\"y\":{\"field\":\"price_change_percentage_1y\"}},\"id\":\"19495\",\"type\":\"Scatter\"},{\"attributes\":{\"label\":{\"value\":\"0\"},\"renderers\":[{\"id\":\"19429\"}]},\"id\":\"19442\",\"type\":\"LegendItem\"},{\"attributes\":{},\"id\":\"19445\",\"type\":\"Selection\"},{\"attributes\":{\"active_multi\":null,\"tools\":[{\"id\":\"19383\"},{\"id\":\"19404\"},{\"id\":\"19405\"},{\"id\":\"19406\"},{\"id\":\"19407\"},{\"id\":\"19408\"}]},\"id\":\"19410\",\"type\":\"Toolbar\"},{\"attributes\":{\"fill_alpha\":{\"value\":0.1},\"fill_color\":{\"value\":\"#30a2da\"},\"line_alpha\":{\"value\":0.1},\"line_color\":{\"value\":\"#30a2da\"},\"size\":{\"value\":5.477225575051661},\"x\":{\"field\":\"price_change_percentage_14d\"},\"y\":{\"field\":\"price_change_percentage_1y\"}},\"id\":\"19427\",\"type\":\"Scatter\"},{\"attributes\":{\"label\":{\"value\":\"3\"},\"renderers\":[{\"id\":\"19496\"}]},\"id\":\"19514\",\"type\":\"LegendItem\"},{\"attributes\":{\"data\":{\"coin_id\":[\"bitcoin\",\"ethereum\",\"bitcoin-cash\",\"binancecoin\",\"chainlink\",\"cardano\",\"litecoin\",\"monero\",\"tezos\",\"cosmos\",\"wrapped-bitcoin\",\"zcash\",\"maker\"],\"crypto_clusters_k4\":[0,0,0,0,0,0,0,0,0,0,0,0,0],\"price_change_percentage_14d\":{\"__ndarray__\":\"zQaZZORMGkB5knTN5DsTQIuJzce1gS1AmC8vwD46G0AKgPEMGpoiQA6EZAETOBZAgJ9x4UAoHUAao3VUNWkyQFSM8zehkAJAQgkzbf8KFkBgWWlSCjoaQAkzbf/KKhdA/pqsUQ/R978=\",\"dtype\":\"float64\",\"order\":\"little\",\"shape\":[13]},\"price_change_percentage_1y\":{\"__ndarray__\":\"kQpjC0HCQkDWqIdodH1ZQM3pspjY/CxA5x2n6EhsUUBpOjsZHFJ0QLosJjYfg2NA+dozSwJUKcDovMYuUaFhQOj2ksZogGFAw7ZFmQ2cVECGG/D5YcRCQF/SGK2juFRAyk+qfTpOJUA=\",\"dtype\":\"float64\",\"order\":\"little\",\"shape\":[13]}},\"selected\":{\"id\":\"19424\"},\"selection_policy\":{\"id\":\"19439\"}},\"id\":\"19423\",\"type\":\"ColumnDataSource\"},{\"attributes\":{\"data\":{\"coin_id\":[\"celsius-degree-token\"],\"crypto_clusters_k4\":[2],\"price_change_percentage_14d\":{\"__ndarray__\":\"vodLjjs9OEA=\",\"dtype\":\"float64\",\"order\":\"little\",\"shape\":[1]},\"price_change_percentage_1y\":{\"__ndarray__\":\"nFCIgONmn0A=\",\"dtype\":\"float64\",\"order\":\"little\",\"shape\":[1]}},\"selected\":{\"id\":\"19467\"},\"selection_policy\":{\"id\":\"19486\"}},\"id\":\"19466\",\"type\":\"ColumnDataSource\"},{\"attributes\":{},\"id\":\"19512\",\"type\":\"UnionRenderers\"}],\"root_ids\":[\"19379\"]},\"title\":\"Bokeh Application\",\"version\":\"2.3.2\"}};\n",
       "    var render_items = [{\"docid\":\"7cda2374-c1cc-4bff-a1cc-6b37297d361f\",\"root_ids\":[\"19379\"],\"roots\":{\"19379\":\"40de628b-d4a9-4b96-a1e7-e4b9526ed0d0\"}}];\n",
       "    root.Bokeh.embed.embed_items_notebook(docs_json, render_items);\n",
       "  }\n",
       "  if (root.Bokeh !== undefined && root.Bokeh.Panel !== undefined) {\n",
       "    embed_document(root);\n",
       "  } else {\n",
       "    var attempts = 0;\n",
       "    var timer = setInterval(function(root) {\n",
       "      if (root.Bokeh !== undefined && root.Bokeh.Panel !== undefined) {\n",
       "        clearInterval(timer);\n",
       "        embed_document(root);\n",
       "      } else if (document.readyState == \"complete\") {\n",
       "        attempts++;\n",
       "        if (attempts > 100) {\n",
       "          clearInterval(timer);\n",
       "          console.log(\"Bokeh: ERROR: Unable to run BokehJS code because BokehJS library is missing\");\n",
       "        }\n",
       "      }\n",
       "    }, 10, root)\n",
       "  }\n",
       "})(window);</script>"
      ],
      "text/plain": [
       ":NdOverlay   [crypto_clusters_k4]\n",
       "   :Scatter   [price_change_percentage_14d]   (price_change_percentage_1y,coin_id)"
      ]
     },
     "execution_count": 229,
     "metadata": {
      "application/vnd.holoviews_exec.v0+json": {
       "id": "19379"
      }
     },
     "output_type": "execute_result"
    }
   ],
   "source": [
    "# Create a scatter plot for the Crypto Clusters using k=4 data.\n",
    "# Use the PCA data to create a scatter plot with hvPlot by setting \n",
    "# x=\"price_change_percentage_14d\" and y=\"price_change_percentage_1y\".\n",
    "# Group by the clusters using `by=\"crypto_cluster_k4\".\n",
    "# Set the hover colors to the coin id with `hover_cols=[\"coin_id\"]\n",
    "# Create a descriptive title for the plot using the title parameter.\n",
    "\n",
    "df_market_data_pca.hvplot.scatter(\n",
    "    x=\"price_change_percentage_14d\",\n",
    "    y=\"price_change_percentage_1y\",\n",
    "    by=\"crypto_clusters_k4\",\n",
    "    hover_cols =[\"coin_id\"],\n",
    "    title=\"PCA Data for Crypto Clusters - k=4\")"
   ]
  },
  {
   "cell_type": "code",
   "execution_count": 230,
   "metadata": {},
   "outputs": [],
   "source": [
    "scatter_plot_k4 = df_market_data_pca.hvplot.scatter(\n",
    "    x=\"price_change_percentage_14d\",\n",
    "    y=\"price_change_percentage_1y\",\n",
    "    by=\"crypto_clusters_k4\",\n",
    "    hover_cols =[\"coin_id\"],\n",
    "    title=\"PCA Data for Crypto Clusters - k=4\")"
   ]
  },
  {
   "cell_type": "code",
   "execution_count": 231,
   "metadata": {},
   "outputs": [
    {
     "data": {},
     "metadata": {},
     "output_type": "display_data"
    },
    {
     "data": {
      "application/vnd.holoviews_exec.v0+json": "",
      "text/html": [
       "<div id='19742'>\n",
       "\n",
       "\n",
       "\n",
       "\n",
       "\n",
       "  <div class=\"bk-root\" id=\"e4200861-acb0-4c5d-b56c-4fcf3cfb0cb6\" data-root-id=\"19742\"></div>\n",
       "</div>\n",
       "<script type=\"application/javascript\">(function(root) {\n",
       "  function embed_document(root) {\n",
       "    var docs_json = {\"472546d2-8544-4ac9-a053-9745da1555af\":{\"defs\":[],\"roots\":{\"references\":[{\"attributes\":{\"data_source\":{\"id\":\"19808\"},\"glyph\":{\"id\":\"19811\"},\"hover_glyph\":null,\"muted_glyph\":{\"id\":\"19813\"},\"nonselection_glyph\":{\"id\":\"19812\"},\"selection_glyph\":{\"id\":\"19829\"},\"view\":{\"id\":\"19815\"}},\"id\":\"19814\",\"type\":\"GlyphRenderer\"},{\"attributes\":{\"active_multi\":null,\"tools\":[{\"id\":\"19746\"},{\"id\":\"19768\"},{\"id\":\"19769\"},{\"id\":\"19770\"},{\"id\":\"19771\"},{\"id\":\"19772\"}]},\"id\":\"19774\",\"type\":\"Toolbar\"},{\"attributes\":{\"end\":8639.055423,\"reset_end\":8639.055423,\"reset_start\":-804.5332530000002,\"start\":-804.5332530000002,\"tags\":[[[\"price_change_percentage_1y\",\"price_change_percentage_1y\",null]]]},\"id\":\"19745\",\"type\":\"Range1d\"},{\"attributes\":{},\"id\":\"19756\",\"type\":\"LinearScale\"},{\"attributes\":{\"angle\":{\"value\":0.0},\"fill_alpha\":{\"value\":1.0},\"fill_color\":{\"value\":\"#6d904f\"},\"hatch_alpha\":{\"value\":1.0},\"hatch_color\":{\"value\":\"black\"},\"hatch_scale\":{\"value\":12.0},\"hatch_weight\":{\"value\":1.0},\"line_alpha\":{\"value\":1.0},\"line_cap\":{\"value\":\"butt\"},\"line_color\":{\"value\":\"#6d904f\"},\"line_dash\":{\"value\":[]},\"line_dash_offset\":{\"value\":0},\"line_join\":{\"value\":\"bevel\"},\"line_width\":{\"value\":1},\"marker\":{\"value\":\"circle\"},\"size\":{\"value\":5.477225575051661},\"x\":{\"field\":\"price_change_percentage_14d\"},\"y\":{\"field\":\"price_change_percentage_1y\"}},\"id\":\"19879\",\"type\":\"Scatter\"},{\"attributes\":{\"label\":{\"value\":\"2\"},\"renderers\":[{\"id\":\"19836\"}]},\"id\":\"19852\",\"type\":\"LegendItem\"},{\"attributes\":{},\"id\":\"19768\",\"type\":\"SaveTool\"},{\"attributes\":{\"margin\":[5,5,5,5],\"name\":\"HSpacer41995\",\"sizing_mode\":\"stretch_width\"},\"id\":\"20070\",\"type\":\"Spacer\"},{\"attributes\":{},\"id\":\"19850\",\"type\":\"UnionRenderers\"},{\"attributes\":{},\"id\":\"19769\",\"type\":\"PanTool\"},{\"attributes\":{},\"id\":\"19904\",\"type\":\"UnionRenderers\"},{\"attributes\":{\"source\":{\"id\":\"19854\"}},\"id\":\"19861\",\"type\":\"CDSView\"},{\"attributes\":{},\"id\":\"19770\",\"type\":\"WheelZoomTool\"},{\"attributes\":{\"children\":[{\"id\":\"19743\"},{\"id\":\"19751\"},{\"id\":\"20070\"}],\"margin\":[0,0,0,0],\"name\":\"Row41990\",\"tags\":[\"embedded\"]},\"id\":\"19742\",\"type\":\"Row\"},{\"attributes\":{\"angle\":{\"value\":0.0},\"fill_alpha\":{\"value\":1.0},\"fill_color\":{\"value\":\"#e5ae38\"},\"hatch_alpha\":{\"value\":1.0},\"hatch_color\":{\"value\":\"black\"},\"hatch_scale\":{\"value\":12.0},\"hatch_weight\":{\"value\":1.0},\"line_alpha\":{\"value\":1.0},\"line_cap\":{\"value\":\"butt\"},\"line_color\":{\"value\":\"#e5ae38\"},\"line_dash\":{\"value\":[]},\"line_dash_offset\":{\"value\":0},\"line_join\":{\"value\":\"bevel\"},\"line_width\":{\"value\":1},\"marker\":{\"value\":\"circle\"},\"size\":{\"value\":5.477225575051661},\"x\":{\"field\":\"price_change_percentage_14d\"},\"y\":{\"field\":\"price_change_percentage_1y\"}},\"id\":\"19853\",\"type\":\"Scatter\"},{\"attributes\":{\"overlay\":{\"id\":\"19773\"}},\"id\":\"19771\",\"type\":\"BoxZoomTool\"},{\"attributes\":{\"fill_color\":{\"value\":\"#6d904f\"},\"line_color\":{\"value\":\"#6d904f\"},\"size\":{\"value\":5.477225575051661},\"x\":{\"field\":\"price_change_percentage_14d\"},\"y\":{\"field\":\"price_change_percentage_1y\"}},\"id\":\"19857\",\"type\":\"Scatter\"},{\"attributes\":{\"label\":{\"value\":\"0\"},\"renderers\":[{\"id\":\"19793\"}]},\"id\":\"19806\",\"type\":\"LegendItem\"},{\"attributes\":{},\"id\":\"19786\",\"type\":\"BasicTickFormatter\"},{\"attributes\":{\"text\":\"PCA Data for Crypto Clusters - k=5\",\"text_color\":\"black\",\"text_font_size\":\"12pt\"},\"id\":\"19752\",\"type\":\"Title\"},{\"attributes\":{},\"id\":\"19772\",\"type\":\"ResetTool\"},{\"attributes\":{\"fill_alpha\":{\"value\":0.2},\"fill_color\":{\"value\":\"#6d904f\"},\"line_alpha\":{\"value\":0.2},\"line_color\":{\"value\":\"#6d904f\"},\"size\":{\"value\":5.477225575051661},\"x\":{\"field\":\"price_change_percentage_14d\"},\"y\":{\"field\":\"price_change_percentage_1y\"}},\"id\":\"19859\",\"type\":\"Scatter\"},{\"attributes\":{\"data_source\":{\"id\":\"19880\"},\"glyph\":{\"id\":\"19883\"},\"hover_glyph\":null,\"muted_glyph\":{\"id\":\"19885\"},\"nonselection_glyph\":{\"id\":\"19884\"},\"selection_glyph\":{\"id\":\"19907\"},\"view\":{\"id\":\"19887\"}},\"id\":\"19886\",\"type\":\"GlyphRenderer\"},{\"attributes\":{\"fill_color\":{\"value\":\"#30a2da\"},\"line_color\":{\"value\":\"#30a2da\"},\"size\":{\"value\":5.477225575051661},\"x\":{\"field\":\"price_change_percentage_14d\"},\"y\":{\"field\":\"price_change_percentage_1y\"}},\"id\":\"19790\",\"type\":\"Scatter\"},{\"attributes\":{},\"id\":\"19788\",\"type\":\"Selection\"},{\"attributes\":{},\"id\":\"19761\",\"type\":\"BasicTicker\"},{\"attributes\":{\"angle\":{\"value\":0.0},\"fill_alpha\":{\"value\":1.0},\"fill_color\":{\"value\":\"#30a2da\"},\"hatch_alpha\":{\"value\":1.0},\"hatch_color\":{\"value\":\"black\"},\"hatch_scale\":{\"value\":12.0},\"hatch_weight\":{\"value\":1.0},\"line_alpha\":{\"value\":1.0},\"line_cap\":{\"value\":\"butt\"},\"line_color\":{\"value\":\"#30a2da\"},\"line_dash\":{\"value\":[]},\"line_dash_offset\":{\"value\":0},\"line_join\":{\"value\":\"bevel\"},\"line_width\":{\"value\":1},\"marker\":{\"value\":\"circle\"},\"size\":{\"value\":5.477225575051661},\"x\":{\"field\":\"price_change_percentage_14d\"},\"y\":{\"field\":\"price_change_percentage_1y\"}},\"id\":\"19807\",\"type\":\"Scatter\"},{\"attributes\":{},\"id\":\"19809\",\"type\":\"Selection\"},{\"attributes\":{\"axis_label\":\"price_change_percentage_1y\",\"formatter\":{\"id\":\"19786\"},\"major_label_policy\":{\"id\":\"19785\"},\"ticker\":{\"id\":\"19765\"}},\"id\":\"19764\",\"type\":\"LinearAxis\"},{\"attributes\":{\"source\":{\"id\":\"19808\"}},\"id\":\"19815\",\"type\":\"CDSView\"},{\"attributes\":{},\"id\":\"19758\",\"type\":\"LinearScale\"},{\"attributes\":{\"fill_alpha\":{\"value\":0.1},\"fill_color\":{\"value\":\"#fc4f30\"},\"line_alpha\":{\"value\":0.1},\"line_color\":{\"value\":\"#fc4f30\"},\"size\":{\"value\":5.477225575051661},\"x\":{\"field\":\"price_change_percentage_14d\"},\"y\":{\"field\":\"price_change_percentage_1y\"}},\"id\":\"19812\",\"type\":\"Scatter\"},{\"attributes\":{},\"id\":\"19881\",\"type\":\"Selection\"},{\"attributes\":{\"data_source\":{\"id\":\"19854\"},\"glyph\":{\"id\":\"19857\"},\"hover_glyph\":null,\"muted_glyph\":{\"id\":\"19859\"},\"nonselection_glyph\":{\"id\":\"19858\"},\"selection_glyph\":{\"id\":\"19879\"},\"view\":{\"id\":\"19861\"}},\"id\":\"19860\",\"type\":\"GlyphRenderer\"},{\"attributes\":{\"fill_alpha\":{\"value\":0.1},\"fill_color\":{\"value\":\"#30a2da\"},\"line_alpha\":{\"value\":0.1},\"line_color\":{\"value\":\"#30a2da\"},\"size\":{\"value\":5.477225575051661},\"x\":{\"field\":\"price_change_percentage_14d\"},\"y\":{\"field\":\"price_change_percentage_1y\"}},\"id\":\"19791\",\"type\":\"Scatter\"},{\"attributes\":{},\"id\":\"19803\",\"type\":\"UnionRenderers\"},{\"attributes\":{\"label\":{\"value\":\"1\"},\"renderers\":[{\"id\":\"19814\"}]},\"id\":\"19828\",\"type\":\"LegendItem\"},{\"attributes\":{\"data\":{\"coin_id\":[\"tether\",\"ripple\",\"bitcoin-cash-sv\",\"crypto-com-chain\",\"usd-coin\",\"eos\",\"tron\",\"okb\",\"stellar\",\"cdai\",\"neo\",\"leo-token\",\"huobi-token\",\"binance-usd\",\"iota\",\"vechain\",\"dash\",\"ethereum-classic\",\"havven\",\"ontology\",\"ftx-token\",\"true-usd\",\"digibyte\"],\"crypto_clusters_k5\":[1,1,1,1,1,1,1,1,1,1,1,1,1,1,1,1,1,1,1,1,1,1,1],\"price_change_percentage_14d\":{\"__ndarray__\":\"LUMc6+I2ej9y3CkdrP8BQCFZwARu3f2/MbH5uDYUIcBrSNxj6UN3v6X3ja89M/I/FQDjGTR09j+XrfVFQhsUwKpla32RUPG/z4O7s3bbxT/DDfj8MLIjwHf4a7JGHRzAza/mAMEc3T/WrZ6T3jeuP7pOIy2VNw7Am1Wfq60oMsBATS1b64vgP065wrtcRPS/L2mM1lGVKsByUMJM2x8lwJ30vvG1Z8q/ZCMQr+sXvD+7D0BqE0cdwA==\",\"dtype\":\"float64\",\"order\":\"little\",\"shape\":[23]},\"price_change_percentage_1y\":{\"__ndarray__\":\"3/jaM0sClD81e6AVGJowwNDQP8HFbldAkL3e/fEQc0C+MJkqGJXIv7d/ZaVJkTHAQ8pPqn2eTUBdUN8yp75hQMzuycNCnStAB7Ezhc5r0r8f9GxWfWlgQA39E1ysADVA3xXB/1aSOEAVUn5S7dPBPzUk7rH04Q/AIsMq3shbaUDOwp52+KsDwPCiryDNOCZA34lZL0Y2hUCsVib8Uk8pwNttF5rrC2VAyXGndLD+2T/ZfFwbKgxnQA==\",\"dtype\":\"float64\",\"order\":\"little\",\"shape\":[23]}},\"selected\":{\"id\":\"19809\"},\"selection_policy\":{\"id\":\"19826\"}},\"id\":\"19808\",\"type\":\"ColumnDataSource\"},{\"attributes\":{\"fill_alpha\":{\"value\":0.1},\"fill_color\":{\"value\":\"#6d904f\"},\"line_alpha\":{\"value\":0.1},\"line_color\":{\"value\":\"#6d904f\"},\"size\":{\"value\":5.477225575051661},\"x\":{\"field\":\"price_change_percentage_14d\"},\"y\":{\"field\":\"price_change_percentage_1y\"}},\"id\":\"19858\",\"type\":\"Scatter\"},{\"attributes\":{\"axis\":{\"id\":\"19764\"},\"dimension\":1,\"grid_line_color\":null,\"ticker\":null},\"id\":\"19767\",\"type\":\"Grid\"},{\"attributes\":{},\"id\":\"19785\",\"type\":\"AllLabels\"},{\"attributes\":{},\"id\":\"19876\",\"type\":\"UnionRenderers\"},{\"attributes\":{\"fill_alpha\":{\"value\":0.2},\"fill_color\":{\"value\":\"#8b8b8b\"},\"line_alpha\":{\"value\":0.2},\"line_color\":{\"value\":\"#8b8b8b\"},\"size\":{\"value\":5.477225575051661},\"x\":{\"field\":\"price_change_percentage_14d\"},\"y\":{\"field\":\"price_change_percentage_1y\"}},\"id\":\"19885\",\"type\":\"Scatter\"},{\"attributes\":{\"bottom_units\":\"screen\",\"fill_alpha\":0.5,\"fill_color\":\"lightgrey\",\"left_units\":\"screen\",\"level\":\"overlay\",\"line_alpha\":1.0,\"line_color\":\"black\",\"line_dash\":[4,4],\"line_width\":2,\"right_units\":\"screen\",\"syncable\":false,\"top_units\":\"screen\"},\"id\":\"19773\",\"type\":\"BoxAnnotation\"},{\"attributes\":{\"fill_alpha\":{\"value\":0.1},\"fill_color\":{\"value\":\"#e5ae38\"},\"line_alpha\":{\"value\":0.1},\"line_color\":{\"value\":\"#e5ae38\"},\"size\":{\"value\":5.477225575051661},\"x\":{\"field\":\"price_change_percentage_14d\"},\"y\":{\"field\":\"price_change_percentage_1y\"}},\"id\":\"19834\",\"type\":\"Scatter\"},{\"attributes\":{\"fill_alpha\":{\"value\":0.1},\"fill_color\":{\"value\":\"#8b8b8b\"},\"line_alpha\":{\"value\":0.1},\"line_color\":{\"value\":\"#8b8b8b\"},\"size\":{\"value\":5.477225575051661},\"x\":{\"field\":\"price_change_percentage_14d\"},\"y\":{\"field\":\"price_change_percentage_1y\"}},\"id\":\"19884\",\"type\":\"Scatter\"},{\"attributes\":{\"source\":{\"id\":\"19880\"}},\"id\":\"19887\",\"type\":\"CDSView\"},{\"attributes\":{},\"id\":\"19783\",\"type\":\"BasicTickFormatter\"},{\"attributes\":{\"fill_alpha\":{\"value\":0.2},\"fill_color\":{\"value\":\"#fc4f30\"},\"line_alpha\":{\"value\":0.2},\"line_color\":{\"value\":\"#fc4f30\"},\"size\":{\"value\":5.477225575051661},\"x\":{\"field\":\"price_change_percentage_14d\"},\"y\":{\"field\":\"price_change_percentage_1y\"}},\"id\":\"19813\",\"type\":\"Scatter\"},{\"attributes\":{\"end\":26.056251,\"reset_end\":26.056251,\"reset_start\":-19.975960999999998,\"start\":-19.975960999999998,\"tags\":[[[\"price_change_percentage_14d\",\"price_change_percentage_14d\",null]]]},\"id\":\"19744\",\"type\":\"Range1d\"},{\"attributes\":{\"axis_label\":\"price_change_percentage_14d\",\"formatter\":{\"id\":\"19783\"},\"major_label_policy\":{\"id\":\"19782\"},\"ticker\":{\"id\":\"19761\"}},\"id\":\"19760\",\"type\":\"LinearAxis\"},{\"attributes\":{\"data_source\":{\"id\":\"19830\"},\"glyph\":{\"id\":\"19833\"},\"hover_glyph\":null,\"muted_glyph\":{\"id\":\"19835\"},\"nonselection_glyph\":{\"id\":\"19834\"},\"selection_glyph\":{\"id\":\"19853\"},\"view\":{\"id\":\"19837\"}},\"id\":\"19836\",\"type\":\"GlyphRenderer\"},{\"attributes\":{},\"id\":\"19782\",\"type\":\"AllLabels\"},{\"attributes\":{\"fill_color\":{\"value\":\"#fc4f30\"},\"line_color\":{\"value\":\"#fc4f30\"},\"size\":{\"value\":5.477225575051661},\"x\":{\"field\":\"price_change_percentage_14d\"},\"y\":{\"field\":\"price_change_percentage_1y\"}},\"id\":\"19811\",\"type\":\"Scatter\"},{\"attributes\":{\"click_policy\":\"mute\",\"items\":[{\"id\":\"19806\"},{\"id\":\"19828\"},{\"id\":\"19852\"},{\"id\":\"19878\"},{\"id\":\"19906\"}],\"location\":[0,0],\"title\":\"crypto_clusters_k5\"},\"id\":\"19805\",\"type\":\"Legend\"},{\"attributes\":{\"margin\":[5,5,5,5],\"name\":\"HSpacer41994\",\"sizing_mode\":\"stretch_width\"},\"id\":\"19743\",\"type\":\"Spacer\"},{\"attributes\":{\"fill_color\":{\"value\":\"#8b8b8b\"},\"line_color\":{\"value\":\"#8b8b8b\"},\"size\":{\"value\":5.477225575051661},\"x\":{\"field\":\"price_change_percentage_14d\"},\"y\":{\"field\":\"price_change_percentage_1y\"}},\"id\":\"19883\",\"type\":\"Scatter\"},{\"attributes\":{},\"id\":\"19826\",\"type\":\"UnionRenderers\"},{\"attributes\":{\"data\":{\"coin_id\":[\"nem\",\"theta-token\",\"omisego\"],\"crypto_clusters_k5\":[4,4,4],\"price_change_percentage_14d\":{\"__ndarray__\":\"jliLTwEwBUCXytsRTksawDtT6LzGbirA\",\"dtype\":\"float64\",\"order\":\"little\",\"shape\":[3]},\"price_change_percentage_1y\":{\"__ndarray__\":\"S7A4nPkWaUD8jAsHAuuFQEfJq3MMC3RA\",\"dtype\":\"float64\",\"order\":\"little\",\"shape\":[3]}},\"selected\":{\"id\":\"19881\"},\"selection_policy\":{\"id\":\"19904\"}},\"id\":\"19880\",\"type\":\"ColumnDataSource\"},{\"attributes\":{\"angle\":{\"value\":0.0},\"fill_alpha\":{\"value\":1.0},\"fill_color\":{\"value\":\"#8b8b8b\"},\"hatch_alpha\":{\"value\":1.0},\"hatch_color\":{\"value\":\"black\"},\"hatch_scale\":{\"value\":12.0},\"hatch_weight\":{\"value\":1.0},\"line_alpha\":{\"value\":1.0},\"line_cap\":{\"value\":\"butt\"},\"line_color\":{\"value\":\"#8b8b8b\"},\"line_dash\":{\"value\":[]},\"line_dash_offset\":{\"value\":0},\"line_join\":{\"value\":\"bevel\"},\"line_width\":{\"value\":1},\"marker\":{\"value\":\"circle\"},\"size\":{\"value\":5.477225575051661},\"x\":{\"field\":\"price_change_percentage_14d\"},\"y\":{\"field\":\"price_change_percentage_1y\"}},\"id\":\"19907\",\"type\":\"Scatter\"},{\"attributes\":{},\"id\":\"19855\",\"type\":\"Selection\"},{\"attributes\":{\"fill_alpha\":{\"value\":0.2},\"fill_color\":{\"value\":\"#30a2da\"},\"line_alpha\":{\"value\":0.2},\"line_color\":{\"value\":\"#30a2da\"},\"size\":{\"value\":5.477225575051661},\"x\":{\"field\":\"price_change_percentage_14d\"},\"y\":{\"field\":\"price_change_percentage_1y\"}},\"id\":\"19792\",\"type\":\"Scatter\"},{\"attributes\":{\"data\":{\"coin_id\":[\"bitcoin\",\"ethereum\",\"bitcoin-cash\",\"binancecoin\",\"chainlink\",\"cardano\",\"litecoin\",\"monero\",\"tezos\",\"cosmos\",\"wrapped-bitcoin\",\"zcash\",\"maker\"],\"crypto_clusters_k5\":[0,0,0,0,0,0,0,0,0,0,0,0,0],\"price_change_percentage_14d\":{\"__ndarray__\":\"zQaZZORMGkB5knTN5DsTQIuJzce1gS1AmC8vwD46G0AKgPEMGpoiQA6EZAETOBZAgJ9x4UAoHUAao3VUNWkyQFSM8zehkAJAQgkzbf8KFkBgWWlSCjoaQAkzbf/KKhdA/pqsUQ/R978=\",\"dtype\":\"float64\",\"order\":\"little\",\"shape\":[13]},\"price_change_percentage_1y\":{\"__ndarray__\":\"kQpjC0HCQkDWqIdodH1ZQM3pspjY/CxA5x2n6EhsUUBpOjsZHFJ0QLosJjYfg2NA+dozSwJUKcDovMYuUaFhQOj2ksZogGFAw7ZFmQ2cVECGG/D5YcRCQF/SGK2juFRAyk+qfTpOJUA=\",\"dtype\":\"float64\",\"order\":\"little\",\"shape\":[13]}},\"selected\":{\"id\":\"19788\"},\"selection_policy\":{\"id\":\"19803\"}},\"id\":\"19787\",\"type\":\"ColumnDataSource\"},{\"attributes\":{\"fill_alpha\":{\"value\":0.2},\"fill_color\":{\"value\":\"#e5ae38\"},\"line_alpha\":{\"value\":0.2},\"line_color\":{\"value\":\"#e5ae38\"},\"size\":{\"value\":5.477225575051661},\"x\":{\"field\":\"price_change_percentage_14d\"},\"y\":{\"field\":\"price_change_percentage_1y\"}},\"id\":\"19835\",\"type\":\"Scatter\"},{\"attributes\":{\"label\":{\"value\":\"4\"},\"renderers\":[{\"id\":\"19886\"}]},\"id\":\"19906\",\"type\":\"LegendItem\"},{\"attributes\":{\"angle\":{\"value\":0.0},\"fill_alpha\":{\"value\":1.0},\"fill_color\":{\"value\":\"#fc4f30\"},\"hatch_alpha\":{\"value\":1.0},\"hatch_color\":{\"value\":\"black\"},\"hatch_scale\":{\"value\":12.0},\"hatch_weight\":{\"value\":1.0},\"line_alpha\":{\"value\":1.0},\"line_cap\":{\"value\":\"butt\"},\"line_color\":{\"value\":\"#fc4f30\"},\"line_dash\":{\"value\":[]},\"line_dash_offset\":{\"value\":0},\"line_join\":{\"value\":\"bevel\"},\"line_width\":{\"value\":1},\"marker\":{\"value\":\"circle\"},\"size\":{\"value\":5.477225575051661},\"x\":{\"field\":\"price_change_percentage_14d\"},\"y\":{\"field\":\"price_change_percentage_1y\"}},\"id\":\"19829\",\"type\":\"Scatter\"},{\"attributes\":{\"callback\":null,\"renderers\":[{\"id\":\"19793\"},{\"id\":\"19814\"},{\"id\":\"19836\"},{\"id\":\"19860\"},{\"id\":\"19886\"}],\"tags\":[\"hv_created\"],\"tooltips\":[[\"crypto_clusters_k5\",\"@{crypto_clusters_k5}\"],[\"price_change_percentage_14d\",\"@{price_change_percentage_14d}\"],[\"price_change_percentage_1y\",\"@{price_change_percentage_1y}\"],[\"coin_id\",\"@{coin_id}\"]]},\"id\":\"19746\",\"type\":\"HoverTool\"},{\"attributes\":{},\"id\":\"19765\",\"type\":\"BasicTicker\"},{\"attributes\":{},\"id\":\"19831\",\"type\":\"Selection\"},{\"attributes\":{\"below\":[{\"id\":\"19760\"}],\"center\":[{\"id\":\"19763\"},{\"id\":\"19767\"}],\"height\":300,\"left\":[{\"id\":\"19764\"}],\"margin\":[5,5,5,5],\"min_border_bottom\":10,\"min_border_left\":10,\"min_border_right\":10,\"min_border_top\":10,\"renderers\":[{\"id\":\"19793\"},{\"id\":\"19814\"},{\"id\":\"19836\"},{\"id\":\"19860\"},{\"id\":\"19886\"}],\"right\":[{\"id\":\"19805\"}],\"sizing_mode\":\"fixed\",\"title\":{\"id\":\"19752\"},\"toolbar\":{\"id\":\"19774\"},\"width\":700,\"x_range\":{\"id\":\"19744\"},\"x_scale\":{\"id\":\"19756\"},\"y_range\":{\"id\":\"19745\"},\"y_scale\":{\"id\":\"19758\"}},\"id\":\"19751\",\"subtype\":\"Figure\",\"type\":\"Plot\"},{\"attributes\":{\"data_source\":{\"id\":\"19787\"},\"glyph\":{\"id\":\"19790\"},\"hover_glyph\":null,\"muted_glyph\":{\"id\":\"19792\"},\"nonselection_glyph\":{\"id\":\"19791\"},\"selection_glyph\":{\"id\":\"19807\"},\"view\":{\"id\":\"19794\"}},\"id\":\"19793\",\"type\":\"GlyphRenderer\"},{\"attributes\":{\"source\":{\"id\":\"19787\"}},\"id\":\"19794\",\"type\":\"CDSView\"},{\"attributes\":{\"fill_color\":{\"value\":\"#e5ae38\"},\"line_color\":{\"value\":\"#e5ae38\"},\"size\":{\"value\":5.477225575051661},\"x\":{\"field\":\"price_change_percentage_14d\"},\"y\":{\"field\":\"price_change_percentage_1y\"}},\"id\":\"19833\",\"type\":\"Scatter\"},{\"attributes\":{\"data\":{\"coin_id\":[\"celsius-degree-token\"],\"crypto_clusters_k5\":[3],\"price_change_percentage_14d\":{\"__ndarray__\":\"vodLjjs9OEA=\",\"dtype\":\"float64\",\"order\":\"little\",\"shape\":[1]},\"price_change_percentage_1y\":{\"__ndarray__\":\"nFCIgONmn0A=\",\"dtype\":\"float64\",\"order\":\"little\",\"shape\":[1]}},\"selected\":{\"id\":\"19855\"},\"selection_policy\":{\"id\":\"19876\"}},\"id\":\"19854\",\"type\":\"ColumnDataSource\"},{\"attributes\":{\"label\":{\"value\":\"3\"},\"renderers\":[{\"id\":\"19860\"}]},\"id\":\"19878\",\"type\":\"LegendItem\"},{\"attributes\":{\"data\":{\"coin_id\":[\"ethlend\"],\"crypto_clusters_k5\":[2],\"price_change_percentage_14d\":{\"__ndarray__\":\"RIts5/uZI8A=\",\"dtype\":\"float64\",\"order\":\"little\",\"shape\":[1]},\"price_change_percentage_1y\":{\"__ndarray__\":\"dEaU9hasvkA=\",\"dtype\":\"float64\",\"order\":\"little\",\"shape\":[1]}},\"selected\":{\"id\":\"19831\"},\"selection_policy\":{\"id\":\"19850\"}},\"id\":\"19830\",\"type\":\"ColumnDataSource\"},{\"attributes\":{\"source\":{\"id\":\"19830\"}},\"id\":\"19837\",\"type\":\"CDSView\"},{\"attributes\":{\"axis\":{\"id\":\"19760\"},\"grid_line_color\":null,\"ticker\":null},\"id\":\"19763\",\"type\":\"Grid\"}],\"root_ids\":[\"19742\"]},\"title\":\"Bokeh Application\",\"version\":\"2.3.2\"}};\n",
       "    var render_items = [{\"docid\":\"472546d2-8544-4ac9-a053-9745da1555af\",\"root_ids\":[\"19742\"],\"roots\":{\"19742\":\"e4200861-acb0-4c5d-b56c-4fcf3cfb0cb6\"}}];\n",
       "    root.Bokeh.embed.embed_items_notebook(docs_json, render_items);\n",
       "  }\n",
       "  if (root.Bokeh !== undefined && root.Bokeh.Panel !== undefined) {\n",
       "    embed_document(root);\n",
       "  } else {\n",
       "    var attempts = 0;\n",
       "    var timer = setInterval(function(root) {\n",
       "      if (root.Bokeh !== undefined && root.Bokeh.Panel !== undefined) {\n",
       "        clearInterval(timer);\n",
       "        embed_document(root);\n",
       "      } else if (document.readyState == \"complete\") {\n",
       "        attempts++;\n",
       "        if (attempts > 100) {\n",
       "          clearInterval(timer);\n",
       "          console.log(\"Bokeh: ERROR: Unable to run BokehJS code because BokehJS library is missing\");\n",
       "        }\n",
       "      }\n",
       "    }, 10, root)\n",
       "  }\n",
       "})(window);</script>"
      ],
      "text/plain": [
       ":NdOverlay   [crypto_clusters_k5]\n",
       "   :Scatter   [price_change_percentage_14d]   (price_change_percentage_1y,coin_id)"
      ]
     },
     "execution_count": 231,
     "metadata": {
      "application/vnd.holoviews_exec.v0+json": {
       "id": "19742"
      }
     },
     "output_type": "execute_result"
    }
   ],
   "source": [
    "# Create a scatter plot for the Crypto Clusters using k=5 data.\n",
    "# Use the PCA data to create a scatter plot with hvPlot by setting \n",
    "# x=\"price_change_percentage_14d\" and y=\"price_change_percentage_1y\".\n",
    "# Group by the clusters using `by=\"crypto_cluster_k5\".\n",
    "# Set the hover colors to the coin id with `hover_cols=[\"coin_id\"]\n",
    "# Create a descriptive title for the plot using the title parameter.\n",
    "\n",
    "df_market_data_pca.hvplot.scatter(\n",
    "    x=\"price_change_percentage_14d\",\n",
    "    y=\"price_change_percentage_1y\",\n",
    "    by=\"crypto_clusters_k5\",\n",
    "    hover_cols=[\"coin_id\"],\n",
    "    title=\"PCA Data for Crypto Clusters - k=5\")"
   ]
  },
  {
   "cell_type": "code",
   "execution_count": 232,
   "metadata": {},
   "outputs": [],
   "source": [
    "scatter_plot_k5 = df_market_data_pca.hvplot.scatter(\n",
    "    x=\"price_change_percentage_14d\",\n",
    "    y=\"price_change_percentage_1y\",\n",
    "    by=\"crypto_clusters_k5\",\n",
    "    hover_cols=[\"coin_id\"],\n",
    "    title=\"PCA Data for Crypto Clusters - k=5\")"
   ]
  },
  {
   "cell_type": "code",
   "execution_count": 233,
   "metadata": {},
   "outputs": [
    {
     "data": {},
     "metadata": {},
     "output_type": "display_data"
    },
    {
     "data": {
      "application/vnd.holoviews_exec.v0+json": "",
      "text/html": [
       "<div id='20162'>\n",
       "\n",
       "\n",
       "\n",
       "\n",
       "\n",
       "  <div class=\"bk-root\" id=\"f669e6dd-04e0-4007-9648-fe1c1e38f159\" data-root-id=\"20162\"></div>\n",
       "</div>\n",
       "<script type=\"application/javascript\">(function(root) {\n",
       "  function embed_document(root) {\n",
       "    var docs_json = {\"40129953-b6ff-435e-914a-3ec145fe487e\":{\"defs\":[],\"roots\":{\"references\":[{\"attributes\":{\"data_source\":{\"id\":\"20273\"},\"glyph\":{\"id\":\"20276\"},\"hover_glyph\":null,\"muted_glyph\":{\"id\":\"20278\"},\"nonselection_glyph\":{\"id\":\"20277\"},\"selection_glyph\":{\"id\":\"20298\"},\"view\":{\"id\":\"20280\"}},\"id\":\"20279\",\"type\":\"GlyphRenderer\"},{\"attributes\":{\"axis\":{\"id\":\"20429\"},\"dimension\":1,\"grid_line_color\":null,\"ticker\":null},\"id\":\"20432\",\"type\":\"Grid\"},{\"attributes\":{\"fill_alpha\":{\"value\":0.1},\"fill_color\":{\"value\":\"#e5ae38\"},\"line_alpha\":{\"value\":0.1},\"line_color\":{\"value\":\"#e5ae38\"},\"size\":{\"value\":5.477225575051661},\"x\":{\"field\":\"price_change_percentage_14d\"},\"y\":{\"field\":\"price_change_percentage_1y\"}},\"id\":\"20499\",\"type\":\"Scatter\"},{\"attributes\":{},\"id\":\"20430\",\"type\":\"BasicTicker\"},{\"attributes\":{},\"id\":\"20520\",\"type\":\"Selection\"},{\"attributes\":{},\"id\":\"20569\",\"type\":\"UnionRenderers\"},{\"attributes\":{\"source\":{\"id\":\"20273\"}},\"id\":\"20280\",\"type\":\"CDSView\"},{\"attributes\":{\"fill_alpha\":{\"value\":0.2},\"fill_color\":{\"value\":\"#e5ae38\"},\"line_alpha\":{\"value\":0.2},\"line_color\":{\"value\":\"#e5ae38\"},\"size\":{\"value\":5.477225575051661},\"x\":{\"field\":\"price_change_percentage_14d\"},\"y\":{\"field\":\"price_change_percentage_1y\"}},\"id\":\"20500\",\"type\":\"Scatter\"},{\"attributes\":{\"label\":{\"value\":\"3\"},\"renderers\":[{\"id\":\"20279\"}]},\"id\":\"20297\",\"type\":\"LegendItem\"},{\"attributes\":{\"angle\":{\"value\":0.0},\"fill_alpha\":{\"value\":1.0},\"fill_color\":{\"value\":\"#e5ae38\"},\"hatch_alpha\":{\"value\":1.0},\"hatch_color\":{\"value\":\"black\"},\"hatch_scale\":{\"value\":12.0},\"hatch_weight\":{\"value\":1.0},\"line_alpha\":{\"value\":1.0},\"line_cap\":{\"value\":\"butt\"},\"line_color\":{\"value\":\"#e5ae38\"},\"line_dash\":{\"value\":[]},\"line_dash_offset\":{\"value\":0},\"line_join\":{\"value\":\"bevel\"},\"line_width\":{\"value\":1},\"marker\":{\"value\":\"circle\"},\"size\":{\"value\":5.477225575051661},\"x\":{\"field\":\"price_change_percentage_14d\"},\"y\":{\"field\":\"price_change_percentage_1y\"}},\"id\":\"20518\",\"type\":\"Scatter\"},{\"attributes\":{},\"id\":\"20207\",\"type\":\"Selection\"},{\"attributes\":{\"label\":{\"value\":\"1\"},\"renderers\":[{\"id\":\"20479\"}]},\"id\":\"20493\",\"type\":\"LegendItem\"},{\"attributes\":{},\"id\":\"20295\",\"type\":\"UnionRenderers\"},{\"attributes\":{\"active_multi\":null,\"tools\":[{\"id\":\"20411\"},{\"id\":\"20433\"},{\"id\":\"20434\"},{\"id\":\"20435\"},{\"id\":\"20436\"},{\"id\":\"20437\"}]},\"id\":\"20439\",\"type\":\"Toolbar\"},{\"attributes\":{\"data_source\":{\"id\":\"20495\"},\"glyph\":{\"id\":\"20498\"},\"hover_glyph\":null,\"muted_glyph\":{\"id\":\"20500\"},\"nonselection_glyph\":{\"id\":\"20499\"},\"selection_glyph\":{\"id\":\"20518\"},\"view\":{\"id\":\"20502\"}},\"id\":\"20501\",\"type\":\"GlyphRenderer\"},{\"attributes\":{},\"id\":\"20423\",\"type\":\"LinearScale\"},{\"attributes\":{\"margin\":[5,5,5,5],\"name\":\"HSpacer42950\",\"sizing_mode\":\"stretch_width\"},\"id\":\"21045\",\"type\":\"Spacer\"},{\"attributes\":{\"source\":{\"id\":\"20495\"}},\"id\":\"20502\",\"type\":\"CDSView\"},{\"attributes\":{},\"id\":\"20474\",\"type\":\"Selection\"},{\"attributes\":{},\"id\":\"20433\",\"type\":\"SaveTool\"},{\"attributes\":{},\"id\":\"20515\",\"type\":\"UnionRenderers\"},{\"attributes\":{},\"id\":\"20434\",\"type\":\"PanTool\"},{\"attributes\":{\"angle\":{\"value\":0.0},\"fill_alpha\":{\"value\":1.0},\"fill_color\":{\"value\":\"#6d904f\"},\"hatch_alpha\":{\"value\":1.0},\"hatch_color\":{\"value\":\"black\"},\"hatch_scale\":{\"value\":12.0},\"hatch_weight\":{\"value\":1.0},\"line_alpha\":{\"value\":1.0},\"line_cap\":{\"value\":\"butt\"},\"line_color\":{\"value\":\"#6d904f\"},\"line_dash\":{\"value\":[]},\"line_dash_offset\":{\"value\":0},\"line_join\":{\"value\":\"bevel\"},\"line_width\":{\"value\":1},\"marker\":{\"value\":\"circle\"},\"size\":{\"value\":5.477225575051661},\"x\":{\"field\":\"price_change_percentage_14d\"},\"y\":{\"field\":\"price_change_percentage_1y\"}},\"id\":\"20298\",\"type\":\"Scatter\"},{\"attributes\":{\"fill_alpha\":{\"value\":0.2},\"fill_color\":{\"value\":\"#6d904f\"},\"line_alpha\":{\"value\":0.2},\"line_color\":{\"value\":\"#6d904f\"},\"size\":{\"value\":5.477225575051661},\"x\":{\"field\":\"price_change_percentage_14d\"},\"y\":{\"field\":\"price_change_percentage_1y\"}},\"id\":\"20524\",\"type\":\"Scatter\"},{\"attributes\":{},\"id\":\"20435\",\"type\":\"WheelZoomTool\"},{\"attributes\":{\"overlay\":{\"id\":\"20438\"}},\"id\":\"20436\",\"type\":\"BoxZoomTool\"},{\"attributes\":{\"text\":\"PCA Data for Crypto Clusters - k=5\",\"text_color\":\"black\",\"text_font_size\":\"12pt\"},\"id\":\"20417\",\"type\":\"Title\"},{\"attributes\":{\"source\":{\"id\":\"20519\"}},\"id\":\"20526\",\"type\":\"CDSView\"},{\"attributes\":{\"label\":{\"value\":\"2\"},\"renderers\":[{\"id\":\"20501\"}]},\"id\":\"20517\",\"type\":\"LegendItem\"},{\"attributes\":{\"data_source\":{\"id\":\"20545\"},\"glyph\":{\"id\":\"20548\"},\"hover_glyph\":null,\"muted_glyph\":{\"id\":\"20550\"},\"nonselection_glyph\":{\"id\":\"20549\"},\"selection_glyph\":{\"id\":\"20572\"},\"view\":{\"id\":\"20552\"}},\"id\":\"20551\",\"type\":\"GlyphRenderer\"},{\"attributes\":{},\"id\":\"20437\",\"type\":\"ResetTool\"},{\"attributes\":{\"fill_color\":{\"value\":\"#6d904f\"},\"line_color\":{\"value\":\"#6d904f\"},\"size\":{\"value\":5.477225575051661},\"x\":{\"field\":\"price_change_percentage_14d\"},\"y\":{\"field\":\"price_change_percentage_1y\"}},\"id\":\"20522\",\"type\":\"Scatter\"},{\"attributes\":{\"data\":{\"coin_id\":[\"celsius-degree-token\"],\"crypto_clusters_k5\":[3],\"price_change_percentage_14d\":{\"__ndarray__\":\"vodLjjs9OEA=\",\"dtype\":\"float64\",\"order\":\"little\",\"shape\":[1]},\"price_change_percentage_1y\":{\"__ndarray__\":\"nFCIgONmn0A=\",\"dtype\":\"float64\",\"order\":\"little\",\"shape\":[1]}},\"selected\":{\"id\":\"20520\"},\"selection_policy\":{\"id\":\"20541\"}},\"id\":\"20519\",\"type\":\"ColumnDataSource\"},{\"attributes\":{},\"id\":\"20447\",\"type\":\"AllLabels\"},{\"attributes\":{\"fill_color\":{\"value\":\"#fc4f30\"},\"line_color\":{\"value\":\"#fc4f30\"},\"size\":{\"value\":5.477225575051661},\"x\":{\"field\":\"price_change_percentage_14d\"},\"y\":{\"field\":\"price_change_percentage_1y\"}},\"id\":\"20476\",\"type\":\"Scatter\"},{\"attributes\":{\"data_source\":{\"id\":\"20519\"},\"glyph\":{\"id\":\"20522\"},\"hover_glyph\":null,\"muted_glyph\":{\"id\":\"20524\"},\"nonselection_glyph\":{\"id\":\"20523\"},\"selection_glyph\":{\"id\":\"20544\"},\"view\":{\"id\":\"20526\"}},\"id\":\"20525\",\"type\":\"GlyphRenderer\"},{\"attributes\":{\"angle\":{\"value\":0.0},\"fill_alpha\":{\"value\":1.0},\"fill_color\":{\"value\":\"#30a2da\"},\"hatch_alpha\":{\"value\":1.0},\"hatch_color\":{\"value\":\"black\"},\"hatch_scale\":{\"value\":12.0},\"hatch_weight\":{\"value\":1.0},\"line_alpha\":{\"value\":1.0},\"line_cap\":{\"value\":\"butt\"},\"line_color\":{\"value\":\"#30a2da\"},\"line_dash\":{\"value\":[]},\"line_dash_offset\":{\"value\":0},\"line_join\":{\"value\":\"bevel\"},\"line_width\":{\"value\":1},\"marker\":{\"value\":\"circle\"},\"size\":{\"value\":5.477225575051661},\"x\":{\"field\":\"price_change_percentage_14d\"},\"y\":{\"field\":\"price_change_percentage_1y\"}},\"id\":\"20472\",\"type\":\"Scatter\"},{\"attributes\":{\"fill_alpha\":{\"value\":0.1},\"fill_color\":{\"value\":\"#6d904f\"},\"line_alpha\":{\"value\":0.1},\"line_color\":{\"value\":\"#6d904f\"},\"size\":{\"value\":5.477225575051661},\"x\":{\"field\":\"price_change_percentage_14d\"},\"y\":{\"field\":\"price_change_percentage_1y\"}},\"id\":\"20523\",\"type\":\"Scatter\"},{\"attributes\":{},\"id\":\"20205\",\"type\":\"BasicTickFormatter\"},{\"attributes\":{\"axis\":{\"id\":\"20425\"},\"grid_line_color\":null,\"ticker\":null},\"id\":\"20428\",\"type\":\"Grid\"},{\"attributes\":{\"label\":{\"value\":\"3\"},\"renderers\":[{\"id\":\"20525\"}]},\"id\":\"20543\",\"type\":\"LegendItem\"},{\"attributes\":{\"end\":26.056251,\"reset_end\":26.056251,\"reset_start\":-19.975960999999998,\"start\":-19.975960999999998,\"tags\":[[[\"price_change_percentage_14d\",\"price_change_percentage_14d\",null]]]},\"id\":\"20164\",\"type\":\"Range1d\"},{\"attributes\":{\"source\":{\"id\":\"20473\"}},\"id\":\"20480\",\"type\":\"CDSView\"},{\"attributes\":{},\"id\":\"20541\",\"type\":\"UnionRenderers\"},{\"attributes\":{\"data\":{\"coin_id\":[\"tether\",\"ripple\",\"bitcoin-cash-sv\",\"crypto-com-chain\",\"usd-coin\",\"eos\",\"tron\",\"okb\",\"stellar\",\"cdai\",\"neo\",\"leo-token\",\"huobi-token\",\"binance-usd\",\"iota\",\"vechain\",\"dash\",\"ethereum-classic\",\"havven\",\"ontology\",\"ftx-token\",\"true-usd\",\"digibyte\"],\"crypto_clusters_k5\":[1,1,1,1,1,1,1,1,1,1,1,1,1,1,1,1,1,1,1,1,1,1,1],\"price_change_percentage_14d\":{\"__ndarray__\":\"LUMc6+I2ej9y3CkdrP8BQCFZwARu3f2/MbH5uDYUIcBrSNxj6UN3v6X3ja89M/I/FQDjGTR09j+XrfVFQhsUwKpla32RUPG/z4O7s3bbxT/DDfj8MLIjwHf4a7JGHRzAza/mAMEc3T/WrZ6T3jeuP7pOIy2VNw7Am1Wfq60oMsBATS1b64vgP065wrtcRPS/L2mM1lGVKsByUMJM2x8lwJ30vvG1Z8q/ZCMQr+sXvD+7D0BqE0cdwA==\",\"dtype\":\"float64\",\"order\":\"little\",\"shape\":[23]},\"price_change_percentage_1y\":{\"__ndarray__\":\"3/jaM0sClD81e6AVGJowwNDQP8HFbldAkL3e/fEQc0C+MJkqGJXIv7d/ZaVJkTHAQ8pPqn2eTUBdUN8yp75hQMzuycNCnStAB7Ezhc5r0r8f9GxWfWlgQA39E1ysADVA3xXB/1aSOEAVUn5S7dPBPzUk7rH04Q/AIsMq3shbaUDOwp52+KsDwPCiryDNOCZA34lZL0Y2hUCsVib8Uk8pwNttF5rrC2VAyXGndLD+2T/ZfFwbKgxnQA==\",\"dtype\":\"float64\",\"order\":\"little\",\"shape\":[23]}},\"selected\":{\"id\":\"20474\"},\"selection_policy\":{\"id\":\"20491\"}},\"id\":\"20473\",\"type\":\"ColumnDataSource\"},{\"attributes\":{\"fill_alpha\":{\"value\":0.2},\"fill_color\":{\"value\":\"#8b8b8b\"},\"line_alpha\":{\"value\":0.2},\"line_color\":{\"value\":\"#8b8b8b\"},\"size\":{\"value\":5.477225575051661},\"x\":{\"field\":\"price_change_percentage_14d\"},\"y\":{\"field\":\"price_change_percentage_1y\"}},\"id\":\"20550\",\"type\":\"Scatter\"},{\"attributes\":{\"data_source\":{\"id\":\"20473\"},\"glyph\":{\"id\":\"20476\"},\"hover_glyph\":null,\"muted_glyph\":{\"id\":\"20478\"},\"nonselection_glyph\":{\"id\":\"20477\"},\"selection_glyph\":{\"id\":\"20494\"},\"view\":{\"id\":\"20480\"}},\"id\":\"20479\",\"type\":\"GlyphRenderer\"},{\"attributes\":{\"source\":{\"id\":\"20545\"}},\"id\":\"20552\",\"type\":\"CDSView\"},{\"attributes\":{\"fill_alpha\":{\"value\":0.2},\"fill_color\":{\"value\":\"#30a2da\"},\"line_alpha\":{\"value\":0.2},\"line_color\":{\"value\":\"#30a2da\"},\"size\":{\"value\":5.477225575051661},\"x\":{\"field\":\"price_change_percentage_14d\"},\"y\":{\"field\":\"price_change_percentage_1y\"}},\"id\":\"20457\",\"type\":\"Scatter\"},{\"attributes\":{\"fill_alpha\":{\"value\":0.2},\"fill_color\":{\"value\":\"#fc4f30\"},\"line_alpha\":{\"value\":0.2},\"line_color\":{\"value\":\"#fc4f30\"},\"size\":{\"value\":5.477225575051661},\"x\":{\"field\":\"price_change_percentage_14d\"},\"y\":{\"field\":\"price_change_percentage_1y\"}},\"id\":\"20478\",\"type\":\"Scatter\"},{\"attributes\":{\"data_source\":{\"id\":\"20452\"},\"glyph\":{\"id\":\"20455\"},\"hover_glyph\":null,\"muted_glyph\":{\"id\":\"20457\"},\"nonselection_glyph\":{\"id\":\"20456\"},\"selection_glyph\":{\"id\":\"20472\"},\"view\":{\"id\":\"20459\"}},\"id\":\"20458\",\"type\":\"GlyphRenderer\"},{\"attributes\":{\"bottom_units\":\"screen\",\"fill_alpha\":0.5,\"fill_color\":\"lightgrey\",\"left_units\":\"screen\",\"level\":\"overlay\",\"line_alpha\":1.0,\"line_color\":\"black\",\"line_dash\":[4,4],\"line_width\":2,\"right_units\":\"screen\",\"syncable\":false,\"top_units\":\"screen\"},\"id\":\"20438\",\"type\":\"BoxAnnotation\"},{\"attributes\":{},\"id\":\"20201\",\"type\":\"AllLabels\"},{\"attributes\":{\"angle\":{\"value\":0.0},\"fill_alpha\":{\"value\":1.0},\"fill_color\":{\"value\":\"#6d904f\"},\"hatch_alpha\":{\"value\":1.0},\"hatch_color\":{\"value\":\"black\"},\"hatch_scale\":{\"value\":12.0},\"hatch_weight\":{\"value\":1.0},\"line_alpha\":{\"value\":1.0},\"line_cap\":{\"value\":\"butt\"},\"line_color\":{\"value\":\"#6d904f\"},\"line_dash\":{\"value\":[]},\"line_dash_offset\":{\"value\":0},\"line_join\":{\"value\":\"bevel\"},\"line_width\":{\"value\":1},\"marker\":{\"value\":\"circle\"},\"size\":{\"value\":5.477225575051661},\"x\":{\"field\":\"price_change_percentage_14d\"},\"y\":{\"field\":\"price_change_percentage_1y\"}},\"id\":\"20544\",\"type\":\"Scatter\"},{\"attributes\":{\"source\":{\"id\":\"20452\"}},\"id\":\"20459\",\"type\":\"CDSView\"},{\"attributes\":{\"label\":{\"value\":\"0\"},\"renderers\":[{\"id\":\"20458\"}]},\"id\":\"20471\",\"type\":\"LegendItem\"},{\"attributes\":{},\"id\":\"20451\",\"type\":\"BasicTickFormatter\"},{\"attributes\":{},\"id\":\"20468\",\"type\":\"UnionRenderers\"},{\"attributes\":{},\"id\":\"20546\",\"type\":\"Selection\"},{\"attributes\":{\"fill_alpha\":{\"value\":0.1},\"fill_color\":{\"value\":\"#8b8b8b\"},\"line_alpha\":{\"value\":0.1},\"line_color\":{\"value\":\"#8b8b8b\"},\"size\":{\"value\":5.477225575051661},\"x\":{\"field\":\"price_change_percentage_14d\"},\"y\":{\"field\":\"price_change_percentage_1y\"}},\"id\":\"20549\",\"type\":\"Scatter\"},{\"attributes\":{\"fill_color\":{\"value\":\"#30a2da\"},\"line_color\":{\"value\":\"#30a2da\"},\"size\":{\"value\":5.477225575051661},\"x\":{\"field\":\"price_change_percentage_14d\"},\"y\":{\"field\":\"price_change_percentage_1y\"}},\"id\":\"20455\",\"type\":\"Scatter\"},{\"attributes\":{\"fill_alpha\":{\"value\":0.1},\"fill_color\":{\"value\":\"#fc4f30\"},\"line_alpha\":{\"value\":0.1},\"line_color\":{\"value\":\"#fc4f30\"},\"size\":{\"value\":5.477225575051661},\"x\":{\"field\":\"price_change_percentage_14d\"},\"y\":{\"field\":\"price_change_percentage_1y\"}},\"id\":\"20477\",\"type\":\"Scatter\"},{\"attributes\":{\"fill_alpha\":{\"value\":0.1},\"fill_color\":{\"value\":\"#30a2da\"},\"line_alpha\":{\"value\":0.1},\"line_color\":{\"value\":\"#30a2da\"},\"size\":{\"value\":5.477225575051661},\"x\":{\"field\":\"price_change_percentage_14d\"},\"y\":{\"field\":\"price_change_percentage_1y\"}},\"id\":\"20456\",\"type\":\"Scatter\"},{\"attributes\":{\"click_policy\":\"mute\",\"items\":[{\"id\":\"20471\"},{\"id\":\"20493\"},{\"id\":\"20517\"},{\"id\":\"20543\"},{\"id\":\"20571\"}],\"location\":[0,0],\"title\":\"crypto_clusters_k5\"},\"id\":\"20470\",\"type\":\"Legend\"},{\"attributes\":{\"below\":[{\"id\":\"20425\"}],\"center\":[{\"id\":\"20428\"},{\"id\":\"20432\"}],\"height\":300,\"left\":[{\"id\":\"20429\"}],\"margin\":null,\"min_border_bottom\":10,\"min_border_left\":10,\"min_border_right\":10,\"min_border_top\":10,\"renderers\":[{\"id\":\"20458\"},{\"id\":\"20479\"},{\"id\":\"20501\"},{\"id\":\"20525\"},{\"id\":\"20551\"}],\"right\":[{\"id\":\"20470\"}],\"sizing_mode\":\"fixed\",\"title\":{\"id\":\"20417\"},\"toolbar\":{\"id\":\"20439\"},\"toolbar_location\":null,\"width\":700,\"x_range\":{\"id\":\"20164\"},\"x_scale\":{\"id\":\"20421\"},\"y_range\":{\"id\":\"20165\"},\"y_scale\":{\"id\":\"20423\"}},\"id\":\"20416\",\"subtype\":\"Figure\",\"type\":\"Plot\"},{\"attributes\":{\"fill_color\":{\"value\":\"#8b8b8b\"},\"line_color\":{\"value\":\"#8b8b8b\"},\"size\":{\"value\":5.477225575051661},\"x\":{\"field\":\"price_change_percentage_14d\"},\"y\":{\"field\":\"price_change_percentage_1y\"}},\"id\":\"20548\",\"type\":\"Scatter\"},{\"attributes\":{\"data\":{\"coin_id\":[\"nem\",\"theta-token\",\"omisego\"],\"crypto_clusters_k5\":[4,4,4],\"price_change_percentage_14d\":{\"__ndarray__\":\"jliLTwEwBUCXytsRTksawDtT6LzGbirA\",\"dtype\":\"float64\",\"order\":\"little\",\"shape\":[3]},\"price_change_percentage_1y\":{\"__ndarray__\":\"S7A4nPkWaUD8jAsHAuuFQEfJq3MMC3RA\",\"dtype\":\"float64\",\"order\":\"little\",\"shape\":[3]}},\"selected\":{\"id\":\"20546\"},\"selection_policy\":{\"id\":\"20569\"}},\"id\":\"20545\",\"type\":\"ColumnDataSource\"},{\"attributes\":{\"axis_label\":\"price_change_percentage_1y\",\"formatter\":{\"id\":\"20451\"},\"major_label_policy\":{\"id\":\"20450\"},\"ticker\":{\"id\":\"20430\"}},\"id\":\"20429\",\"type\":\"LinearAxis\"},{\"attributes\":{\"angle\":{\"value\":0.0},\"fill_alpha\":{\"value\":1.0},\"fill_color\":{\"value\":\"#8b8b8b\"},\"hatch_alpha\":{\"value\":1.0},\"hatch_color\":{\"value\":\"black\"},\"hatch_scale\":{\"value\":12.0},\"hatch_weight\":{\"value\":1.0},\"line_alpha\":{\"value\":1.0},\"line_cap\":{\"value\":\"butt\"},\"line_color\":{\"value\":\"#8b8b8b\"},\"line_dash\":{\"value\":[]},\"line_dash_offset\":{\"value\":0},\"line_join\":{\"value\":\"bevel\"},\"line_width\":{\"value\":1},\"marker\":{\"value\":\"circle\"},\"size\":{\"value\":5.477225575051661},\"x\":{\"field\":\"price_change_percentage_14d\"},\"y\":{\"field\":\"price_change_percentage_1y\"}},\"id\":\"20572\",\"type\":\"Scatter\"},{\"attributes\":{},\"id\":\"20491\",\"type\":\"UnionRenderers\"},{\"attributes\":{\"callback\":null,\"renderers\":[{\"id\":\"20212\"},{\"id\":\"20233\"},{\"id\":\"20255\"},{\"id\":\"20279\"}],\"tags\":[\"hv_created\"],\"tooltips\":[[\"crypto_clusters_k4\",\"@{crypto_clusters_k4}\"],[\"price_change_percentage_14d\",\"@{price_change_percentage_14d}\"],[\"price_change_percentage_1y\",\"@{price_change_percentage_1y}\"],[\"coin_id\",\"@{coin_id}\"]]},\"id\":\"20166\",\"type\":\"HoverTool\"},{\"attributes\":{\"angle\":{\"value\":0.0},\"fill_alpha\":{\"value\":1.0},\"fill_color\":{\"value\":\"#fc4f30\"},\"hatch_alpha\":{\"value\":1.0},\"hatch_color\":{\"value\":\"black\"},\"hatch_scale\":{\"value\":12.0},\"hatch_weight\":{\"value\":1.0},\"line_alpha\":{\"value\":1.0},\"line_cap\":{\"value\":\"butt\"},\"line_color\":{\"value\":\"#fc4f30\"},\"line_dash\":{\"value\":[]},\"line_dash_offset\":{\"value\":0},\"line_join\":{\"value\":\"bevel\"},\"line_width\":{\"value\":1},\"marker\":{\"value\":\"circle\"},\"size\":{\"value\":5.477225575051661},\"x\":{\"field\":\"price_change_percentage_14d\"},\"y\":{\"field\":\"price_change_percentage_1y\"}},\"id\":\"20494\",\"type\":\"Scatter\"},{\"attributes\":{\"label\":{\"value\":\"4\"},\"renderers\":[{\"id\":\"20551\"}]},\"id\":\"20571\",\"type\":\"LegendItem\"},{\"attributes\":{},\"id\":\"20426\",\"type\":\"BasicTicker\"},{\"attributes\":{\"fill_color\":{\"value\":\"#e5ae38\"},\"line_color\":{\"value\":\"#e5ae38\"},\"size\":{\"value\":5.477225575051661},\"x\":{\"field\":\"price_change_percentage_14d\"},\"y\":{\"field\":\"price_change_percentage_1y\"}},\"id\":\"20498\",\"type\":\"Scatter\"},{\"attributes\":{\"end\":8639.055423,\"reset_end\":8639.055423,\"reset_start\":-804.5332530000002,\"start\":-804.5332530000002,\"tags\":[[[\"price_change_percentage_1y\",\"price_change_percentage_1y\",null]]]},\"id\":\"20165\",\"type\":\"Range1d\"},{\"attributes\":{},\"id\":\"20421\",\"type\":\"LinearScale\"},{\"attributes\":{},\"id\":\"20202\",\"type\":\"BasicTickFormatter\"},{\"attributes\":{\"axis_label\":\"price_change_percentage_14d\",\"formatter\":{\"id\":\"20448\"},\"major_label_policy\":{\"id\":\"20447\"},\"ticker\":{\"id\":\"20426\"}},\"id\":\"20425\",\"type\":\"LinearAxis\"},{\"attributes\":{\"toolbars\":[{\"id\":\"20193\"},{\"id\":\"20439\"}],\"tools\":[{\"id\":\"20166\"},{\"id\":\"20187\"},{\"id\":\"20188\"},{\"id\":\"20189\"},{\"id\":\"20190\"},{\"id\":\"20191\"},{\"id\":\"20411\"},{\"id\":\"20433\"},{\"id\":\"20434\"},{\"id\":\"20435\"},{\"id\":\"20436\"},{\"id\":\"20437\"}]},\"id\":\"20736\",\"type\":\"ProxyToolbar\"},{\"attributes\":{\"data\":{\"coin_id\":[\"ethlend\"],\"crypto_clusters_k5\":[2],\"price_change_percentage_14d\":{\"__ndarray__\":\"RIts5/uZI8A=\",\"dtype\":\"float64\",\"order\":\"little\",\"shape\":[1]},\"price_change_percentage_1y\":{\"__ndarray__\":\"dEaU9hasvkA=\",\"dtype\":\"float64\",\"order\":\"little\",\"shape\":[1]}},\"selected\":{\"id\":\"20496\"},\"selection_policy\":{\"id\":\"20515\"}},\"id\":\"20495\",\"type\":\"ColumnDataSource\"},{\"attributes\":{},\"id\":\"20496\",\"type\":\"Selection\"},{\"attributes\":{\"children\":[{\"id\":\"20737\"},{\"id\":\"20735\"}]},\"id\":\"20738\",\"type\":\"Column\"},{\"attributes\":{\"angle\":{\"value\":0.0},\"fill_alpha\":{\"value\":1.0},\"fill_color\":{\"value\":\"#30a2da\"},\"hatch_alpha\":{\"value\":1.0},\"hatch_color\":{\"value\":\"black\"},\"hatch_scale\":{\"value\":12.0},\"hatch_weight\":{\"value\":1.0},\"line_alpha\":{\"value\":1.0},\"line_cap\":{\"value\":\"butt\"},\"line_color\":{\"value\":\"#30a2da\"},\"line_dash\":{\"value\":[]},\"line_dash_offset\":{\"value\":0},\"line_join\":{\"value\":\"bevel\"},\"line_width\":{\"value\":1},\"marker\":{\"value\":\"circle\"},\"size\":{\"value\":5.477225575051661},\"x\":{\"field\":\"price_change_percentage_14d\"},\"y\":{\"field\":\"price_change_percentage_1y\"}},\"id\":\"20226\",\"type\":\"Scatter\"},{\"attributes\":{\"toolbar\":{\"id\":\"20736\"},\"toolbar_location\":\"above\"},\"id\":\"20737\",\"type\":\"ToolbarBox\"},{\"attributes\":{\"bottom_units\":\"screen\",\"fill_alpha\":0.5,\"fill_color\":\"lightgrey\",\"left_units\":\"screen\",\"level\":\"overlay\",\"line_alpha\":1.0,\"line_color\":\"black\",\"line_dash\":[4,4],\"line_width\":2,\"right_units\":\"screen\",\"syncable\":false,\"top_units\":\"screen\"},\"id\":\"20192\",\"type\":\"BoxAnnotation\"},{\"attributes\":{\"children\":[{\"id\":\"20163\"},{\"id\":\"20738\"},{\"id\":\"21045\"}],\"margin\":[0,0,0,0],\"name\":\"Row42945\",\"tags\":[\"embedded\"]},\"id\":\"20162\",\"type\":\"Row\"},{\"attributes\":{\"margin\":[5,5,5,5],\"name\":\"HSpacer42949\",\"sizing_mode\":\"stretch_width\"},\"id\":\"20163\",\"type\":\"Spacer\"},{\"attributes\":{\"fill_alpha\":{\"value\":0.1},\"fill_color\":{\"value\":\"#30a2da\"},\"line_alpha\":{\"value\":0.1},\"line_color\":{\"value\":\"#30a2da\"},\"size\":{\"value\":5.477225575051661},\"x\":{\"field\":\"price_change_percentage_14d\"},\"y\":{\"field\":\"price_change_percentage_1y\"}},\"id\":\"20210\",\"type\":\"Scatter\"},{\"attributes\":{},\"id\":\"20448\",\"type\":\"BasicTickFormatter\"},{\"attributes\":{\"fill_color\":{\"value\":\"#30a2da\"},\"line_color\":{\"value\":\"#30a2da\"},\"size\":{\"value\":5.477225575051661},\"x\":{\"field\":\"price_change_percentage_14d\"},\"y\":{\"field\":\"price_change_percentage_1y\"}},\"id\":\"20209\",\"type\":\"Scatter\"},{\"attributes\":{\"source\":{\"id\":\"20227\"}},\"id\":\"20234\",\"type\":\"CDSView\"},{\"attributes\":{\"fill_color\":{\"value\":\"#fc4f30\"},\"line_color\":{\"value\":\"#fc4f30\"},\"size\":{\"value\":5.477225575051661},\"x\":{\"field\":\"price_change_percentage_14d\"},\"y\":{\"field\":\"price_change_percentage_1y\"}},\"id\":\"20230\",\"type\":\"Scatter\"},{\"attributes\":{},\"id\":\"20175\",\"type\":\"LinearScale\"},{\"attributes\":{\"children\":[[{\"id\":\"20170\"},0,0],[{\"id\":\"20416\"},0,1]]},\"id\":\"20735\",\"type\":\"GridBox\"},{\"attributes\":{},\"id\":\"20180\",\"type\":\"BasicTicker\"},{\"attributes\":{},\"id\":\"20274\",\"type\":\"Selection\"},{\"attributes\":{},\"id\":\"20453\",\"type\":\"Selection\"},{\"attributes\":{\"fill_alpha\":{\"value\":0.2},\"fill_color\":{\"value\":\"#fc4f30\"},\"line_alpha\":{\"value\":0.2},\"line_color\":{\"value\":\"#fc4f30\"},\"size\":{\"value\":5.477225575051661},\"x\":{\"field\":\"price_change_percentage_14d\"},\"y\":{\"field\":\"price_change_percentage_1y\"}},\"id\":\"20232\",\"type\":\"Scatter\"},{\"attributes\":{\"axis_label\":\"price_change_percentage_14d\",\"formatter\":{\"id\":\"20202\"},\"major_label_policy\":{\"id\":\"20201\"},\"ticker\":{\"id\":\"20180\"}},\"id\":\"20179\",\"type\":\"LinearAxis\"},{\"attributes\":{\"below\":[{\"id\":\"20179\"}],\"center\":[{\"id\":\"20182\"},{\"id\":\"20186\"}],\"height\":300,\"left\":[{\"id\":\"20183\"}],\"margin\":null,\"min_border_bottom\":10,\"min_border_left\":10,\"min_border_right\":10,\"min_border_top\":10,\"renderers\":[{\"id\":\"20212\"},{\"id\":\"20233\"},{\"id\":\"20255\"},{\"id\":\"20279\"}],\"right\":[{\"id\":\"20224\"}],\"sizing_mode\":\"fixed\",\"title\":{\"id\":\"20171\"},\"toolbar\":{\"id\":\"20193\"},\"toolbar_location\":null,\"width\":700,\"x_range\":{\"id\":\"20164\"},\"x_scale\":{\"id\":\"20175\"},\"y_range\":{\"id\":\"20165\"},\"y_scale\":{\"id\":\"20177\"}},\"id\":\"20170\",\"subtype\":\"Figure\",\"type\":\"Plot\"},{\"attributes\":{},\"id\":\"20450\",\"type\":\"AllLabels\"},{\"attributes\":{\"data_source\":{\"id\":\"20227\"},\"glyph\":{\"id\":\"20230\"},\"hover_glyph\":null,\"muted_glyph\":{\"id\":\"20232\"},\"nonselection_glyph\":{\"id\":\"20231\"},\"selection_glyph\":{\"id\":\"20248\"},\"view\":{\"id\":\"20234\"}},\"id\":\"20233\",\"type\":\"GlyphRenderer\"},{\"attributes\":{},\"id\":\"20177\",\"type\":\"LinearScale\"},{\"attributes\":{\"fill_alpha\":{\"value\":0.1},\"fill_color\":{\"value\":\"#fc4f30\"},\"line_alpha\":{\"value\":0.1},\"line_color\":{\"value\":\"#fc4f30\"},\"size\":{\"value\":5.477225575051661},\"x\":{\"field\":\"price_change_percentage_14d\"},\"y\":{\"field\":\"price_change_percentage_1y\"}},\"id\":\"20231\",\"type\":\"Scatter\"},{\"attributes\":{\"fill_alpha\":{\"value\":0.2},\"fill_color\":{\"value\":\"#e5ae38\"},\"line_alpha\":{\"value\":0.2},\"line_color\":{\"value\":\"#e5ae38\"},\"size\":{\"value\":5.477225575051661},\"x\":{\"field\":\"price_change_percentage_14d\"},\"y\":{\"field\":\"price_change_percentage_1y\"}},\"id\":\"20254\",\"type\":\"Scatter\"},{\"attributes\":{\"axis\":{\"id\":\"20183\"},\"dimension\":1,\"grid_line_color\":null,\"ticker\":null},\"id\":\"20186\",\"type\":\"Grid\"},{\"attributes\":{\"text\":\"PCA Data for Crypto Clusters - k=4\",\"text_color\":\"black\",\"text_font_size\":\"12pt\"},\"id\":\"20171\",\"type\":\"Title\"},{\"attributes\":{\"callback\":null,\"renderers\":[{\"id\":\"20458\"},{\"id\":\"20479\"},{\"id\":\"20501\"},{\"id\":\"20525\"},{\"id\":\"20551\"}],\"tags\":[\"hv_created\"],\"tooltips\":[[\"crypto_clusters_k5\",\"@{crypto_clusters_k5}\"],[\"price_change_percentage_14d\",\"@{price_change_percentage_14d}\"],[\"price_change_percentage_1y\",\"@{price_change_percentage_1y}\"],[\"coin_id\",\"@{coin_id}\"]]},\"id\":\"20411\",\"type\":\"HoverTool\"},{\"attributes\":{\"data\":{\"coin_id\":[\"ethlend\"],\"crypto_clusters_k4\":[1],\"price_change_percentage_14d\":{\"__ndarray__\":\"RIts5/uZI8A=\",\"dtype\":\"float64\",\"order\":\"little\",\"shape\":[1]},\"price_change_percentage_1y\":{\"__ndarray__\":\"dEaU9hasvkA=\",\"dtype\":\"float64\",\"order\":\"little\",\"shape\":[1]}},\"selected\":{\"id\":\"20228\"},\"selection_policy\":{\"id\":\"20245\"}},\"id\":\"20227\",\"type\":\"ColumnDataSource\"},{\"attributes\":{},\"id\":\"20245\",\"type\":\"UnionRenderers\"},{\"attributes\":{\"axis\":{\"id\":\"20179\"},\"grid_line_color\":null,\"ticker\":null},\"id\":\"20182\",\"type\":\"Grid\"},{\"attributes\":{\"label\":{\"value\":\"2\"},\"renderers\":[{\"id\":\"20255\"}]},\"id\":\"20271\",\"type\":\"LegendItem\"},{\"attributes\":{\"angle\":{\"value\":0.0},\"fill_alpha\":{\"value\":1.0},\"fill_color\":{\"value\":\"#fc4f30\"},\"hatch_alpha\":{\"value\":1.0},\"hatch_color\":{\"value\":\"black\"},\"hatch_scale\":{\"value\":12.0},\"hatch_weight\":{\"value\":1.0},\"line_alpha\":{\"value\":1.0},\"line_cap\":{\"value\":\"butt\"},\"line_color\":{\"value\":\"#fc4f30\"},\"line_dash\":{\"value\":[]},\"line_dash_offset\":{\"value\":0},\"line_join\":{\"value\":\"bevel\"},\"line_width\":{\"value\":1},\"marker\":{\"value\":\"circle\"},\"size\":{\"value\":5.477225575051661},\"x\":{\"field\":\"price_change_percentage_14d\"},\"y\":{\"field\":\"price_change_percentage_1y\"}},\"id\":\"20248\",\"type\":\"Scatter\"},{\"attributes\":{},\"id\":\"20184\",\"type\":\"BasicTicker\"},{\"attributes\":{\"data\":{\"coin_id\":[\"bitcoin\",\"ethereum\",\"bitcoin-cash\",\"binancecoin\",\"chainlink\",\"cardano\",\"litecoin\",\"monero\",\"tezos\",\"cosmos\",\"wrapped-bitcoin\",\"zcash\",\"maker\"],\"crypto_clusters_k5\":[0,0,0,0,0,0,0,0,0,0,0,0,0],\"price_change_percentage_14d\":{\"__ndarray__\":\"zQaZZORMGkB5knTN5DsTQIuJzce1gS1AmC8vwD46G0AKgPEMGpoiQA6EZAETOBZAgJ9x4UAoHUAao3VUNWkyQFSM8zehkAJAQgkzbf8KFkBgWWlSCjoaQAkzbf/KKhdA/pqsUQ/R978=\",\"dtype\":\"float64\",\"order\":\"little\",\"shape\":[13]},\"price_change_percentage_1y\":{\"__ndarray__\":\"kQpjC0HCQkDWqIdodH1ZQM3pspjY/CxA5x2n6EhsUUBpOjsZHFJ0QLosJjYfg2NA+dozSwJUKcDovMYuUaFhQOj2ksZogGFAw7ZFmQ2cVECGG/D5YcRCQF/SGK2juFRAyk+qfTpOJUA=\",\"dtype\":\"float64\",\"order\":\"little\",\"shape\":[13]}},\"selected\":{\"id\":\"20453\"},\"selection_policy\":{\"id\":\"20468\"}},\"id\":\"20452\",\"type\":\"ColumnDataSource\"},{\"attributes\":{\"axis_label\":\"price_change_percentage_1y\",\"formatter\":{\"id\":\"20205\"},\"major_label_policy\":{\"id\":\"20204\"},\"ticker\":{\"id\":\"20184\"}},\"id\":\"20183\",\"type\":\"LinearAxis\"},{\"attributes\":{},\"id\":\"20250\",\"type\":\"Selection\"},{\"attributes\":{\"fill_alpha\":{\"value\":0.1},\"fill_color\":{\"value\":\"#e5ae38\"},\"line_alpha\":{\"value\":0.1},\"line_color\":{\"value\":\"#e5ae38\"},\"size\":{\"value\":5.477225575051661},\"x\":{\"field\":\"price_change_percentage_14d\"},\"y\":{\"field\":\"price_change_percentage_1y\"}},\"id\":\"20253\",\"type\":\"Scatter\"},{\"attributes\":{},\"id\":\"20204\",\"type\":\"AllLabels\"},{\"attributes\":{\"fill_color\":{\"value\":\"#e5ae38\"},\"line_color\":{\"value\":\"#e5ae38\"},\"size\":{\"value\":5.477225575051661},\"x\":{\"field\":\"price_change_percentage_14d\"},\"y\":{\"field\":\"price_change_percentage_1y\"}},\"id\":\"20252\",\"type\":\"Scatter\"},{\"attributes\":{},\"id\":\"20228\",\"type\":\"Selection\"},{\"attributes\":{\"fill_alpha\":{\"value\":0.1},\"fill_color\":{\"value\":\"#6d904f\"},\"line_alpha\":{\"value\":0.1},\"line_color\":{\"value\":\"#6d904f\"},\"size\":{\"value\":5.477225575051661},\"x\":{\"field\":\"price_change_percentage_14d\"},\"y\":{\"field\":\"price_change_percentage_1y\"}},\"id\":\"20277\",\"type\":\"Scatter\"},{\"attributes\":{},\"id\":\"20187\",\"type\":\"SaveTool\"},{\"attributes\":{},\"id\":\"20188\",\"type\":\"PanTool\"},{\"attributes\":{\"data\":{\"coin_id\":[\"celsius-degree-token\"],\"crypto_clusters_k4\":[2],\"price_change_percentage_14d\":{\"__ndarray__\":\"vodLjjs9OEA=\",\"dtype\":\"float64\",\"order\":\"little\",\"shape\":[1]},\"price_change_percentage_1y\":{\"__ndarray__\":\"nFCIgONmn0A=\",\"dtype\":\"float64\",\"order\":\"little\",\"shape\":[1]}},\"selected\":{\"id\":\"20250\"},\"selection_policy\":{\"id\":\"20269\"}},\"id\":\"20249\",\"type\":\"ColumnDataSource\"},{\"attributes\":{\"data\":{\"coin_id\":[\"bitcoin\",\"ethereum\",\"bitcoin-cash\",\"binancecoin\",\"chainlink\",\"cardano\",\"litecoin\",\"monero\",\"tezos\",\"cosmos\",\"wrapped-bitcoin\",\"zcash\",\"maker\"],\"crypto_clusters_k4\":[0,0,0,0,0,0,0,0,0,0,0,0,0],\"price_change_percentage_14d\":{\"__ndarray__\":\"zQaZZORMGkB5knTN5DsTQIuJzce1gS1AmC8vwD46G0AKgPEMGpoiQA6EZAETOBZAgJ9x4UAoHUAao3VUNWkyQFSM8zehkAJAQgkzbf8KFkBgWWlSCjoaQAkzbf/KKhdA/pqsUQ/R978=\",\"dtype\":\"float64\",\"order\":\"little\",\"shape\":[13]},\"price_change_percentage_1y\":{\"__ndarray__\":\"kQpjC0HCQkDWqIdodH1ZQM3pspjY/CxA5x2n6EhsUUBpOjsZHFJ0QLosJjYfg2NA+dozSwJUKcDovMYuUaFhQOj2ksZogGFAw7ZFmQ2cVECGG/D5YcRCQF/SGK2juFRAyk+qfTpOJUA=\",\"dtype\":\"float64\",\"order\":\"little\",\"shape\":[13]}},\"selected\":{\"id\":\"20207\"},\"selection_policy\":{\"id\":\"20222\"}},\"id\":\"20206\",\"type\":\"ColumnDataSource\"},{\"attributes\":{},\"id\":\"20189\",\"type\":\"WheelZoomTool\"},{\"attributes\":{},\"id\":\"20269\",\"type\":\"UnionRenderers\"},{\"attributes\":{\"active_multi\":null,\"tools\":[{\"id\":\"20166\"},{\"id\":\"20187\"},{\"id\":\"20188\"},{\"id\":\"20189\"},{\"id\":\"20190\"},{\"id\":\"20191\"}]},\"id\":\"20193\",\"type\":\"Toolbar\"},{\"attributes\":{\"overlay\":{\"id\":\"20192\"}},\"id\":\"20190\",\"type\":\"BoxZoomTool\"},{\"attributes\":{\"data_source\":{\"id\":\"20249\"},\"glyph\":{\"id\":\"20252\"},\"hover_glyph\":null,\"muted_glyph\":{\"id\":\"20254\"},\"nonselection_glyph\":{\"id\":\"20253\"},\"selection_glyph\":{\"id\":\"20272\"},\"view\":{\"id\":\"20256\"}},\"id\":\"20255\",\"type\":\"GlyphRenderer\"},{\"attributes\":{\"source\":{\"id\":\"20249\"}},\"id\":\"20256\",\"type\":\"CDSView\"},{\"attributes\":{\"fill_color\":{\"value\":\"#6d904f\"},\"line_color\":{\"value\":\"#6d904f\"},\"size\":{\"value\":5.477225575051661},\"x\":{\"field\":\"price_change_percentage_14d\"},\"y\":{\"field\":\"price_change_percentage_1y\"}},\"id\":\"20276\",\"type\":\"Scatter\"},{\"attributes\":{\"label\":{\"value\":\"1\"},\"renderers\":[{\"id\":\"20233\"}]},\"id\":\"20247\",\"type\":\"LegendItem\"},{\"attributes\":{},\"id\":\"20191\",\"type\":\"ResetTool\"},{\"attributes\":{\"angle\":{\"value\":0.0},\"fill_alpha\":{\"value\":1.0},\"fill_color\":{\"value\":\"#e5ae38\"},\"hatch_alpha\":{\"value\":1.0},\"hatch_color\":{\"value\":\"black\"},\"hatch_scale\":{\"value\":12.0},\"hatch_weight\":{\"value\":1.0},\"line_alpha\":{\"value\":1.0},\"line_cap\":{\"value\":\"butt\"},\"line_color\":{\"value\":\"#e5ae38\"},\"line_dash\":{\"value\":[]},\"line_dash_offset\":{\"value\":0},\"line_join\":{\"value\":\"bevel\"},\"line_width\":{\"value\":1},\"marker\":{\"value\":\"circle\"},\"size\":{\"value\":5.477225575051661},\"x\":{\"field\":\"price_change_percentage_14d\"},\"y\":{\"field\":\"price_change_percentage_1y\"}},\"id\":\"20272\",\"type\":\"Scatter\"},{\"attributes\":{\"click_policy\":\"mute\",\"items\":[{\"id\":\"20225\"},{\"id\":\"20247\"},{\"id\":\"20271\"},{\"id\":\"20297\"}],\"location\":[0,0],\"title\":\"crypto_clusters_k4\"},\"id\":\"20224\",\"type\":\"Legend\"},{\"attributes\":{\"fill_alpha\":{\"value\":0.2},\"fill_color\":{\"value\":\"#30a2da\"},\"line_alpha\":{\"value\":0.2},\"line_color\":{\"value\":\"#30a2da\"},\"size\":{\"value\":5.477225575051661},\"x\":{\"field\":\"price_change_percentage_14d\"},\"y\":{\"field\":\"price_change_percentage_1y\"}},\"id\":\"20211\",\"type\":\"Scatter\"},{\"attributes\":{},\"id\":\"20222\",\"type\":\"UnionRenderers\"},{\"attributes\":{\"data_source\":{\"id\":\"20206\"},\"glyph\":{\"id\":\"20209\"},\"hover_glyph\":null,\"muted_glyph\":{\"id\":\"20211\"},\"nonselection_glyph\":{\"id\":\"20210\"},\"selection_glyph\":{\"id\":\"20226\"},\"view\":{\"id\":\"20213\"}},\"id\":\"20212\",\"type\":\"GlyphRenderer\"},{\"attributes\":{\"label\":{\"value\":\"0\"},\"renderers\":[{\"id\":\"20212\"}]},\"id\":\"20225\",\"type\":\"LegendItem\"},{\"attributes\":{\"source\":{\"id\":\"20206\"}},\"id\":\"20213\",\"type\":\"CDSView\"},{\"attributes\":{\"data\":{\"coin_id\":[\"tether\",\"ripple\",\"bitcoin-cash-sv\",\"crypto-com-chain\",\"usd-coin\",\"eos\",\"tron\",\"okb\",\"stellar\",\"cdai\",\"neo\",\"leo-token\",\"huobi-token\",\"nem\",\"binance-usd\",\"iota\",\"vechain\",\"theta-token\",\"dash\",\"ethereum-classic\",\"havven\",\"omisego\",\"ontology\",\"ftx-token\",\"true-usd\",\"digibyte\"],\"crypto_clusters_k4\":[3,3,3,3,3,3,3,3,3,3,3,3,3,3,3,3,3,3,3,3,3,3,3,3,3,3],\"price_change_percentage_14d\":{\"__ndarray__\":\"LUMc6+I2ej9y3CkdrP8BQCFZwARu3f2/MbH5uDYUIcBrSNxj6UN3v6X3ja89M/I/FQDjGTR09j+XrfVFQhsUwKpla32RUPG/z4O7s3bbxT/DDfj8MLIjwHf4a7JGHRzAza/mAMEc3T+OWItPATAFQNatnpPeN64/uk4jLZU3DsCbVZ+rrSgywJfK2xFOSxrAQE0tW+uL4D9OucK7XET0vy9pjNZRlSrAO1PovMZuKsByUMJM2x8lwJ30vvG1Z8q/ZCMQr+sXvD+7D0BqE0cdwA==\",\"dtype\":\"float64\",\"order\":\"little\",\"shape\":[26]},\"price_change_percentage_1y\":{\"__ndarray__\":\"3/jaM0sClD81e6AVGJowwNDQP8HFbldAkL3e/fEQc0C+MJkqGJXIv7d/ZaVJkTHAQ8pPqn2eTUBdUN8yp75hQMzuycNCnStAB7Ezhc5r0r8f9GxWfWlgQA39E1ysADVA3xXB/1aSOEBLsDic+RZpQBVSflLt08E/NSTusfThD8AiwyreyFtpQPyMCwcC64VAzsKedvirA8Dwoq8gzTgmQN+JWS9GNoVAR8mrcwwLdECsVib8Uk8pwNttF5rrC2VAyXGndLD+2T/ZfFwbKgxnQA==\",\"dtype\":\"float64\",\"order\":\"little\",\"shape\":[26]}},\"selected\":{\"id\":\"20274\"},\"selection_policy\":{\"id\":\"20295\"}},\"id\":\"20273\",\"type\":\"ColumnDataSource\"},{\"attributes\":{\"fill_alpha\":{\"value\":0.2},\"fill_color\":{\"value\":\"#6d904f\"},\"line_alpha\":{\"value\":0.2},\"line_color\":{\"value\":\"#6d904f\"},\"size\":{\"value\":5.477225575051661},\"x\":{\"field\":\"price_change_percentage_14d\"},\"y\":{\"field\":\"price_change_percentage_1y\"}},\"id\":\"20278\",\"type\":\"Scatter\"}],\"root_ids\":[\"20162\"]},\"title\":\"Bokeh Application\",\"version\":\"2.3.2\"}};\n",
       "    var render_items = [{\"docid\":\"40129953-b6ff-435e-914a-3ec145fe487e\",\"root_ids\":[\"20162\"],\"roots\":{\"20162\":\"f669e6dd-04e0-4007-9648-fe1c1e38f159\"}}];\n",
       "    root.Bokeh.embed.embed_items_notebook(docs_json, render_items);\n",
       "  }\n",
       "  if (root.Bokeh !== undefined && root.Bokeh.Panel !== undefined) {\n",
       "    embed_document(root);\n",
       "  } else {\n",
       "    var attempts = 0;\n",
       "    var timer = setInterval(function(root) {\n",
       "      if (root.Bokeh !== undefined && root.Bokeh.Panel !== undefined) {\n",
       "        clearInterval(timer);\n",
       "        embed_document(root);\n",
       "      } else if (document.readyState == \"complete\") {\n",
       "        attempts++;\n",
       "        if (attempts > 100) {\n",
       "          clearInterval(timer);\n",
       "          console.log(\"Bokeh: ERROR: Unable to run BokehJS code because BokehJS library is missing\");\n",
       "        }\n",
       "      }\n",
       "    }, 10, root)\n",
       "  }\n",
       "})(window);</script>"
      ],
      "text/plain": [
       ":Layout\n",
       "   .NdOverlay.I  :NdOverlay   [crypto_clusters_k4]\n",
       "      :Scatter   [price_change_percentage_14d]   (price_change_percentage_1y,coin_id)\n",
       "   .NdOverlay.II :NdOverlay   [crypto_clusters_k5]\n",
       "      :Scatter   [price_change_percentage_14d]   (price_change_percentage_1y,coin_id)"
      ]
     },
     "execution_count": 233,
     "metadata": {
      "application/vnd.holoviews_exec.v0+json": {
       "id": "20162"
      }
     },
     "output_type": "execute_result"
    }
   ],
   "source": [
    "# Compare both scatter plots\n",
    "\n",
    "scatter_plot_k4 + scatter_plot_k5"
   ]
  },
  {
   "cell_type": "markdown",
   "metadata": {},
   "source": [
    "Answer the following question: What value of k creates the most accurate clusters of cryptocurrencies, grouped by profitability?\n",
    "\n",
    "**Question:** What value of `k` seems to create the most accurate clusters to group cryptocurrencies according to their profitability?\n",
    "\n",
    "**Answer:** The most accurate clusters to group cryptocurrencies according to their probability, the value of 'k' is 5."
   ]
  },
  {
   "cell_type": "code",
   "execution_count": 234,
   "metadata": {},
   "outputs": [
    {
     "data": {
      "text/plain": [
       "array([0, 0, 3, 3, 0, 0, 0, 0, 0, 3, 3, 3, 3, 0, 3, 0, 3, 3, 0, 3, 3, 0,\n",
       "       3, 3, 3, 3, 3, 3, 0, 3, 3, 3, 1, 0, 3, 3, 2, 3, 3, 3, 3],\n",
       "      dtype=int32)"
      ]
     },
     "execution_count": 234,
     "metadata": {},
     "output_type": "execute_result"
    }
   ],
   "source": [
    "crypto_clusters_k4"
   ]
  },
  {
   "cell_type": "code",
   "execution_count": 235,
   "metadata": {},
   "outputs": [
    {
     "data": {
      "text/plain": [
       "array([0, 0, 1, 1, 0, 0, 0, 0, 0, 1, 1, 1, 1, 0, 1, 0, 1, 1, 0, 1, 1, 0,\n",
       "       1, 1, 4, 1, 1, 1, 0, 4, 1, 1, 2, 0, 1, 4, 3, 1, 1, 1, 1],\n",
       "      dtype=int32)"
      ]
     },
     "execution_count": 235,
     "metadata": {},
     "output_type": "execute_result"
    }
   ],
   "source": [
    "crypto_clusters_k5"
   ]
  },
  {
   "cell_type": "code",
   "execution_count": null,
   "metadata": {},
   "outputs": [],
   "source": []
  }
 ],
 "metadata": {
  "kernelspec": {
   "display_name": "dev",
   "language": "python",
   "name": "dev"
  },
  "language_info": {
   "codemirror_mode": {
    "name": "ipython",
    "version": 3
   },
   "file_extension": ".py",
   "mimetype": "text/x-python",
   "name": "python",
   "nbconvert_exporter": "python",
   "pygments_lexer": "ipython3",
   "version": "3.7.10"
  }
 },
 "nbformat": 4,
 "nbformat_minor": 4
}
